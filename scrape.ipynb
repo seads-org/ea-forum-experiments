{
 "cells": [
  {
   "cell_type": "code",
   "execution_count": 7,
   "id": "40c9c756-aec5-4e38-8288-75b5fe4248e4",
   "metadata": {},
   "outputs": [
    {
     "name": "stdout",
     "output_type": "stream",
     "text": [
      "The autoreload extension is already loaded. To reload it, use:\n",
      "  %reload_ext autoreload\n"
     ]
    }
   ],
   "source": [
    "%load_ext autoreload\n",
    "%autoreload 2\n",
    "\n",
    "import json\n",
    "import pandas as pd\n",
    "from pandas import DataFrame\n",
    "from bs4 import BeautifulSoup\n",
    "\n",
    "from src.forum_gql_utils import *\n",
    "\n",
    "from tqdm.auto import tqdm\n",
    "tqdm.pandas()"
   ]
  },
  {
   "cell_type": "markdown",
   "id": "3e0bf974-273e-4375-ba8f-d8a7f0096019",
   "metadata": {},
   "source": [
    "See https://forum.effectivealtruism.org/graphiql for interactive version and https://www.lesswrong.com/posts/LJiGhpq8w4Badr5KJ/graphql-tutorial-for-lesswrong-and-effective-altruism-forum for a manual."
   ]
  },
  {
   "cell_type": "markdown",
   "id": "9970a0dc",
   "metadata": {},
   "source": [
    "## Scrape"
   ]
  },
  {
   "cell_type": "markdown",
   "id": "331c2f24",
   "metadata": {},
   "source": [
    "### Posts"
   ]
  },
  {
   "cell_type": "code",
   "execution_count": 6,
   "id": "ac3664ea",
   "metadata": {},
   "outputs": [
    {
     "name": "stderr",
     "output_type": "stream",
     "text": [
      "100%|██████████| 15/15 [01:16<00:00,  5.08s/it]\n"
     ]
    },
    {
     "data": {
      "text/plain": [
       "10898"
      ]
     },
     "execution_count": 6,
     "metadata": {},
     "output_type": "execute_result"
    }
   ],
   "source": [
    "posts = scrape_forum(content='posts', url=EA_GQL_URL, limit=15000, step=1000)\n",
    "len(posts)"
   ]
  },
  {
   "cell_type": "code",
   "execution_count": 8,
   "id": "0d937312",
   "metadata": {},
   "outputs": [],
   "source": [
    "post_df = DataFrame(posts).set_index('_id')\n",
    "post_df['tags'] = post_df.tags.map(lambda x: [v['name'] for v in x])\n",
    "post_df['postedAt'] = pd.to_datetime(post_df['postedAt'])"
   ]
  },
  {
   "cell_type": "code",
   "execution_count": 10,
   "id": "727c312e",
   "metadata": {},
   "outputs": [
    {
     "data": {
      "image/png": "[encoded data removed]",
      "text/plain": [
       "<Figure size 432x288 with 1 Axes>"
      ]
     },
     "metadata": {
      "needs_background": "light"
     },
     "output_type": "display_data"
    }
   ],
   "source": [
    "post_df[post_df.postedAt > post_df.postedAt.min()].postedAt.hist(bins=100); # remove 1970"
   ]
  },
  {
   "cell_type": "code",
   "execution_count": 11,
   "id": "3c22d4dd",
   "metadata": {},
   "outputs": [
    {
     "name": "stderr",
     "output_type": "stream",
     "text": [
      "100%|██████████| 10898/10898 [01:18<00:00, 139.21it/s]\n"
     ]
    }
   ],
   "source": [
    "post_df['body'] = post_df.htmlBody.progress_map(lambda h: BeautifulSoup(h, features=\"html.parser\").get_text())"
   ]
  },
  {
   "cell_type": "code",
   "execution_count": 13,
   "id": "57b3223b",
   "metadata": {},
   "outputs": [],
   "source": [
    "post_df.to_csv('./data/posts.csv')"
   ]
  },
  {
   "cell_type": "markdown",
   "id": "448100e8",
   "metadata": {},
   "source": [
    "### Users"
   ]
  },
  {
   "cell_type": "code",
   "execution_count": 20,
   "id": "902e5dd1",
   "metadata": {},
   "outputs": [
    {
     "name": "stderr",
     "output_type": "stream",
     "text": [
      "100%|██████████| 6/6 [00:52<00:00,  8.68s/it]\n"
     ]
    },
    {
     "data": {
      "text/plain": [
       "24512"
      ]
     },
     "execution_count": 20,
     "metadata": {},
     "output_type": "execute_result"
    }
   ],
   "source": [
    "users = scrape_forum(content='users', url=EA_GQL_URL, limit=30000)\n",
    "len(users)"
   ]
  },
  {
   "cell_type": "code",
   "execution_count": 21,
   "id": "531a18fa",
   "metadata": {},
   "outputs": [],
   "source": [
    "user_df = DataFrame(users).set_index('_id')\n",
    "user_df.to_csv('./data/users.csv')"
   ]
  },
  {
   "cell_type": "markdown",
   "id": "d87370a1",
   "metadata": {},
   "source": [
    "### Comments"
   ]
  },
  {
   "cell_type": "code",
   "execution_count": 28,
   "id": "c3957491",
   "metadata": {},
   "outputs": [
    {
     "name": "stderr",
     "output_type": "stream",
     "text": [
      "100%|██████████| 40/40 [04:56<00:00,  7.40s/it]\n"
     ]
    },
    {
     "data": {
      "text/plain": [
       "103559"
      ]
     },
     "execution_count": 28,
     "metadata": {},
     "output_type": "execute_result"
    }
   ],
   "source": [
    "comments = scrape_forum(content='comments', url=EA_GQL_URL, limit=200000)\n",
    "len(comments)"
   ]
  },
  {
   "cell_type": "code",
   "execution_count": 50,
   "id": "a00a6021",
   "metadata": {},
   "outputs": [],
   "source": [
    "comments_df = DataFrame(comments).set_index('_id')\n",
    "comments_df = comments_df[(~comments_df.user.isna()) & (~comments_df.htmlBody.isna())]\n",
    "\n",
    "comments_df['username'] = comments_df.user.map(lambda x: x['username'])\n",
    "comments_df['userId'] = comments_df.user.map(lambda x: x['_id'])\n",
    "del comments_df['user']\n",
    "\n",
    "comments_df['allVotes'] = comments_df['allVotes'].map(lambda x: ','.join([v['voteType'] for v in x]))"
   ]
  },
  {
   "cell_type": "code",
   "execution_count": 51,
   "id": "b17ca674",
   "metadata": {},
   "outputs": [
    {
     "name": "stderr",
     "output_type": "stream",
     "text": [
      " 85%|████████▍ | 87230/103119 [00:39<00:06, 2395.59it/s]/home/vpetukhov/local/miniconda3/envs/scrapping/lib/python3.8/site-packages/bs4/__init__.py:332: MarkupResemblesLocatorWarning: \".\" looks like a filename, not markup. You should probably open this file and pass the filehandle into Beautiful Soup.\n",
      "  warnings.warn(\n",
      "100%|██████████| 103119/103119 [00:45<00:00, 2272.91it/s]\n"
     ]
    }
   ],
   "source": [
    "comments_df['body'] = comments_df.htmlBody.progress_map(lambda h: BeautifulSoup(h, features=\"html.parser\").get_text())"
   ]
  },
  {
   "cell_type": "code",
   "execution_count": 52,
   "id": "4ceabd90-b4f8-4499-ad4b-4ec929cf95c6",
   "metadata": {},
   "outputs": [],
   "source": [
    "comments_df.to_csv('./data/comments.csv')"
   ]
  }
 ],
 "metadata": {
  "kernelspec": {
   "display_name": "Scrapping",
   "language": "python",
   "name": "scrapping"
  },
  "language_info": {
   "codemirror_mode": {
    "name": "ipython",
    "version": 3
   },
   "file_extension": ".py",
   "mimetype": "text/x-python",
   "name": "python",
   "nbconvert_exporter": "python",
   "pygments_lexer": "ipython3",
   "version": "3.8.13"
  }
 },
 "nbformat": 4,
 "nbformat_minor": 5
}
