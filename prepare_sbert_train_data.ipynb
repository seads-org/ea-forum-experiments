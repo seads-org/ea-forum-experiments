{
 "cells": [
  {
   "cell_type": "markdown",
   "metadata": {},
   "source": [
    "This notebook extracts well-tagged posts and splits them over chunks no more than 300 words, trying to preserve paragraph structure."
   ]
  },
  {
   "cell_type": "code",
   "execution_count": 1,
   "metadata": {},
   "outputs": [],
   "source": [
    "%load_ext autoreload\n",
    "%autoreload 2\n",
    "\n",
    "import matplotlib.pyplot as plt\n",
    "import numpy as np\n",
    "import re\n",
    "import pandas as pd\n",
    "from pandas import DataFrame,Series\n",
    "import seaborn as sns\n",
    "from tqdm.auto import tqdm\n",
    "import json\n",
    "\n",
    "from src.parsing import read_post_data, get_html_parser\n",
    "from src.text_split import extract_paragraphs, split_long_paragraphs, collapse_paragraphs_iteratively\n",
    "\n",
    "sns.set_theme(style=\"whitegrid\")\n",
    "tqdm.pandas()"
   ]
  },
  {
   "cell_type": "code",
   "execution_count": 47,
   "metadata": {},
   "outputs": [
    {
     "data": {
      "text/plain": [
       "(10779, 14)"
      ]
     },
     "execution_count": 47,
     "metadata": {},
     "output_type": "execute_result"
    }
   ],
   "source": [
    "data = read_post_data('./data/posts.csv')\n",
    "data = data[data.htmlBody.notna()]\n",
    "# data = data[(data.tags.map(len) > 4) & (data.tags.map(len) < 10)]\n",
    "data.shape"
   ]
  },
  {
   "cell_type": "code",
   "execution_count": 48,
   "metadata": {},
   "outputs": [
    {
     "data": {
      "text/plain": [
       "2124"
      ]
     },
     "execution_count": 48,
     "metadata": {},
     "output_type": "execute_result"
    }
   ],
   "source": [
    "n_posts_per_tag = pd.value_counts(np.concatenate(data.tags.values))\n",
    "sel_tags = set(n_posts_per_tag.index[n_posts_per_tag >= 30])\n",
    "data['tags'] = data.tags.map(lambda ts: list(set(ts) & sel_tags))\n",
    "data = data[(data.tags.map(len) >= 4) & (data.tags.map(len) < 10)]\n",
    "data.shape[0]"
   ]
  },
  {
   "cell_type": "code",
   "execution_count": 49,
   "metadata": {},
   "outputs": [
    {
     "data": {
      "application/vnd.jupyter.widget-view+json": {
       "model_id": "64d6239fc1014ec2a5e1543a9d8ab30a",
       "version_major": 2,
       "version_minor": 0
      },
      "text/plain": [
       "  0%|          | 0/2124 [00:00<?, ?it/s]"
      ]
     },
     "metadata": {},
     "output_type": "display_data"
    }
   ],
   "source": [
    "h2t = get_html_parser()\n",
    "data['body'] = data.htmlBody.progress_map(h2t.handle).map(str.strip)\n",
    "data = data[data['body'].map(len) > 50]"
   ]
  },
  {
   "cell_type": "code",
   "execution_count": 51,
   "metadata": {},
   "outputs": [
    {
     "data": {
      "application/vnd.jupyter.widget-view+json": {
       "model_id": "4cc17dd7eeb7455e84ab7495cb7301f7",
       "version_major": 2,
       "version_minor": 0
      },
      "text/plain": [
       "  0%|          | 0/2123 [00:00<?, ?it/s]"
      ]
     },
     "metadata": {},
     "output_type": "display_data"
    },
    {
     "data": {
      "application/vnd.jupyter.widget-view+json": {
       "model_id": "af05e46e0567424591e0467f06625c08",
       "version_major": 2,
       "version_minor": 0
      },
      "text/plain": [
       "  0%|          | 0/2123 [00:00<?, ?it/s]"
      ]
     },
     "metadata": {},
     "output_type": "display_data"
    },
    {
     "data": {
      "application/vnd.jupyter.widget-view+json": {
       "model_id": "b110806617dc49eca7839907645f6e1b",
       "version_major": 2,
       "version_minor": 0
      },
      "text/plain": [
       "  0%|          | 0/2123 [00:00<?, ?it/s]"
      ]
     },
     "metadata": {},
     "output_type": "display_data"
    }
   ],
   "source": [
    "max_n_words = 300\n",
    "data['paragraphs'] = data.body.progress_map(extract_paragraphs)\n",
    "data['paragraphs'] = data.paragraphs.progress_map(lambda p: split_long_paragraphs(p, max_n_words=max_n_words))\n",
    "data['paragraphs_split'] = data.paragraphs.progress_map(lambda x: collapse_paragraphs_iteratively(x, max_n_words=max_n_words))"
   ]
  },
  {
   "cell_type": "code",
   "execution_count": 52,
   "metadata": {},
   "outputs": [
    {
     "data": {
      "text/plain": [
       "(31347, 3)"
      ]
     },
     "execution_count": 52,
     "metadata": {},
     "output_type": "execute_result"
    }
   ],
   "source": [
    "par_split_df = pd.concat([\n",
    "    DataFrame({'postId': pid, 'tags': \";\".join(r.tags), 'text': r.paragraphs_split.text.values}) \n",
    "    for pid,r in data.iterrows()\n",
    "], ignore_index=True)\n",
    "par_split_df.shape"
   ]
  },
  {
   "cell_type": "code",
   "execution_count": 11,
   "metadata": {},
   "outputs": [],
   "source": [
    "# data.to_pickle('./cache/posts_paragraphs.pkl')"
   ]
  },
  {
   "cell_type": "code",
   "execution_count": 23,
   "metadata": {},
   "outputs": [],
   "source": [
    "# par_split_df.to_csv('./cache/par_split_df.csv', index=False)"
   ]
  },
  {
   "cell_type": "code",
   "execution_count": 53,
   "metadata": {},
   "outputs": [],
   "source": [
    "np.random.seed(42)\n",
    "all_posts = par_split_df.postId.unique()\n",
    "dev_posts = np.random.choice(all_posts, size=int(all_posts.size * 0.1), replace=False)\n",
    "\n",
    "train_pars = par_split_df[~par_split_df.postId.isin(dev_posts)]\n",
    "dev_pars = par_split_df[par_split_df.postId.isin(dev_posts)]"
   ]
  },
  {
   "cell_type": "code",
   "execution_count": 61,
   "metadata": {},
   "outputs": [],
   "source": [
    "def jaccard_similarity(a:set, b:set):\n",
    "    return len(a & b) / len(a | b)\n",
    "\n",
    "\n",
    "def extract_paired_posts(post_id:str, selected_sims:np.ndarray, tags_per_post:Series, n_texts_per_post:int=1):\n",
    "    t1 = tags_per_post[post_id]\n",
    "    sims = tags_per_post.map(lambda t2: jaccard_similarity(t1, t2))\n",
    "    freqs = [(1 - np.abs(sims - s)) ** 30 for s in selected_sims] # 30 is a severe penalty for distance. Adjusts for class imbalance.\n",
    "    sel_posts = np.concatenate([\n",
    "        np.random.choice(fs.index.values, p=(fs.values / fs.sum()), size=n_texts_per_post, replace=True) \n",
    "        for fs in freqs\n",
    "    ])\n",
    "\n",
    "    return sel_posts, sims[sel_posts].values\n",
    "\n",
    "\n",
    "def extract_text_distance_pairs(df:DataFrame, tags_per_post:Series, n_pairs_per_text:int, n_texts_per_post:int=1):\n",
    "    selected_sims = np.linspace(0, 1, n_pairs_per_text)\n",
    "\n",
    "    texts_per_post = df.text.groupby(df.postId).apply(np.array)\n",
    "    tags_per_post = tags_per_post[texts_per_post.index]\n",
    "    texts_per_post = dict(texts_per_post)\n",
    "\n",
    "    pair_dfs = []\n",
    "    for pid,texts in tqdm(texts_per_post.items(), total=len(texts_per_post)):\n",
    "        src_texts = np.random.choice(texts, size=(n_texts_per_post * n_pairs_per_text), replace=True)\n",
    "        dst_pids, dst_sims = extract_paired_posts(\n",
    "            pid, selected_sims=selected_sims, tags_per_post=tags_per_post, \n",
    "            n_texts_per_post=n_texts_per_post\n",
    "        )\n",
    "        dst_texts = np.concatenate([np.random.choice(texts_per_post[pid], size=1, replace=True) for pid in dst_pids])\n",
    "        pair_dfs.append(DataFrame({'src_text': src_texts, 'dst_text': dst_texts, 'src_post_id': pid, 'dst_post_id': dst_pids, 'sims': dst_sims}))\n",
    "    \n",
    "    pair_df = pd.concat(pair_dfs, ignore_index=True)\n",
    "    pair_df = pair_df[~pair_df[['src_text', 'dst_text']].duplicated()]\n",
    "    reverse_pairs = set(pair_df.dst_text + ' ' + pair_df.src_text)\n",
    "    reverse_mask = np.array([(t in reverse_pairs) for t in (pair_df.src_text + ' ' + pair_df.dst_text)])\n",
    "    pair_df = pair_df[~reverse_mask]\n",
    "\n",
    "    return pair_df.reset_index(drop=True)"
   ]
  },
  {
   "cell_type": "code",
   "execution_count": 55,
   "metadata": {},
   "outputs": [],
   "source": [
    "tags_per_post = data.tags[all_posts].map(set)"
   ]
  },
  {
   "cell_type": "code",
   "execution_count": 65,
   "metadata": {},
   "outputs": [
    {
     "data": {
      "application/vnd.jupyter.widget-view+json": {
       "model_id": "77a8cac7331646bba5750f21fd6e117d",
       "version_major": 2,
       "version_minor": 0
      },
      "text/plain": [
       "  0%|          | 0/1911 [00:00<?, ?it/s]"
      ]
     },
     "metadata": {},
     "output_type": "display_data"
    },
    {
     "data": {
      "text/plain": [
       "(171847, 5)"
      ]
     },
     "execution_count": 65,
     "metadata": {},
     "output_type": "execute_result"
    }
   ],
   "source": [
    "train_pair_df = extract_text_distance_pairs(train_pars, tags_per_post, n_pairs_per_text=12, n_texts_per_post=10)\n",
    "train_pair_df.shape"
   ]
  },
  {
   "cell_type": "code",
   "execution_count": 66,
   "metadata": {},
   "outputs": [
    {
     "data": {
      "image/png": "[encoded data removed]",
      "text/plain": [
       "<Figure size 640x480 with 1 Axes>"
      ]
     },
     "metadata": {},
     "output_type": "display_data"
    }
   ],
   "source": [
    "train_pair_df.sims.hist(bins=30);\n",
    "plt.xlabel('Jaccard similarity'); plt.ylabel('Num. of pairs');"
   ]
  },
  {
   "cell_type": "code",
   "execution_count": 68,
   "metadata": {},
   "outputs": [
    {
     "data": {
      "application/vnd.jupyter.widget-view+json": {
       "model_id": "b1c248b23935404b97d074bba76a1e6e",
       "version_major": 2,
       "version_minor": 0
      },
      "text/plain": [
       "  0%|          | 0/212 [00:00<?, ?it/s]"
      ]
     },
     "metadata": {},
     "output_type": "display_data"
    },
    {
     "data": {
      "text/plain": [
       "(4072, 5)"
      ]
     },
     "execution_count": 68,
     "metadata": {},
     "output_type": "execute_result"
    }
   ],
   "source": [
    "dev_pair_df = extract_text_distance_pairs(dev_pars, tags_per_post, n_pairs_per_text=12, n_texts_per_post=2)\n",
    "dev_pair_df.shape"
   ]
  },
  {
   "cell_type": "code",
   "execution_count": 69,
   "metadata": {},
   "outputs": [],
   "source": [
    "train_pair_df.to_csv('./cache/train_pair_df_tags_filt.csv', index=False)\n",
    "dev_pair_df.to_csv('./cache/dev_pair_df_tags_filt.csv', index=False)"
   ]
  },
  {
   "cell_type": "code",
   "execution_count": 7,
   "metadata": {},
   "outputs": [],
   "source": [
    "dev_pair_df = pd.read_csv('./cache/dev_pair_df_tags_filt.csv')"
   ]
  },
  {
   "cell_type": "code",
   "execution_count": 9,
   "metadata": {},
   "outputs": [
    {
     "data": {
      "text/html": [
       "Finishing last run (ID:2ah67e9d) before initializing another..."
      ],
      "text/plain": [
       "<IPython.core.display.HTML object>"
      ]
     },
     "metadata": {},
     "output_type": "display_data"
    },
    {
     "data": {
      "text/html": [
       "Waiting for W&B process to finish... <strong style=\"color:green\">(success).</strong>"
      ],
      "text/plain": [
       "<IPython.core.display.HTML object>"
      ]
     },
     "metadata": {},
     "output_type": "display_data"
    },
    {
     "data": {
      "application/vnd.jupyter.widget-view+json": {
       "model_id": "1575f8775c1d440fb6389e328111d86b",
       "version_major": 2,
       "version_minor": 0
      },
      "text/plain": [
       "VBox(children=(Label(value='0.001 MB of 0.013 MB uploaded (0.000 MB deduped)\\r'), FloatProgress(value=0.055696…"
      ]
     },
     "metadata": {},
     "output_type": "display_data"
    },
    {
     "data": {
      "text/html": [
       "Synced <strong style=\"color:#cdcd00\">volcanic-leaf-1</strong>: <a href=\"https://wandb.ai/vpetukhov/ea-forum-analysis/runs/2ah67e9d\" target=\"_blank\">https://wandb.ai/vpetukhov/ea-forum-analysis/runs/2ah67e9d</a><br/>Synced 5 W&B file(s), 0 media file(s), 0 artifact file(s) and 0 other file(s)"
      ],
      "text/plain": [
       "<IPython.core.display.HTML object>"
      ]
     },
     "metadata": {},
     "output_type": "display_data"
    },
    {
     "data": {
      "text/html": [
       "Find logs at: <code>./wandb/run-20221104_002327-2ah67e9d/logs</code>"
      ],
      "text/plain": [
       "<IPython.core.display.HTML object>"
      ]
     },
     "metadata": {},
     "output_type": "display_data"
    },
    {
     "data": {
      "text/html": [
       "Successfully finished last run (ID:2ah67e9d). Initializing new run:<br/>"
      ],
      "text/plain": [
       "<IPython.core.display.HTML object>"
      ]
     },
     "metadata": {},
     "output_type": "display_data"
    },
    {
     "data": {
      "application/vnd.jupyter.widget-view+json": {
       "model_id": "f4d51aa56687442db51cc4631ee0f7cd",
       "version_major": 2,
       "version_minor": 0
      },
      "text/plain": [
       "VBox(children=(Label(value='Waiting for wandb.init()...\\r'), FloatProgress(value=0.01666997313295724, max=1.0)…"
      ]
     },
     "metadata": {},
     "output_type": "display_data"
    },
    {
     "data": {
      "text/html": [
       "Tracking run with wandb version 0.13.4"
      ],
      "text/plain": [
       "<IPython.core.display.HTML object>"
      ]
     },
     "metadata": {},
     "output_type": "display_data"
    },
    {
     "data": {
      "text/html": [
       "Run data is saved locally in <code>/home/vpetukhov/other/Consulting/SEADS/EAForumExperiments/wandb/run-20221104_002455-3gy5z0lx</code>"
      ],
      "text/plain": [
       "<IPython.core.display.HTML object>"
      ]
     },
     "metadata": {},
     "output_type": "display_data"
    },
    {
     "data": {
      "text/html": [
       "Syncing run <strong><a href=\"https://wandb.ai/vpetukhov/ea-forum-analysis/runs/3gy5z0lx\" target=\"_blank\">legendary-deluge-2</a></strong> to <a href=\"https://wandb.ai/vpetukhov/ea-forum-analysis\" target=\"_blank\">Weights & Biases</a> (<a href=\"https://wandb.me/run\" target=\"_blank\">docs</a>)<br/>"
      ],
      "text/plain": [
       "<IPython.core.display.HTML object>"
      ]
     },
     "metadata": {},
     "output_type": "display_data"
    }
   ],
   "source": [
    "import wandb\n",
    "run = wandb.init(project=\"ea-forum-analysis\")"
   ]
  },
  {
   "cell_type": "code",
   "execution_count": 10,
   "metadata": {},
   "outputs": [
    {
     "data": {
      "text/plain": [
       "<wandb.sdk.wandb_artifacts.Artifact at 0x7fc84d015160>"
      ]
     },
     "execution_count": 10,
     "metadata": {},
     "output_type": "execute_result"
    }
   ],
   "source": [
    "run.log_artifact(\n",
    "    './cache/dev_pair_df_tags_filt.csv', name='dev_pairs_df', type='preprocessed_data',\n",
    "    aliases=['latest', 'tags_filt']\n",
    ")"
   ]
  },
  {
   "cell_type": "code",
   "execution_count": 11,
   "metadata": {},
   "outputs": [
    {
     "data": {
      "text/html": [
       "Waiting for W&B process to finish... <strong style=\"color:green\">(success).</strong>"
      ],
      "text/plain": [
       "<IPython.core.display.HTML object>"
      ]
     },
     "metadata": {},
     "output_type": "display_data"
    },
    {
     "data": {
      "application/vnd.jupyter.widget-view+json": {
       "model_id": "5b30a6948ab74a1da702c948b0f5c806",
       "version_major": 2,
       "version_minor": 0
      },
      "text/plain": [
       "VBox(children=(Label(value='9.103 MB of 9.116 MB uploaded (0.000 MB deduped)\\r'), FloatProgress(value=0.998639…"
      ]
     },
     "metadata": {},
     "output_type": "display_data"
    },
    {
     "data": {
      "text/html": [
       "Synced <strong style=\"color:#cdcd00\">legendary-deluge-2</strong>: <a href=\"https://wandb.ai/vpetukhov/ea-forum-analysis/runs/3gy5z0lx\" target=\"_blank\">https://wandb.ai/vpetukhov/ea-forum-analysis/runs/3gy5z0lx</a><br/>Synced 5 W&B file(s), 0 media file(s), 1 artifact file(s) and 0 other file(s)"
      ],
      "text/plain": [
       "<IPython.core.display.HTML object>"
      ]
     },
     "metadata": {},
     "output_type": "display_data"
    },
    {
     "data": {
      "text/html": [
       "Find logs at: <code>./wandb/run-20221104_002455-3gy5z0lx/logs</code>"
      ],
      "text/plain": [
       "<IPython.core.display.HTML object>"
      ]
     },
     "metadata": {},
     "output_type": "display_data"
    }
   ],
   "source": [
    "wandb.finish()"
   ]
  },
  {
   "cell_type": "code",
   "execution_count": 70,
   "metadata": {},
   "outputs": [],
   "source": [
    "!gzip -f ./cache/train_pair_df_tags_filt.csv ./cache/dev_pair_df_tags_filt.csv"
   ]
  },
  {
   "cell_type": "markdown",
   "metadata": {},
   "source": [
    "Trining of SBERT happens on Google Colab, so it's extracted to a separate notebook."
   ]
  }
 ],
 "metadata": {
  "kernelspec": {
   "display_name": "Julia 1.8.2",
   "language": "julia",
   "name": "julia-1.8"
  },
  "language_info": {
   "file_extension": ".jl",
   "mimetype": "application/julia",
   "name": "julia",
   "version": "1.8.2"
  },
  "orig_nbformat": 4,
  "vscode": {
   "interpreter": {
    "hash": "5d9401d23a1ed1d08f25a4cec51c4493ded3c3e1025596effefd6a7f3f49276f"
   }
  }
 },
 "nbformat": 4,
 "nbformat_minor": 2
}
