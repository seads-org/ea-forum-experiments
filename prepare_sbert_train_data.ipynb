{
 "cells": [
  {
   "cell_type": "markdown",
   "metadata": {},
   "source": [
    "This notebook extracts well-tagged posts and splits them over chunks no more than 300 words, trying to preserve paragraph structure."
   ]
  },
  {
   "cell_type": "code",
   "execution_count": 2,
   "metadata": {},
   "outputs": [],
   "source": [
    "%load_ext autoreload\n",
    "%autoreload 2\n",
    "\n",
    "import matplotlib.pyplot as plt\n",
    "import numpy as np\n",
    "import re\n",
    "import pandas as pd\n",
    "from pandas import DataFrame,Series\n",
    "import seaborn as sns\n",
    "from tqdm.auto import tqdm\n",
    "import json\n",
    "\n",
    "from src.parsing import read_post_data\n",
    "\n",
    "sns.set_theme(style=\"whitegrid\")\n",
    "tqdm.pandas()"
   ]
  },
  {
   "cell_type": "code",
   "execution_count": 3,
   "metadata": {},
   "outputs": [
    {
     "data": {
      "text/plain": [
       "(1720, 14)"
      ]
     },
     "execution_count": 3,
     "metadata": {},
     "output_type": "execute_result"
    }
   ],
   "source": [
    "data = read_post_data('./data/posts.csv')\n",
    "data = data[(data.tags.map(len) > 4) & (data.tags.map(len) < 10)]\n",
    "data = data[data.htmlBody.notna()]\n",
    "data.shape"
   ]
  },
  {
   "cell_type": "code",
   "execution_count": 4,
   "metadata": {},
   "outputs": [],
   "source": [
    "import html2text\n",
    "\n",
    "h2t = html2text.HTML2Text()\n",
    "h2t.ignore_emphasis = True\n",
    "h2t.ignore_images = True\n",
    "h2t.ignore_links = True\n",
    "h2t.ignore_tables = True\n",
    "h2t.body_width = None"
   ]
  },
  {
   "cell_type": "code",
   "execution_count": 5,
   "metadata": {},
   "outputs": [
    {
     "data": {
      "application/vnd.jupyter.widget-view+json": {
       "model_id": "316890ea75ea4d3a815593c21bdcb40f",
       "version_major": 2,
       "version_minor": 0
      },
      "text/plain": [
       "  0%|          | 0/1720 [00:00<?, ?it/s]"
      ]
     },
     "metadata": {},
     "output_type": "display_data"
    }
   ],
   "source": [
    "data['body'] = data.htmlBody.progress_map(h2t.handle).map(str.strip)\n",
    "data = data[data['body'].map(len) > 50]"
   ]
  },
  {
   "cell_type": "code",
   "execution_count": 6,
   "metadata": {},
   "outputs": [],
   "source": [
    "import re\n",
    "from nltk.tokenize import word_tokenize, sent_tokenize\n",
    "\n",
    "def extract_paragraphs(text:str):\n",
    "    \"\"\"\n",
    "    Extracts paragraphs from text. Designed for texts extracted with html2text.\n",
    "    Args:\n",
    "        text (str): markdown-like text without emphasis, images or tables\n",
    "    \"\"\"\n",
    "    LIST_REG = re.compile(r\"^ *([*-]+|\\d+\\.)\")\n",
    "    header_level = 0\n",
    "    text_parts = []\n",
    "    for line in text.splitlines():\n",
    "        if len(line.strip()) == 0:\n",
    "            continue\n",
    "\n",
    "        if line.startswith(\"#\"):\n",
    "            header_level = len(line) - len(line.lstrip(\"#\"))\n",
    "            line = line.lstrip(\"#\").strip()\n",
    "            text_parts.append((header_level, line, \"HEAD\"))\n",
    "            continue\n",
    "\n",
    "        if LIST_REG.match(line):\n",
    "            offset = len(line) - len(LIST_REG.sub(\"\", line))\n",
    "            # line = LIST_REG.sub(\"\", line).strip()\n",
    "            text_parts.append((header_level + offset, line.strip(), \"LIST\"))\n",
    "            continue\n",
    "\n",
    "        text_parts.append((header_level, line.strip(), \"TEXT\"))\n",
    "\n",
    "    text_parts = DataFrame(text_parts, columns=[\"level\", \"text\", \"type\"])\n",
    "    text_parts['n_words'] = text_parts.text.map(word_tokenize).map(len)\n",
    "    return text_parts\n",
    "\n",
    "\n",
    "def split_long_paragraphs(paragraphs:DataFrame, max_n_words:int):\n",
    "    if paragraphs.n_words.max() <= max_n_words:\n",
    "        return paragraphs\n",
    "    \n",
    "    rows = []\n",
    "    for _,row in paragraphs.iterrows():\n",
    "        if row.n_words < max_n_words:\n",
    "            rows.append(dict(row))\n",
    "            continue\n",
    "        \n",
    "        sents = sent_tokenize(row.text) # It's not perfect but shouldn't have major impact (TODO: train tokenizer first)\n",
    "        rows.extend([{\"level\": row.level + 1, \"text\": s, \"type\": \"SENTENCE\", \"n_words\": len(word_tokenize(s))} for s in sents])\n",
    "    return DataFrame(rows)\n",
    "\n",
    "\n",
    "def collapse_paragraphs(level_paragraphs:DataFrame, max_n_words:int):\n",
    "    texts = []\n",
    "    n_words_all = []\n",
    "    n_words = 0\n",
    "    text = []\n",
    "    for t,n in zip(level_paragraphs.text, level_paragraphs.n_words):\n",
    "        if n + n_words < max_n_words:\n",
    "            text.append(t)\n",
    "            n_words += n\n",
    "            continue\n",
    "\n",
    "        if n_words > 0:\n",
    "            if n_words > max_n_words: # last text was too long\n",
    "                print(f\"Warning: paragraph too long ({n_words} words): {text}\")\n",
    "            texts.append(\"\\n\".join(text))\n",
    "            n_words_all.append(n_words)\n",
    "\n",
    "        text = [t]\n",
    "        n_words = n\n",
    "        continue\n",
    "\n",
    "    if n_words > 0:\n",
    "        if n_words > max_n_words: # last text was too long\n",
    "            print(f\"Warning: paragraph too long ({n_words} words): {text}\")\n",
    "        texts.append(\"\\n\".join(text))\n",
    "        n_words_all.append(n_words)\n",
    "    return DataFrame({\"level\": level_paragraphs.level.values[0], \"text\": texts, \"type\": \"COLLAPSED\", \"n_words\":n_words_all})\n",
    "\n",
    "\n",
    "def collapse_paragraphs_iteratively(paragraphs, max_n_words:int):\n",
    "    # Split by sequential levels\n",
    "    # TODO: Ideally, also need to split by type here\n",
    "    seq_levels = paragraphs.level.diff().fillna(0).map(bool).cumsum()\n",
    "    pars_per_seq_level = paragraphs.groupby(seq_levels).apply(lambda x: [x]).map(lambda x: x[0]).values\n",
    "\n",
    "    # collapse paragraphs\n",
    "    pars_collapsed = []\n",
    "    for pars in pars_per_seq_level:\n",
    "        pars_col = collapse_paragraphs(pars, max_n_words)\n",
    "        if (pars_col.shape[0] == 1) and (len(pars_collapsed) > 0):\n",
    "            pars_collapsed[-1] = pd.concat([\n",
    "                pars_collapsed[-1].iloc[:-1], \n",
    "                collapse_paragraphs(\n",
    "                    pd.concat([pars_collapsed[-1].iloc[-1:], pars_col]), \n",
    "                    max_n_words\n",
    "                )\n",
    "            ])\n",
    "        else:\n",
    "            pars_collapsed.append(pars_col)\n",
    "    return pd.concat(pars_collapsed)"
   ]
  },
  {
   "cell_type": "code",
   "execution_count": 7,
   "metadata": {},
   "outputs": [
    {
     "data": {
      "application/vnd.jupyter.widget-view+json": {
       "model_id": "d79439c2099e4b1ab2c51404a7c09222",
       "version_major": 2,
       "version_minor": 0
      },
      "text/plain": [
       "  0%|          | 0/1719 [00:00<?, ?it/s]"
      ]
     },
     "metadata": {},
     "output_type": "display_data"
    }
   ],
   "source": [
    "data['paragraphs'] = data.body.progress_map(extract_paragraphs)"
   ]
  },
  {
   "cell_type": "code",
   "execution_count": 8,
   "metadata": {},
   "outputs": [
    {
     "data": {
      "application/vnd.jupyter.widget-view+json": {
       "model_id": "99889774299f4a0f8d0ac99795002fe8",
       "version_major": 2,
       "version_minor": 0
      },
      "text/plain": [
       "  0%|          | 0/1719 [00:00<?, ?it/s]"
      ]
     },
     "metadata": {},
     "output_type": "display_data"
    }
   ],
   "source": [
    "max_n_words = 300\n",
    "data['paragraphs'] = data.paragraphs.progress_map(lambda p: split_long_paragraphs(p, max_n_words=max_n_words))"
   ]
  },
  {
   "cell_type": "code",
   "execution_count": 9,
   "metadata": {},
   "outputs": [
    {
     "data": {
      "application/vnd.jupyter.widget-view+json": {
       "model_id": "0a8d23e9cbd94736b358bb808e48431a",
       "version_major": 2,
       "version_minor": 0
      },
      "text/plain": [
       "  0%|          | 0/1719 [00:00<?, ?it/s]"
      ]
     },
     "metadata": {},
     "output_type": "display_data"
    },
    {
     "name": "stdout",
     "output_type": "stream",
     "text": [
      "Warning: paragraph too long (312 words): ['> Now the Utilitarian faith is this: that those actions are moral which tend to produce the greatest possible happiness, and those actions immoral which have a contrary tendency; that virtue is the preference of a greater remote good to a less adjacent good; that vice is only a false moral arithmetic; that the ablest moralist is he who calculates best; the most virtuous man, he who most successfully applies right calculation to conduct; that moral sense and right reason are nothing more than empty and pompous forms of ignorant dogmatism; that it is idle for a man to get into an elbow chair and talk about duty, because every man who hears him is thinking about interest; that ought and ought not are phrases without meaning, except with reference to pleasure or to pain; that if any man were to act always with a correct view to his own interest, he would secure to himself the greatest obtainable portion of felicity; and that if every man, acting correctly for his own interest, obtained the maximum of obtainable happiness, mankind would reach the millennium of accessible bliss, and the end of morality, the general happiness, would then be accomplished; that the only purpose of an intelligent moralist is to prove that the immoral act is a miscalculation of self-interest, and to show how erroneous an estimate the vicious man makes of pains and pleasures; that unless he can do this he does nothing, and that if he can accomplish this he has achieved everything; for that it is in the very nature of things impossible that any man should not pursue that which he seems likely to produce to him the greatest sum of enjoyment.']\n",
      "Warning: paragraph too long (312 words): ['> Now the Utilitarian faith is this: that those actions are moral which tend to produce the greatest possible happiness, and those actions immoral which have a contrary tendency; that virtue is the preference of a greater remote good to a less adjacent good; that vice is only a false moral arithmetic; that the ablest moralist is he who calculates best; the most virtuous man, he who most successfully applies right calculation to conduct; that moral sense and right reason are nothing more than empty and pompous forms of ignorant dogmatism; that it is idle for a man to get into an elbow chair and talk about duty, because every man who hears him is thinking about interest; that ought and ought not are phrases without meaning, except with reference to pleasure or to pain; that if any man were to act always with a correct view to his own interest, he would secure to himself the greatest obtainable portion of felicity; and that if every man, acting correctly for his own interest, obtained the maximum of obtainable happiness, mankind would reach the millennium of accessible bliss, and the end of morality, the general happiness, would then be accomplished; that the only purpose of an intelligent moralist is to prove that the immoral act is a miscalculation of self-interest, and to show how erroneous an estimate the vicious man makes of pains and pleasures; that unless he can do this he does nothing, and that if he can accomplish this he has achieved everything; for that it is in the very nature of things impossible that any man should not pursue that which he seems likely to produce to him the greatest sum of enjoyment.']\n",
      "Warning: paragraph too long (1024 words): [\"[('Father death', 19), ('Childbirth', 16), ('Grandmother death', 13), ('Mother death', 11), ('Car accident', 9), ('Kidney stone', 9), ('Migraine', 9), ('Romantic breakup', 9), ('Broken arm', 6), ('Broken leg', 6), ('Work failure', 6), ('Divorce', 5), ('Pet death', 5), ('Broken foot', 4), ('Broken ankle', 4), ('Broken hand', 4), ('Unspecified', 4), ('Friend death', 4), ('Sister death', 4), ('Skin burns', 3), ('Skin cut needing stitches', 3), ('Financial ruin', 3), ('Property loss', 3), ('Sprained ankle', 3), ('Gallstones', 3), ('Family breakup', 3), ('Divorce of parents', 3), ('C-section recovery', 3), ('Love failure', 2), ('Broken finger', 2), ('Unspecified fracture', 2), ('Broken ribs', 2), ('Unspecified family death', 2), ('Broken collarbone', 2), ('Grandfather death', 2), ('Unspecified illness', 2), ('Period pain', 2), ('Being cheated', 2), ('Financial loss', 2), ('Broken tooth', 2), ('Cousin death', 2), ('Relative with cancer', 2), ('Cluster headache', 2), ('Unspecified leg problem', 2), ('Root canal', 2), ('Back pain', 2), ('Broken nose', 2), ('Aunt death', 2), ('Wisdom teeth', 2), ('Cancer (eye)', 1), ('Appendix operation', 1), ('Dislocated elbow', 1), ('Concussion', 1), ('Mono', 1), ('Sexual assault', 1), ('Kidney infection', 1), ('Hemorrhoids', 1), ('Tattoo', 1), ('Unspecified kidney problem', 1), ('Unspecified lung problem', 1), ('Unspecified cancer', 1), ('Unspecified childhood sickness', 1), ('Broken jaw', 1), ('Broken elbow', 1), ('Thrown out back', 1), ('Lost sentimental item', 1), ('Abortion', 1), ('Ruptured kidney', 1), ('Big fall', 1), ('Torn knee', 1), ('Finger hit by hammer', 1), ('Injured thumb', 1), ('Brother in law death', 1), ('Knocked teeth', 1), ('Unspecified death', 1), ('Ripping off fingernail', 1), ('Personal anger', 1), ('Wrist pain', 1), ('Getting the wind knocked out', 1), ('Blown knee', 1), ('Burst appendix', 1), ('Tooth abscess', 1), ('Tendinitis', 1), ('Altruistic frustration', 1), ('Leg operation', 1), ('Gallbladder infection', 1), ('Broken wrist', 1), ('Stomach flu', 1), ('Running away from family', 1), ('Child beating', 1), ('Sinus infection', 1), ('Broken thumb', 1), ('Family abuse', 1), ('Miscarriage', 1), ('Tooth extraction', 1), ('Feeling like your soul is lost', 1), ('Homelessness', 1), ('Losing your religion', 1), ('Losing bike', 1), ('Family member in prison', 1), ('Crohn s disease', 1), ('Irritable bowel syndrome', 1), ('Family injured', 1), ('Unspecified chronic disease', 1), ('Fibromyalgia', 1), ('Blood clot in toe', 1), ('Infected c-section', 1), ('Suicide of lover', 1), ('Dental extraction', 1), ('Unspecified partner abuse', 1), ('Infertility', 1), ('Father in law death', 1), ('Broken neck', 1), ('Scratched cornea', 1), ('Swollen lymph nodes', 1), ('Sun burns', 1), ('Tooth ache', 1), ('Lost custody of children', 1), ('Unspecified accident', 1), ('Bike accident', 1), ('Broken hip', 1), ('Not being loved by partner', 1), ('Dog bite', 1), ('Broken skull', 1)]\"]\n",
      "Warning: paragraph too long (1024 words): [\"[('Father death', 19), ('Childbirth', 16), ('Grandmother death', 13), ('Mother death', 11), ('Car accident', 9), ('Kidney stone', 9), ('Migraine', 9), ('Romantic breakup', 9), ('Broken arm', 6), ('Broken leg', 6), ('Work failure', 6), ('Divorce', 5), ('Pet death', 5), ('Broken foot', 4), ('Broken ankle', 4), ('Broken hand', 4), ('Unspecified', 4), ('Friend death', 4), ('Sister death', 4), ('Skin burns', 3), ('Skin cut needing stitches', 3), ('Financial ruin', 3), ('Property loss', 3), ('Sprained ankle', 3), ('Gallstones', 3), ('Family breakup', 3), ('Divorce of parents', 3), ('C-section recovery', 3), ('Love failure', 2), ('Broken finger', 2), ('Unspecified fracture', 2), ('Broken ribs', 2), ('Unspecified family death', 2), ('Broken collarbone', 2), ('Grandfather death', 2), ('Unspecified illness', 2), ('Period pain', 2), ('Being cheated', 2), ('Financial loss', 2), ('Broken tooth', 2), ('Cousin death', 2), ('Relative with cancer', 2), ('Cluster headache', 2), ('Unspecified leg problem', 2), ('Root canal', 2), ('Back pain', 2), ('Broken nose', 2), ('Aunt death', 2), ('Wisdom teeth', 2), ('Cancer (eye)', 1), ('Appendix operation', 1), ('Dislocated elbow', 1), ('Concussion', 1), ('Mono', 1), ('Sexual assault', 1), ('Kidney infection', 1), ('Hemorrhoids', 1), ('Tattoo', 1), ('Unspecified kidney problem', 1), ('Unspecified lung problem', 1), ('Unspecified cancer', 1), ('Unspecified childhood sickness', 1), ('Broken jaw', 1), ('Broken elbow', 1), ('Thrown out back', 1), ('Lost sentimental item', 1), ('Abortion', 1), ('Ruptured kidney', 1), ('Big fall', 1), ('Torn knee', 1), ('Finger hit by hammer', 1), ('Injured thumb', 1), ('Brother in law death', 1), ('Knocked teeth', 1), ('Unspecified death', 1), ('Ripping off fingernail', 1), ('Personal anger', 1), ('Wrist pain', 1), ('Getting the wind knocked out', 1), ('Blown knee', 1), ('Burst appendix', 1), ('Tooth abscess', 1), ('Tendinitis', 1), ('Altruistic frustration', 1), ('Leg operation', 1), ('Gallbladder infection', 1), ('Broken wrist', 1), ('Stomach flu', 1), ('Running away from family', 1), ('Child beating', 1), ('Sinus infection', 1), ('Broken thumb', 1), ('Family abuse', 1), ('Miscarriage', 1), ('Tooth extraction', 1), ('Feeling like your soul is lost', 1), ('Homelessness', 1), ('Losing your religion', 1), ('Losing bike', 1), ('Family member in prison', 1), ('Crohn s disease', 1), ('Irritable bowel syndrome', 1), ('Family injured', 1), ('Unspecified chronic disease', 1), ('Fibromyalgia', 1), ('Blood clot in toe', 1), ('Infected c-section', 1), ('Suicide of lover', 1), ('Dental extraction', 1), ('Unspecified partner abuse', 1), ('Infertility', 1), ('Father in law death', 1), ('Broken neck', 1), ('Scratched cornea', 1), ('Swollen lymph nodes', 1), ('Sun burns', 1), ('Tooth ache', 1), ('Lost custody of children', 1), ('Unspecified accident', 1), ('Bike accident', 1), ('Broken hip', 1), ('Not being loved by partner', 1), ('Dog bite', 1), ('Broken skull', 1)]\"]\n",
      "Warning: paragraph too long (1024 words): [\"[('Father death', 19), ('Childbirth', 16), ('Grandmother death', 13), ('Mother death', 11), ('Car accident', 9), ('Kidney stone', 9), ('Migraine', 9), ('Romantic breakup', 9), ('Broken arm', 6), ('Broken leg', 6), ('Work failure', 6), ('Divorce', 5), ('Pet death', 5), ('Broken foot', 4), ('Broken ankle', 4), ('Broken hand', 4), ('Unspecified', 4), ('Friend death', 4), ('Sister death', 4), ('Skin burns', 3), ('Skin cut needing stitches', 3), ('Financial ruin', 3), ('Property loss', 3), ('Sprained ankle', 3), ('Gallstones', 3), ('Family breakup', 3), ('Divorce of parents', 3), ('C-section recovery', 3), ('Love failure', 2), ('Broken finger', 2), ('Unspecified fracture', 2), ('Broken ribs', 2), ('Unspecified family death', 2), ('Broken collarbone', 2), ('Grandfather death', 2), ('Unspecified illness', 2), ('Period pain', 2), ('Being cheated', 2), ('Financial loss', 2), ('Broken tooth', 2), ('Cousin death', 2), ('Relative with cancer', 2), ('Cluster headache', 2), ('Unspecified leg problem', 2), ('Root canal', 2), ('Back pain', 2), ('Broken nose', 2), ('Aunt death', 2), ('Wisdom teeth', 2), ('Cancer (eye)', 1), ('Appendix operation', 1), ('Dislocated elbow', 1), ('Concussion', 1), ('Mono', 1), ('Sexual assault', 1), ('Kidney infection', 1), ('Hemorrhoids', 1), ('Tattoo', 1), ('Unspecified kidney problem', 1), ('Unspecified lung problem', 1), ('Unspecified cancer', 1), ('Unspecified childhood sickness', 1), ('Broken jaw', 1), ('Broken elbow', 1), ('Thrown out back', 1), ('Lost sentimental item', 1), ('Abortion', 1), ('Ruptured kidney', 1), ('Big fall', 1), ('Torn knee', 1), ('Finger hit by hammer', 1), ('Injured thumb', 1), ('Brother in law death', 1), ('Knocked teeth', 1), ('Unspecified death', 1), ('Ripping off fingernail', 1), ('Personal anger', 1), ('Wrist pain', 1), ('Getting the wind knocked out', 1), ('Blown knee', 1), ('Burst appendix', 1), ('Tooth abscess', 1), ('Tendinitis', 1), ('Altruistic frustration', 1), ('Leg operation', 1), ('Gallbladder infection', 1), ('Broken wrist', 1), ('Stomach flu', 1), ('Running away from family', 1), ('Child beating', 1), ('Sinus infection', 1), ('Broken thumb', 1), ('Family abuse', 1), ('Miscarriage', 1), ('Tooth extraction', 1), ('Feeling like your soul is lost', 1), ('Homelessness', 1), ('Losing your religion', 1), ('Losing bike', 1), ('Family member in prison', 1), ('Crohn s disease', 1), ('Irritable bowel syndrome', 1), ('Family injured', 1), ('Unspecified chronic disease', 1), ('Fibromyalgia', 1), ('Blood clot in toe', 1), ('Infected c-section', 1), ('Suicide of lover', 1), ('Dental extraction', 1), ('Unspecified partner abuse', 1), ('Infertility', 1), ('Father in law death', 1), ('Broken neck', 1), ('Scratched cornea', 1), ('Swollen lymph nodes', 1), ('Sun burns', 1), ('Tooth ache', 1), ('Lost custody of children', 1), ('Unspecified accident', 1), ('Bike accident', 1), ('Broken hip', 1), ('Not being loved by partner', 1), ('Dog bite', 1), ('Broken skull', 1)]\"]\n",
      "Warning: paragraph too long (654 words): [\"[('Falling in love', 42), ('Children born', 41), ('Marriage', 21), ('Sex', 19), ('College graduation', 13), ('Orgasm', 11), ('Alcohol', 8), ('Vacation', 6), ('Getting job', 6), ('Personal favorite sports win', 6), ('Nature scene', 5), ('Owning home', 5), ('Sports win', 4), ('Graduating highschool', 4), ('MDMA', 4), ('Getting paid for the first time', 4), ('Amusement park', 4), ('Game of chance earning', 4), ('Job achievement', 4), ('Getting engaged', 4), ('Cannabis', 3), ('Eating favorite food', 3), ('Unexpected gift', 3), ('Moving to a better location', 3), ('Travel', 3), ('Divorce', 2), ('Gifting car', 2), ('Giving to charity', 2), ('LSD', 2), ('Won contest', 2), ('Friend reunion', 2), ('Winning bike', 2), ('Kiss', 2), ('Pet ownership', 2), ('Children', 1), ('First air trip', 1), ('First kiss', 1), ('Public performance', 1), ('Hugs', 1), ('Unspecified', 1), ('Recovering from unspecified kidney problem', 1), ('College party', 1), ('Graduate school start', 1), ('Financial success', 1), ('Dinner with loved one', 1), ('Feeling supported', 1), ('Children graduates from college', 1), ('Family event', 1), ('Participating in TV show', 1), ('Psychedelic mushrooms', 1), ('Opiates', 1), ('Having own place', 1), ('Making music', 1), ('Becoming engaged', 1), ('Theater', 1), ('Extreme sport', 1), ('Armed forces graduation', 1), ('Birthday', 1), ('Positive pregnancy test', 1), ('Feeling that God exists', 1), ('Belief that Hell does not exist', 1), ('Getting car', 1), ('Academic achievement', 1), ('Helping others', 1), ('Meeting soulmate', 1), ('Daughter back home', 1), ('Winning custody of children', 1), ('Friend stops drinking', 1), ('Masturbation', 1), ('Friend not dead after all', 1), ('Child learns to walk', 1), ('Attending wedding of loved one', 1), ('Children safe after dangerous situation', 1), ('Unspecified good news', 1), ('Met personal idol', 1), ('Child learns to talk', 1), ('Children good at school', 1)]\"]\n",
      "Warning: paragraph too long (654 words): [\"[('Falling in love', 42), ('Children born', 41), ('Marriage', 21), ('Sex', 19), ('College graduation', 13), ('Orgasm', 11), ('Alcohol', 8), ('Vacation', 6), ('Getting job', 6), ('Personal favorite sports win', 6), ('Nature scene', 5), ('Owning home', 5), ('Sports win', 4), ('Graduating highschool', 4), ('MDMA', 4), ('Getting paid for the first time', 4), ('Amusement park', 4), ('Game of chance earning', 4), ('Job achievement', 4), ('Getting engaged', 4), ('Cannabis', 3), ('Eating favorite food', 3), ('Unexpected gift', 3), ('Moving to a better location', 3), ('Travel', 3), ('Divorce', 2), ('Gifting car', 2), ('Giving to charity', 2), ('LSD', 2), ('Won contest', 2), ('Friend reunion', 2), ('Winning bike', 2), ('Kiss', 2), ('Pet ownership', 2), ('Children', 1), ('First air trip', 1), ('First kiss', 1), ('Public performance', 1), ('Hugs', 1), ('Unspecified', 1), ('Recovering from unspecified kidney problem', 1), ('College party', 1), ('Graduate school start', 1), ('Financial success', 1), ('Dinner with loved one', 1), ('Feeling supported', 1), ('Children graduates from college', 1), ('Family event', 1), ('Participating in TV show', 1), ('Psychedelic mushrooms', 1), ('Opiates', 1), ('Having own place', 1), ('Making music', 1), ('Becoming engaged', 1), ('Theater', 1), ('Extreme sport', 1), ('Armed forces graduation', 1), ('Birthday', 1), ('Positive pregnancy test', 1), ('Feeling that God exists', 1), ('Belief that Hell does not exist', 1), ('Getting car', 1), ('Academic achievement', 1), ('Helping others', 1), ('Meeting soulmate', 1), ('Daughter back home', 1), ('Winning custody of children', 1), ('Friend stops drinking', 1), ('Masturbation', 1), ('Friend not dead after all', 1), ('Child learns to walk', 1), ('Attending wedding of loved one', 1), ('Children safe after dangerous situation', 1), ('Unspecified good news', 1), ('Met personal idol', 1), ('Child learns to talk', 1), ('Children good at school', 1)]\"]\n",
      "Warning: paragraph too long (654 words): [\"[('Falling in love', 42), ('Children born', 41), ('Marriage', 21), ('Sex', 19), ('College graduation', 13), ('Orgasm', 11), ('Alcohol', 8), ('Vacation', 6), ('Getting job', 6), ('Personal favorite sports win', 6), ('Nature scene', 5), ('Owning home', 5), ('Sports win', 4), ('Graduating highschool', 4), ('MDMA', 4), ('Getting paid for the first time', 4), ('Amusement park', 4), ('Game of chance earning', 4), ('Job achievement', 4), ('Getting engaged', 4), ('Cannabis', 3), ('Eating favorite food', 3), ('Unexpected gift', 3), ('Moving to a better location', 3), ('Travel', 3), ('Divorce', 2), ('Gifting car', 2), ('Giving to charity', 2), ('LSD', 2), ('Won contest', 2), ('Friend reunion', 2), ('Winning bike', 2), ('Kiss', 2), ('Pet ownership', 2), ('Children', 1), ('First air trip', 1), ('First kiss', 1), ('Public performance', 1), ('Hugs', 1), ('Unspecified', 1), ('Recovering from unspecified kidney problem', 1), ('College party', 1), ('Graduate school start', 1), ('Financial success', 1), ('Dinner with loved one', 1), ('Feeling supported', 1), ('Children graduates from college', 1), ('Family event', 1), ('Participating in TV show', 1), ('Psychedelic mushrooms', 1), ('Opiates', 1), ('Having own place', 1), ('Making music', 1), ('Becoming engaged', 1), ('Theater', 1), ('Extreme sport', 1), ('Armed forces graduation', 1), ('Birthday', 1), ('Positive pregnancy test', 1), ('Feeling that God exists', 1), ('Belief that Hell does not exist', 1), ('Getting car', 1), ('Academic achievement', 1), ('Helping others', 1), ('Meeting soulmate', 1), ('Daughter back home', 1), ('Winning custody of children', 1), ('Friend stops drinking', 1), ('Masturbation', 1), ('Friend not dead after all', 1), ('Child learns to walk', 1), ('Attending wedding of loved one', 1), ('Children safe after dangerous situation', 1), ('Unspecified good news', 1), ('Met personal idol', 1), ('Child learns to talk', 1), ('Children good at school', 1)]\"]\n"
     ]
    }
   ],
   "source": [
    "data['paragraphs_split'] = data.paragraphs.progress_map(lambda x: collapse_paragraphs_iteratively(x, max_n_words=max_n_words))"
   ]
  },
  {
   "cell_type": "code",
   "execution_count": 22,
   "metadata": {},
   "outputs": [
    {
     "data": {
      "text/plain": [
       "(26953, 3)"
      ]
     },
     "execution_count": 22,
     "metadata": {},
     "output_type": "execute_result"
    }
   ],
   "source": [
    "par_split_df = pd.concat([\n",
    "    DataFrame({'postId': pid, 'tags': \";\".join(r.tags), 'text': r.paragraphs_split.text.values}) \n",
    "    for pid,r in data.iterrows()\n",
    "], ignore_index=True)\n",
    "par_split_df.shape"
   ]
  },
  {
   "cell_type": "code",
   "execution_count": 11,
   "metadata": {},
   "outputs": [],
   "source": [
    "data.to_pickle('./cache/posts_paragraphs.pkl')"
   ]
  },
  {
   "cell_type": "code",
   "execution_count": 23,
   "metadata": {},
   "outputs": [],
   "source": [
    "par_split_df.to_csv('./cache/par_split_df.csv', index=False)"
   ]
  },
  {
   "cell_type": "markdown",
   "metadata": {},
   "source": [
    "Trining of SBERT happens on Google Colab, so it's extracted to a separate notebook."
   ]
  },
  {
   "cell_type": "code",
   "execution_count": 81,
   "metadata": {},
   "outputs": [],
   "source": [
    "np.random.seed(42)\n",
    "all_posts = par_split_df.postId.unique()\n",
    "dev_posts = np.random.choice(all_posts, size=int(all_posts.size * 0.1), replace=False)\n",
    "train_pars = par_split_df[~par_split_df.postId.isin(dev_posts)]\n",
    "dev_pars = par_split_df[par_split_df.postId.isin(dev_posts)]\n",
    "# train_pars, dev_pars = [df.copy().sample(n=500, random_state=42).reset_index(drop=True) for df in [train_pars, dev_pars]]\n",
    "\n",
    "# for df in [train_pars, dev_pars]:\n",
    "#     df['tags'] = df['tags'].map(lambda x: x.split(\";\")).map(set)"
   ]
  },
  {
   "cell_type": "code",
   "execution_count": 271,
   "metadata": {},
   "outputs": [],
   "source": [
    "def jaccard_similarity(a:set, b:set):\n",
    "    return len(a & b) / len(a | b)\n",
    "\n",
    "\n",
    "def extract_paired_posts(post_id:str, selected_sims:np.ndarray, tags_per_post:Series, n_texts_per_post:int=1):\n",
    "    t1 = tags_per_post[post_id]\n",
    "    sims = tags_per_post.map(lambda t2: jaccard_similarity(t1, t2))\n",
    "    freqs = [(1 - np.abs(sims - s)) ** 30 for s in selected_sims] # 30 is a severe penalty for distance. Adjusts for class imbalance.\n",
    "    sel_posts = np.concatenate([\n",
    "        np.random.choice(fs.index.values, p=(fs.values / fs.sum()), size=n_texts_per_post, replace=True) \n",
    "        for fs in freqs\n",
    "    ])\n",
    "\n",
    "    return sel_posts, sims[sel_posts].values\n",
    "\n",
    "\n",
    "def extract_text_distance_pairs(df:DataFrame, tags_per_post:Series, n_pairs_per_text:int, n_texts_per_post:int=1):\n",
    "    selected_sims = np.linspace(0, 1, n_pairs_per_text)\n",
    "\n",
    "    texts_per_post = df.text.groupby(df.postId).apply(np.array)\n",
    "    tags_per_post = tags_per_post[texts_per_post.index]\n",
    "    texts_per_post = dict(texts_per_post)\n",
    "\n",
    "    pair_dfs = []\n",
    "    for pid,texts in tqdm(texts_per_post.items(), total=len(texts_per_post)):\n",
    "        src_texts = np.random.choice(texts, size=(n_texts_per_post * n_pairs_per_text), replace=True)\n",
    "        dst_pids, dst_sims = extract_paired_posts(\n",
    "            pid, selected_sims=selected_sims, tags_per_post=tags_per_post, \n",
    "            n_texts_per_post=n_texts_per_post\n",
    "        )\n",
    "        dst_texts = np.concatenate([np.random.choice(texts_per_post[pid], size=1, replace=True) for pid in dst_pids])\n",
    "        pair_dfs.append(DataFrame({'src_text': src_texts, 'dst_text': dst_texts, 'src_post_id': pid, 'dst_post_id': dst_pids, 'sims': dst_sims}))\n",
    "    \n",
    "    pair_df = pd.concat(pair_dfs, ignore_index=True)\n",
    "    pair_df = pair_df[~pair_df[['src_text', 'dst_text']].duplicated()].reset_index(drop=True)\n",
    "    return pair_df"
   ]
  },
  {
   "cell_type": "code",
   "execution_count": 250,
   "metadata": {},
   "outputs": [],
   "source": [
    "# n_texts_per_post = 2\n",
    "# n_pairs_per_text = 8\n",
    "# selected_sims = np.linspace(0, 1, n_pairs_per_text)\n",
    "tags_per_post = data.tags[all_posts].map(set)"
   ]
  },
  {
   "cell_type": "code",
   "execution_count": 279,
   "metadata": {},
   "outputs": [
    {
     "data": {
      "application/vnd.jupyter.widget-view+json": {
       "model_id": "7055e2645c8d42e1a181b27fa5b3c4db",
       "version_major": 2,
       "version_minor": 0
      },
      "text/plain": [
       "  0%|          | 0/1548 [00:00<?, ?it/s]"
      ]
     },
     "metadata": {},
     "output_type": "display_data"
    },
    {
     "data": {
      "text/plain": [
       "(141008, 5)"
      ]
     },
     "execution_count": 279,
     "metadata": {},
     "output_type": "execute_result"
    }
   ],
   "source": [
    "train_pair_df = extract_text_distance_pairs(train_pars, tags_per_post, n_pairs_per_text=11, n_texts_per_post=10)\n",
    "train_pair_df.shape"
   ]
  },
  {
   "cell_type": "code",
   "execution_count": 283,
   "metadata": {},
   "outputs": [
    {
     "data": {
      "image/png": "[encoded data removed]",
      "text/plain": [
       "<Figure size 640x480 with 1 Axes>"
      ]
     },
     "metadata": {},
     "output_type": "display_data"
    }
   ],
   "source": [
    "train_pair_df.sims.hist(bins=30);\n",
    "plt.xlabel('Jaccard similarity'); plt.ylabel('Num. of pairs');"
   ]
  },
  {
   "cell_type": "code",
   "execution_count": 280,
   "metadata": {},
   "outputs": [
    {
     "data": {
      "application/vnd.jupyter.widget-view+json": {
       "model_id": "fb1e527570784d8daaf9b888cdee63b2",
       "version_major": 2,
       "version_minor": 0
      },
      "text/plain": [
       "  0%|          | 0/171 [00:00<?, ?it/s]"
      ]
     },
     "metadata": {},
     "output_type": "display_data"
    },
    {
     "data": {
      "text/plain": [
       "(3415, 5)"
      ]
     },
     "execution_count": 280,
     "metadata": {},
     "output_type": "execute_result"
    }
   ],
   "source": [
    "dev_pair_df = extract_text_distance_pairs(dev_pars, tags_per_post, n_pairs_per_text=11, n_texts_per_post=2)\n",
    "dev_pair_df.shape"
   ]
  },
  {
   "cell_type": "code",
   "execution_count": 284,
   "metadata": {},
   "outputs": [],
   "source": [
    "train_pair_df.to_csv('./cache/train_pair_df.csv', index=False)\n",
    "dev_pair_df.to_csv('./cache/dev_pair_df.csv', index=False)"
   ]
  },
  {
   "cell_type": "code",
   "execution_count": 274,
   "metadata": {},
   "outputs": [],
   "source": [
    "# import csv\n",
    "# from itertools import combinations\n",
    "\n",
    "# def save_text_pairwise_distances_full(df:DataFrame, path:str):\n",
    "#     with open(path, 'w') as f:\n",
    "#         writer = csv.writer(f)\n",
    "#         writer.writerow(['i1', 'i2', 'text1', 'text2', 'distance'])\n",
    "\n",
    "#         for i1,i2 in tqdm(combinations(df.index.values, 2), total=(df.shape[0] * (df.shape[0] - 1) // 2)):\n",
    "#             t1 = df.text.values[i1]\n",
    "#             t2 = df.text.values[i2]\n",
    "#             tags1 = df.tags.values[i1]\n",
    "#             tags2 = df.tags.values[i2]\n",
    "#             dist = 1 - len(tags1 & tags2) / len(tags1 | tags2)\n",
    "\n",
    "#             writer.writerow([i1, i2, t1, t2, dist])"
   ]
  },
  {
   "cell_type": "code",
   "execution_count": 77,
   "metadata": {},
   "outputs": [
    {
     "data": {
      "application/vnd.jupyter.widget-view+json": {
       "model_id": "947aaf1339f44299a991b4c0441a709a",
       "version_major": 2,
       "version_minor": 0
      },
      "text/plain": [
       "  0%|          | 0/124750 [00:00<?, ?it/s]"
      ]
     },
     "metadata": {},
     "output_type": "display_data"
    }
   ],
   "source": [
    "# save_text_pairwise_distances(train_pars, './cache/train_pairs.csv')"
   ]
  },
  {
   "cell_type": "code",
   "execution_count": 78,
   "metadata": {},
   "outputs": [
    {
     "data": {
      "application/vnd.jupyter.widget-view+json": {
       "model_id": "d2cd3eb75d5b4659898b9d9a55b96dc9",
       "version_major": 2,
       "version_minor": 0
      },
      "text/plain": [
       "  0%|          | 0/124750 [00:00<?, ?it/s]"
      ]
     },
     "metadata": {},
     "output_type": "display_data"
    }
   ],
   "source": [
    "# save_text_pairwise_distances(dev_pars, './cache/dev_pairs.csv')"
   ]
  },
  {
   "cell_type": "markdown",
   "metadata": {},
   "source": [
    "TODO:\n",
    "- For each text take 4-20 neighbors with uniformly distributed distances\n",
    "- Increase dev size to 1000 pairs from different posts and reduce eval rate\n",
    "- Shuffle data in the loader"
   ]
  }
 ],
 "metadata": {
  "kernelspec": {
   "display_name": "Python 3.8.0 ('nlp')",
   "language": "python",
   "name": "python3"
  },
  "language_info": {
   "codemirror_mode": {
    "name": "ipython",
    "version": 3
   },
   "file_extension": ".py",
   "mimetype": "text/x-python",
   "name": "python",
   "nbconvert_exporter": "python",
   "pygments_lexer": "ipython3",
   "version": "3.8.0"
  },
  "orig_nbformat": 4,
  "vscode": {
   "interpreter": {
    "hash": "5d9401d23a1ed1d08f25a4cec51c4493ded3c3e1025596effefd6a7f3f49276f"
   }
  }
 },
 "nbformat": 4,
 "nbformat_minor": 2
}
