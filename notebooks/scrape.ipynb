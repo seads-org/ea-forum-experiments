{
 "cells": [
  {
   "cell_type": "code",
   "execution_count": 1,
   "id": "40c9c756-aec5-4e38-8288-75b5fe4248e4",
   "metadata": {},
   "outputs": [
    {
     "name": "stderr",
     "output_type": "stream",
     "text": [
      "Failed to detect the name of this notebook, you can set it manually with the WANDB_NOTEBOOK_NAME environment variable to enable code saving.\n",
      "\u001b[34m\u001b[1mwandb\u001b[0m: Currently logged in as: \u001b[33mvpetukhov\u001b[0m. Use \u001b[1m`wandb login --relogin`\u001b[0m to force relogin\n"
     ]
    },
    {
     "data": {
      "text/html": [
       "Tracking run with wandb version 0.13.5"
      ],
      "text/plain": [
       "<IPython.core.display.HTML object>"
      ]
     },
     "metadata": {},
     "output_type": "display_data"
    },
    {
     "data": {
      "text/html": [
       "Run data is saved locally in <code>/home/vpetukhov/other/Consulting/SEADS/EAForumExperiments/wandb/run-20221107_172747-1bik33ml</code>"
      ],
      "text/plain": [
       "<IPython.core.display.HTML object>"
      ]
     },
     "metadata": {},
     "output_type": "display_data"
    },
    {
     "data": {
      "text/html": [
       "Syncing run <strong><a href=\"https://wandb.ai/vpetukhov/ea-forum-analysis/runs/1bik33ml\" target=\"_blank\">glowing-shape-6</a></strong> to <a href=\"https://wandb.ai/vpetukhov/ea-forum-analysis\" target=\"_blank\">Weights & Biases</a> (<a href=\"https://wandb.me/run\" target=\"_blank\">docs</a>)<br/>"
      ],
      "text/plain": [
       "<IPython.core.display.HTML object>"
      ]
     },
     "metadata": {},
     "output_type": "display_data"
    }
   ],
   "source": [
    "%load_ext autoreload\n",
    "%autoreload 2\n",
    "\n",
    "import sys\n",
    "sys.path.append(\"../\")\n",
    "\n",
    "from os import environ\n",
    "from dotenv import load_dotenv\n",
    "import wandb\n",
    "\n",
    "import pandas as pd\n",
    "from pandas import DataFrame\n",
    "from datasets import Dataset\n",
    "\n",
    "from src.forum_gql_utils import *\n",
    "from src.parsing import get_html_parser\n",
    "from src.paths import *\n",
    "\n",
    "from tqdm.auto import tqdm\n",
    "tqdm.pandas()\n",
    "\n",
    "load_dotenv()\n",
    "\n",
    "wandb.login() # relies on WANDB_API_KEY env var\n",
    "run = wandb.init(project=\"ea-forum-analysis\", job_type=\"scrape\", dir=get_project_root())"
   ]
  },
  {
   "cell_type": "markdown",
   "id": "3e0bf974-273e-4375-ba8f-d8a7f0096019",
   "metadata": {},
   "source": [
    "See https://forum.effectivealtruism.org/graphiql for interactive version and https://www.lesswrong.com/posts/LJiGhpq8w4Badr5KJ/graphql-tutorial-for-lesswrong-and-effective-altruism-forum for a manual."
   ]
  },
  {
   "cell_type": "markdown",
   "id": "331c2f24",
   "metadata": {},
   "source": [
    "## Posts"
   ]
  },
  {
   "cell_type": "code",
   "execution_count": 2,
   "id": "ac3664ea",
   "metadata": {},
   "outputs": [
    {
     "data": {
      "application/vnd.jupyter.widget-view+json": {
       "model_id": "fed46f02fb7449f595fe0cd879545e25",
       "version_major": 2,
       "version_minor": 0
      },
      "text/plain": [
       "  0%|          | 0/3 [00:00<?, ?it/s]"
      ]
     },
     "metadata": {},
     "output_type": "display_data"
    },
    {
     "name": "stdout",
     "output_type": "stream",
     "text": [
      "Scraped 11006 posts\n"
     ]
    }
   ],
   "source": [
    "posts = scrape_forum(content='posts', url=EA_GQL_URL, limit=15000, step=5000)\n",
    "print(f\"Scraped {len(posts)} posts\")"
   ]
  },
  {
   "cell_type": "code",
   "execution_count": 3,
   "id": "0d937312",
   "metadata": {},
   "outputs": [
    {
     "data": {
      "application/vnd.jupyter.widget-view+json": {
       "model_id": "bea13a3214e64b0c8f1eb421568917b8",
       "version_major": 2,
       "version_minor": 0
      },
      "text/plain": [
       "  0%|          | 0/11006 [00:00<?, ?it/s]"
      ]
     },
     "metadata": {},
     "output_type": "display_data"
    },
    {
     "data": {
      "text/plain": [
       "(11006, 14)"
      ]
     },
     "execution_count": 3,
     "metadata": {},
     "output_type": "execute_result"
    }
   ],
   "source": [
    "post_df = DataFrame(posts).set_index('_id')\n",
    "post_df['tags'] = post_df.tags.map(lambda x: [v['name'] for v in x])\n",
    "post_df['postedAt'] = pd.to_datetime(post_df['postedAt'])\n",
    "post_df['userId'] = post_df.user.map(lambda x: x['_id'] if x is not None else '-')\n",
    "post_df['user'] = post_df.user.map(lambda x: x['username'] if x is not None else '-')\n",
    "\n",
    "h2t = get_html_parser()\n",
    "post_df['body'] = post_df['htmlBody'].progress_map(h2t.handle)\n",
    "post_df.shape"
   ]
  },
  {
   "cell_type": "code",
   "execution_count": 20,
   "id": "cd81accd",
   "metadata": {},
   "outputs": [],
   "source": [
    "post_data = Dataset.from_pandas(post_df)\n",
    "post_data.save_to_disk(datap('posts'))\n",
    "# post_df.to_csv(datap('posts.csv'))\n",
    "\n",
    "art = wandb.Artifact(\"posts_raw\", type=\"dataset\")\n",
    "art.add_dir(datap('posts'))\n",
    "run.log_artifact(art)"
   ]
  },
  {
   "cell_type": "markdown",
   "id": "448100e8",
   "metadata": {},
   "source": [
    "## Users"
   ]
  },
  {
   "cell_type": "code",
   "execution_count": 22,
   "id": "902e5dd1",
   "metadata": {},
   "outputs": [
    {
     "data": {
      "application/vnd.jupyter.widget-view+json": {
       "model_id": "1eee13086c624ad09d014c151664d925",
       "version_major": 2,
       "version_minor": 0
      },
      "text/plain": [
       "  0%|          | 0/6 [00:00<?, ?it/s]"
      ]
     },
     "metadata": {},
     "output_type": "display_data"
    },
    {
     "name": "stdout",
     "output_type": "stream",
     "text": [
      "Scraped 24765 users\n"
     ]
    }
   ],
   "source": [
    "users = scrape_forum(content='users', url=EA_GQL_URL, limit=30000)\n",
    "print(f\"Scraped {len(users)} users\")"
   ]
  },
  {
   "cell_type": "code",
   "execution_count": 28,
   "id": "531a18fa",
   "metadata": {},
   "outputs": [
    {
     "name": "stderr",
     "output_type": "stream",
     "text": [
      "\u001b[34m\u001b[1mwandb\u001b[0m: Adding directory to artifact (/home/vpetukhov/other/Consulting/SEADS/EAForumExperiments/data/users)... Done. 0.5s\n"
     ]
    },
    {
     "data": {
      "text/plain": [
       "<wandb.sdk.wandb_artifacts.Artifact at 0x7f4436d10d60>"
      ]
     },
     "execution_count": 28,
     "metadata": {},
     "output_type": "execute_result"
    }
   ],
   "source": [
    "user_df = DataFrame(users).set_index('_id')\n",
    "user_df['posts'] = user_df['posts'].map(lambda x: [v['_id'] for v in x])\n",
    "\n",
    "Dataset.from_pandas(post_df).save_to_disk(datap('users'))\n",
    "# user_df.to_csv('./data/users.csv')\n",
    "\n",
    "art = wandb.Artifact(\"users_raw\", type=\"dataset\")\n",
    "art.add_dir(datap('users'))\n",
    "run.log_artifact(art)"
   ]
  },
  {
   "cell_type": "markdown",
   "id": "d87370a1",
   "metadata": {},
   "source": [
    "## Comments"
   ]
  },
  {
   "cell_type": "code",
   "execution_count": 29,
   "id": "c3957491",
   "metadata": {},
   "outputs": [
    {
     "data": {
      "application/vnd.jupyter.widget-view+json": {
       "model_id": "f7e997009d36459db155fd472c01a788",
       "version_major": 2,
       "version_minor": 0
      },
      "text/plain": [
       "  0%|          | 0/4 [00:00<?, ?it/s]"
      ]
     },
     "metadata": {},
     "output_type": "display_data"
    },
    {
     "data": {
      "text/plain": [
       "20000"
      ]
     },
     "execution_count": 29,
     "metadata": {},
     "output_type": "execute_result"
    }
   ],
   "source": [
    "comments = scrape_forum(content='comments', url=EA_GQL_URL, limit=200000)\n",
    "print(f\"Scraped {len(comments)} users\")"
   ]
  },
  {
   "cell_type": "code",
   "execution_count": 31,
   "id": "a00a6021",
   "metadata": {},
   "outputs": [],
   "source": [
    "comments_df = DataFrame(comments).set_index('_id')\n",
    "comments_df = comments_df[(~comments_df.user.isna()) & (~comments_df.htmlBody.isna())]\n",
    "\n",
    "comments_df['username'] = comments_df.user.map(lambda x: x['username'])\n",
    "comments_df['userId'] = comments_df.user.map(lambda x: x['_id'])\n",
    "del comments_df['user']\n",
    "\n",
    "comments_df['allVotes'] = comments_df['allVotes'].map(lambda x: ','.join([v['voteType'] for v in x]))\n",
    "\n",
    "# comments_df['score'] = comments['score'].map(get_number)\n",
    "# comments_df['baseScore'] = comments['baseScore'].map(get_number)\n",
    "comments_df['body'] = comments_df.htmlBody.progress_map(h2t.handle)"
   ]
  },
  {
   "cell_type": "code",
   "execution_count": 52,
   "id": "4ceabd90-b4f8-4499-ad4b-4ec929cf95c6",
   "metadata": {},
   "outputs": [],
   "source": [
    "Dataset.from_pandas(comments_df).save_to_disk(datap('comments'))\n",
    "# comments_df.to_csv('./data/comments.csv')\n",
    "\n",
    "art = wandb.Artifact(\"comments_raw\", type=\"dataset\")\n",
    "art.add_dir(datap('comments'))\n",
    "run.log_artifact(art)"
   ]
  },
  {
   "cell_type": "code",
   "execution_count": 35,
   "id": "c5fb434a",
   "metadata": {},
   "outputs": [
    {
     "data": {
      "text/html": [
       "Waiting for W&B process to finish... <strong style=\"color:green\">(success).</strong>"
      ],
      "text/plain": [
       "<IPython.core.display.HTML object>"
      ]
     },
     "metadata": {},
     "output_type": "display_data"
    }
   ],
   "source": [
    "run.finish()"
   ]
  }
 ],
 "metadata": {
  "kernelspec": {
   "display_name": "Python 3.8.13 (conda)",
   "language": "python",
   "name": "python3"
  },
  "language_info": {
   "codemirror_mode": {
    "name": "ipython",
    "version": 3
   },
   "file_extension": ".py",
   "mimetype": "text/x-python",
   "name": "python",
   "nbconvert_exporter": "python",
   "pygments_lexer": "ipython3",
   "version": "3.8.13"
  },
  "vscode": {
   "interpreter": {
    "hash": "94600d5031569c7617ef443af57f47df7391674c50ebfb7f636fa8887522be49"
   }
  }
 },
 "nbformat": 4,
 "nbformat_minor": 5
}
