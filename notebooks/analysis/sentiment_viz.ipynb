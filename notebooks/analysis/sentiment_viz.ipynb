{
 "cells": [
  {
   "cell_type": "code",
   "execution_count": 1,
   "metadata": {},
   "outputs": [],
   "source": [
    "import os\n",
    "import sys\n",
    "\n",
    "sys.path.append(os.path.dirname(os.path.dirname(sys.path[0])))"
   ]
  },
  {
   "cell_type": "code",
   "execution_count": 2,
   "metadata": {},
   "outputs": [],
   "source": [
    "import altair as alt\n",
    "\n",
    "alt.data_transformers.enable(\"json\")\n",
    "\n",
    "import pandas as pd\n",
    "\n",
    "from datasets import Dataset\n",
    "from pandas import DataFrame\n",
    "\n",
    "from src.paths import *\n",
    "\n",
    "from tqdm.auto import tqdm\n",
    "\n",
    "tqdm.pandas()"
   ]
  },
  {
   "cell_type": "code",
   "execution_count": 3,
   "metadata": {},
   "outputs": [],
   "source": [
    "SINCE = pd.to_datetime(\"2022-01-01\")\n",
    "CAUSE_AREAS = [\"AI alignment\", \"Global health & development\", \"Community\"]"
   ]
  },
  {
   "cell_type": "code",
   "execution_count": 17,
   "metadata": {},
   "outputs": [],
   "source": [
    "sp = slidesp()\n",
    "!mkdir -p $sp"
   ]
  },
  {
   "attachments": {},
   "cell_type": "markdown",
   "metadata": {},
   "source": [
    "## Load data"
   ]
  },
  {
   "attachments": {},
   "cell_type": "markdown",
   "metadata": {},
   "source": [
    "### Posts"
   ]
  },
  {
   "cell_type": "code",
   "execution_count": 50,
   "metadata": {},
   "outputs": [],
   "source": [
    "posts = Dataset.load_from_disk(dataset_path=datap(\"posts\")).to_pandas()\n",
    "posts[\"postedAt\"] = posts[\"postedAt\"].dt.tz_localize(None)\n",
    "posts = posts.loc[(posts.postedAt >= SINCE)]"
   ]
  },
  {
   "cell_type": "code",
   "execution_count": 5,
   "metadata": {},
   "outputs": [],
   "source": [
    "posts_split_df = Dataset.load_from_disk(cachep(\"posts_split_ds\")).to_pandas()\n",
    "posts_sentiment = Dataset.load_from_disk(cachep(\"posts_split_sentiment_ds\"))"
   ]
  },
  {
   "cell_type": "code",
   "execution_count": 6,
   "metadata": {},
   "outputs": [],
   "source": [
    "posts_emotions = Dataset.load_from_disk(cachep(\"posts_split_emotions_ds\"))"
   ]
  },
  {
   "attachments": {},
   "cell_type": "markdown",
   "metadata": {},
   "source": [
    "### Comments"
   ]
  },
  {
   "cell_type": "code",
   "execution_count": 7,
   "metadata": {},
   "outputs": [],
   "source": [
    "comments = Dataset.load_from_disk(dataset_path=datap(\"comments\")).to_pandas()\n",
    "comments[\"postedAt\"] = comments[\"postedAt\"].dt.tz_localize(None)\n",
    "comments = comments[comments[\"postedAt\"] >= SINCE]"
   ]
  },
  {
   "cell_type": "code",
   "execution_count": 8,
   "metadata": {},
   "outputs": [],
   "source": [
    "comments_emotions = Dataset.load_from_disk(cachep(\"comments_emotions_ds\")).to_pandas()\n",
    "comments_emotions[\"postedAt\"] = comments_emotions[\"postedAt\"].dt.tz_localize(None)"
   ]
  },
  {
   "cell_type": "code",
   "execution_count": 9,
   "metadata": {},
   "outputs": [],
   "source": [
    "comments_sentiment = Dataset.load_from_disk(cachep(\"comments_sentiment_ds\"))"
   ]
  },
  {
   "attachments": {},
   "cell_type": "markdown",
   "metadata": {},
   "source": [
    "## Plots"
   ]
  },
  {
   "attachments": {},
   "cell_type": "markdown",
   "metadata": {},
   "source": [
    "### Posts per month"
   ]
  },
  {
   "cell_type": "code",
   "execution_count": 20,
   "metadata": {},
   "outputs": [
    {
     "name": "stderr",
     "output_type": "stream",
     "text": [
      "/Users/vpetukhov/mambaforge/envs/ea-forum-experiments/lib/python3.10/site-packages/altair/utils/core.py:283: FutureWarning: iteritems is deprecated and will be removed in a future version. Use .items instead.\n",
      "  for col_name, dtype in df.dtypes.iteritems():\n"
     ]
    },
    {
     "data": {
      "text/html": [
       "\n",
       "<div id=\"altair-viz-79005093d57b4a9ba160f9eb4d96144a\"></div>\n",
       "<script type=\"text/javascript\">\n",
       "  (function(spec, embedOpt){\n",
       "    let outputDiv = document.currentScript.previousElementSibling;\n",
       "    if (outputDiv.id !== \"altair-viz-79005093d57b4a9ba160f9eb4d96144a\") {\n",
       "      outputDiv = document.getElementById(\"altair-viz-79005093d57b4a9ba160f9eb4d96144a\");\n",
       "    }\n",
       "    const paths = {\n",
       "      \"vega\": \"https://cdn.jsdelivr.net/npm//vega@5?noext\",\n",
       "      \"vega-lib\": \"https://cdn.jsdelivr.net/npm//vega-lib?noext\",\n",
       "      \"vega-lite\": \"https://cdn.jsdelivr.net/npm//vega-lite@4.8.1?noext\",\n",
       "      \"vega-embed\": \"https://cdn.jsdelivr.net/npm//vega-embed@6?noext\",\n",
       "    };\n",
       "\n",
       "    function loadScript(lib) {\n",
       "      return new Promise(function(resolve, reject) {\n",
       "        var s = document.createElement('script');\n",
       "        s.src = paths[lib];\n",
       "        s.async = true;\n",
       "        s.onload = () => resolve(paths[lib]);\n",
       "        s.onerror = () => reject(`Error loading script: ${paths[lib]}`);\n",
       "        document.getElementsByTagName(\"head\")[0].appendChild(s);\n",
       "      });\n",
       "    }\n",
       "\n",
       "    function showError(err) {\n",
       "      outputDiv.innerHTML = `<div class=\"error\" style=\"color:red;\">${err}</div>`;\n",
       "      throw err;\n",
       "    }\n",
       "\n",
       "    function displayChart(vegaEmbed) {\n",
       "      vegaEmbed(outputDiv, spec, embedOpt)\n",
       "        .catch(err => showError(`Javascript Error: ${err.message}<br>This usually means there's a typo in your chart specification. See the javascript console for the full traceback.`));\n",
       "    }\n",
       "\n",
       "    if(typeof define === \"function\" && define.amd) {\n",
       "      requirejs.config({paths});\n",
       "      require([\"vega-embed\"], displayChart, err => showError(`Error loading script: ${err.message}`));\n",
       "    } else if (typeof vegaEmbed === \"function\") {\n",
       "      displayChart(vegaEmbed);\n",
       "    } else {\n",
       "      loadScript(\"vega\")\n",
       "        .then(() => loadScript(\"vega-lite\"))\n",
       "        .then(() => loadScript(\"vega-embed\"))\n",
       "        .catch(showError)\n",
       "        .then(() => displayChart(vegaEmbed));\n",
       "    }\n",
       "  })({\"config\": {\"view\": {\"continuousWidth\": 400, \"continuousHeight\": 300}}, \"data\": {\"url\": \"altair-data-526d5c678ab3077765e972406d21bb9b.json\", \"format\": {\"type\": \"json\"}}, \"mark\": \"bar\", \"encoding\": {\"x\": {\"type\": \"temporal\", \"field\": \"postedAt\", \"timeUnit\": \"yearmonth\", \"title\": \"Month\"}, \"y\": {\"type\": \"quantitative\", \"field\": \"count\", \"title\": \"Number of posts\"}}, \"$schema\": \"https://vega.github.io/schema/vega-lite/v4.8.1.json\"}, {\"mode\": \"vega-lite\"});\n",
       "</script>"
      ],
      "text/plain": [
       "alt.Chart(...)"
      ]
     },
     "execution_count": 20,
     "metadata": {},
     "output_type": "execute_result"
    }
   ],
   "source": [
    "df = posts.groupby(pd.Grouper(key=\"postedAt\", freq=\"M\")).size().reset_index(name=\"count\")\n",
    "\n",
    "chart = (\n",
    "    alt.Chart(df)\n",
    "    .mark_bar()\n",
    "    .encode(\n",
    "        x=alt.X(\"yearmonth(postedAt):T\", title=\"Month\"),\n",
    "        y=alt.Y(\"count\", title=\"Number of posts\"),\n",
    "    )\n",
    ")\n",
    "\n",
    "chart.save(slidesp(\"posts_per_month.svg\"))\n",
    "chart"
   ]
  },
  {
   "attachments": {},
   "cell_type": "markdown",
   "metadata": {},
   "source": [
    "### Post sentiments"
   ]
  },
  {
   "cell_type": "code",
   "execution_count": 21,
   "metadata": {},
   "outputs": [
    {
     "name": "stderr",
     "output_type": "stream",
     "text": [
      "/Users/vpetukhov/mambaforge/envs/ea-forum-experiments/lib/python3.10/site-packages/altair/utils/core.py:283: FutureWarning: iteritems is deprecated and will be removed in a future version. Use .items instead.\n",
      "  for col_name, dtype in df.dtypes.iteritems():\n"
     ]
    },
    {
     "data": {
      "text/html": [
       "\n",
       "<div id=\"altair-viz-d2e9329e20b244b49095f7f90cb9c24f\"></div>\n",
       "<script type=\"text/javascript\">\n",
       "  (function(spec, embedOpt){\n",
       "    let outputDiv = document.currentScript.previousElementSibling;\n",
       "    if (outputDiv.id !== \"altair-viz-d2e9329e20b244b49095f7f90cb9c24f\") {\n",
       "      outputDiv = document.getElementById(\"altair-viz-d2e9329e20b244b49095f7f90cb9c24f\");\n",
       "    }\n",
       "    const paths = {\n",
       "      \"vega\": \"https://cdn.jsdelivr.net/npm//vega@5?noext\",\n",
       "      \"vega-lib\": \"https://cdn.jsdelivr.net/npm//vega-lib?noext\",\n",
       "      \"vega-lite\": \"https://cdn.jsdelivr.net/npm//vega-lite@4.8.1?noext\",\n",
       "      \"vega-embed\": \"https://cdn.jsdelivr.net/npm//vega-embed@6?noext\",\n",
       "    };\n",
       "\n",
       "    function loadScript(lib) {\n",
       "      return new Promise(function(resolve, reject) {\n",
       "        var s = document.createElement('script');\n",
       "        s.src = paths[lib];\n",
       "        s.async = true;\n",
       "        s.onload = () => resolve(paths[lib]);\n",
       "        s.onerror = () => reject(`Error loading script: ${paths[lib]}`);\n",
       "        document.getElementsByTagName(\"head\")[0].appendChild(s);\n",
       "      });\n",
       "    }\n",
       "\n",
       "    function showError(err) {\n",
       "      outputDiv.innerHTML = `<div class=\"error\" style=\"color:red;\">${err}</div>`;\n",
       "      throw err;\n",
       "    }\n",
       "\n",
       "    function displayChart(vegaEmbed) {\n",
       "      vegaEmbed(outputDiv, spec, embedOpt)\n",
       "        .catch(err => showError(`Javascript Error: ${err.message}<br>This usually means there's a typo in your chart specification. See the javascript console for the full traceback.`));\n",
       "    }\n",
       "\n",
       "    if(typeof define === \"function\" && define.amd) {\n",
       "      requirejs.config({paths});\n",
       "      require([\"vega-embed\"], displayChart, err => showError(`Error loading script: ${err.message}`));\n",
       "    } else if (typeof vegaEmbed === \"function\") {\n",
       "      displayChart(vegaEmbed);\n",
       "    } else {\n",
       "      loadScript(\"vega\")\n",
       "        .then(() => loadScript(\"vega-lite\"))\n",
       "        .then(() => loadScript(\"vega-embed\"))\n",
       "        .catch(showError)\n",
       "        .then(() => displayChart(vegaEmbed));\n",
       "    }\n",
       "  })({\"config\": {\"view\": {\"continuousWidth\": 400, \"continuousHeight\": 300}}, \"data\": {\"url\": \"altair-data-7328de830e46ec038cc349ff5a6ba3f7.json\", \"format\": {\"type\": \"json\"}}, \"mark\": \"bar\", \"encoding\": {\"color\": {\"type\": \"nominal\", \"field\": \"sentiment\", \"title\": \"Sentiment\"}, \"column\": {\"type\": \"nominal\", \"field\": \"sentiment\", \"title\": \"Sentiment\"}, \"x\": {\"type\": \"temporal\", \"field\": \"postedAt\", \"timeUnit\": \"yearmonth\", \"title\": \"Month\"}, \"y\": {\"type\": \"quantitative\", \"field\": \"count\", \"title\": \"Number of posts\"}}, \"$schema\": \"https://vega.github.io/schema/vega-lite/v4.8.1.json\"}, {\"mode\": \"vega-lite\"});\n",
       "</script>"
      ],
      "text/plain": [
       "alt.Chart(...)"
      ]
     },
     "execution_count": 21,
     "metadata": {},
     "output_type": "execute_result"
    }
   ],
   "source": [
    "df = posts_sentiment.to_pandas()\n",
    "df = df.loc[df.postedAt >= SINCE]\n",
    "df = (\n",
    "    df.groupby([pd.Grouper(key=\"postedAt\", freq=\"M\"), \"sentiment\"])\n",
    "    .size()\n",
    "    .reset_index(name=\"count\")\n",
    ")\n",
    "\n",
    "chart = (\n",
    "    alt.Chart(df)\n",
    "    .mark_bar()\n",
    "    .encode(\n",
    "        x=alt.X(\"yearmonth(postedAt):T\", title=\"Month\"),\n",
    "        y=alt.Y(\"count\", title=\"Number of posts\"),\n",
    "        color=alt.Color(\"sentiment\", title=\"Sentiment\"),\n",
    "        column=alt.Column(\"sentiment:N\", title=\"Sentiment\"),\n",
    "    )\n",
    ")\n",
    "chart.save(slidesp(\"posts_sentiment_per_month.svg\"))\n",
    "chart"
   ]
  },
  {
   "cell_type": "code",
   "execution_count": 23,
   "metadata": {},
   "outputs": [
    {
     "name": "stderr",
     "output_type": "stream",
     "text": [
      "/Users/vpetukhov/mambaforge/envs/ea-forum-experiments/lib/python3.10/site-packages/altair/utils/core.py:283: FutureWarning: iteritems is deprecated and will be removed in a future version. Use .items instead.\n",
      "  for col_name, dtype in df.dtypes.iteritems():\n"
     ]
    },
    {
     "data": {
      "text/html": [
       "\n",
       "<div id=\"altair-viz-4ae00cbfcd99419385b5e63686ce8378\"></div>\n",
       "<script type=\"text/javascript\">\n",
       "  (function(spec, embedOpt){\n",
       "    let outputDiv = document.currentScript.previousElementSibling;\n",
       "    if (outputDiv.id !== \"altair-viz-4ae00cbfcd99419385b5e63686ce8378\") {\n",
       "      outputDiv = document.getElementById(\"altair-viz-4ae00cbfcd99419385b5e63686ce8378\");\n",
       "    }\n",
       "    const paths = {\n",
       "      \"vega\": \"https://cdn.jsdelivr.net/npm//vega@5?noext\",\n",
       "      \"vega-lib\": \"https://cdn.jsdelivr.net/npm//vega-lib?noext\",\n",
       "      \"vega-lite\": \"https://cdn.jsdelivr.net/npm//vega-lite@4.8.1?noext\",\n",
       "      \"vega-embed\": \"https://cdn.jsdelivr.net/npm//vega-embed@6?noext\",\n",
       "    };\n",
       "\n",
       "    function loadScript(lib) {\n",
       "      return new Promise(function(resolve, reject) {\n",
       "        var s = document.createElement('script');\n",
       "        s.src = paths[lib];\n",
       "        s.async = true;\n",
       "        s.onload = () => resolve(paths[lib]);\n",
       "        s.onerror = () => reject(`Error loading script: ${paths[lib]}`);\n",
       "        document.getElementsByTagName(\"head\")[0].appendChild(s);\n",
       "      });\n",
       "    }\n",
       "\n",
       "    function showError(err) {\n",
       "      outputDiv.innerHTML = `<div class=\"error\" style=\"color:red;\">${err}</div>`;\n",
       "      throw err;\n",
       "    }\n",
       "\n",
       "    function displayChart(vegaEmbed) {\n",
       "      vegaEmbed(outputDiv, spec, embedOpt)\n",
       "        .catch(err => showError(`Javascript Error: ${err.message}<br>This usually means there's a typo in your chart specification. See the javascript console for the full traceback.`));\n",
       "    }\n",
       "\n",
       "    if(typeof define === \"function\" && define.amd) {\n",
       "      requirejs.config({paths});\n",
       "      require([\"vega-embed\"], displayChart, err => showError(`Error loading script: ${err.message}`));\n",
       "    } else if (typeof vegaEmbed === \"function\") {\n",
       "      displayChart(vegaEmbed);\n",
       "    } else {\n",
       "      loadScript(\"vega\")\n",
       "        .then(() => loadScript(\"vega-lite\"))\n",
       "        .then(() => loadScript(\"vega-embed\"))\n",
       "        .catch(showError)\n",
       "        .then(() => displayChart(vegaEmbed));\n",
       "    }\n",
       "  })({\"config\": {\"view\": {\"continuousWidth\": 400, \"continuousHeight\": 300}}, \"data\": {\"url\": \"altair-data-0f72a85af65ede3f0a14e26874d49fe3.json\", \"format\": {\"type\": \"json\"}}, \"mark\": \"area\", \"encoding\": {\"color\": {\"type\": \"nominal\", \"field\": \"sentiment\", \"title\": \"Emotion\"}, \"x\": {\"type\": \"ordinal\", \"field\": \"month\", \"timeUnit\": \"yearmonth\", \"title\": \"Month\"}, \"y\": {\"type\": \"quantitative\", \"field\": \"count\", \"scale\": {\"domain\": [0, 1]}, \"title\": \"Proportion of posts\"}}, \"height\": 200, \"width\": 600, \"$schema\": \"https://vega.github.io/schema/vega-lite/v4.8.1.json\"}, {\"mode\": \"vega-lite\"});\n",
       "</script>"
      ],
      "text/plain": [
       "alt.Chart(...)"
      ]
     },
     "execution_count": 23,
     "metadata": {},
     "output_type": "execute_result"
    }
   ],
   "source": [
    "df = posts_sentiment.to_pandas()\n",
    "df = df.loc[df.postedAt >= SINCE]\n",
    "df[\"month\"] = pd.to_datetime(df[\"postedAt\"]).dt.to_period(\"M\")\n",
    "\n",
    "grouped = df.groupby([\"month\", \"sentiment\"]).agg(count=(\"text\", \"count\"))\n",
    "totals = grouped.groupby(\"month\").agg(count=(\"count\", \"sum\"))\n",
    "\n",
    "grouped[\"count\"] = grouped[\"count\"].div(totals[\"count\"], axis=0)\n",
    "grouped = grouped.reset_index()\n",
    "grouped[\"month\"] = pd.to_datetime(grouped[\"month\"].dt.to_timestamp())\n",
    "\n",
    "chart = (\n",
    "    alt.Chart(grouped.reset_index())\n",
    "    .mark_area()\n",
    "    .encode(\n",
    "        color=alt.Color(\"sentiment:N\", title=\"Emotion\"),\n",
    "        x=alt.X(\"yearmonth(month):O\", title=\"Month\"),\n",
    "        y=alt.Y(\"count:Q\", title=\"Proportion of posts\", scale=alt.Scale(domain=(0, 1))),\n",
    "    )\n",
    "    .properties(width=600, height=200)\n",
    ")\n",
    "chart.save(slidesp(\"posts_sentiments_per_month_cols_proportion.svg\"))\n",
    "chart"
   ]
  },
  {
   "attachments": {},
   "cell_type": "markdown",
   "metadata": {},
   "source": [
    "### Post emotins"
   ]
  },
  {
   "cell_type": "code",
   "execution_count": 24,
   "metadata": {},
   "outputs": [
    {
     "name": "stderr",
     "output_type": "stream",
     "text": [
      "/Users/vpetukhov/mambaforge/envs/ea-forum-experiments/lib/python3.10/site-packages/altair/utils/core.py:283: FutureWarning: iteritems is deprecated and will be removed in a future version. Use .items instead.\n",
      "  for col_name, dtype in df.dtypes.iteritems():\n"
     ]
    },
    {
     "data": {
      "text/html": [
       "\n",
       "<div id=\"altair-viz-319fe7e682a642449540c1b44832d3c4\"></div>\n",
       "<script type=\"text/javascript\">\n",
       "  (function(spec, embedOpt){\n",
       "    let outputDiv = document.currentScript.previousElementSibling;\n",
       "    if (outputDiv.id !== \"altair-viz-319fe7e682a642449540c1b44832d3c4\") {\n",
       "      outputDiv = document.getElementById(\"altair-viz-319fe7e682a642449540c1b44832d3c4\");\n",
       "    }\n",
       "    const paths = {\n",
       "      \"vega\": \"https://cdn.jsdelivr.net/npm//vega@5?noext\",\n",
       "      \"vega-lib\": \"https://cdn.jsdelivr.net/npm//vega-lib?noext\",\n",
       "      \"vega-lite\": \"https://cdn.jsdelivr.net/npm//vega-lite@4.8.1?noext\",\n",
       "      \"vega-embed\": \"https://cdn.jsdelivr.net/npm//vega-embed@6?noext\",\n",
       "    };\n",
       "\n",
       "    function loadScript(lib) {\n",
       "      return new Promise(function(resolve, reject) {\n",
       "        var s = document.createElement('script');\n",
       "        s.src = paths[lib];\n",
       "        s.async = true;\n",
       "        s.onload = () => resolve(paths[lib]);\n",
       "        s.onerror = () => reject(`Error loading script: ${paths[lib]}`);\n",
       "        document.getElementsByTagName(\"head\")[0].appendChild(s);\n",
       "      });\n",
       "    }\n",
       "\n",
       "    function showError(err) {\n",
       "      outputDiv.innerHTML = `<div class=\"error\" style=\"color:red;\">${err}</div>`;\n",
       "      throw err;\n",
       "    }\n",
       "\n",
       "    function displayChart(vegaEmbed) {\n",
       "      vegaEmbed(outputDiv, spec, embedOpt)\n",
       "        .catch(err => showError(`Javascript Error: ${err.message}<br>This usually means there's a typo in your chart specification. See the javascript console for the full traceback.`));\n",
       "    }\n",
       "\n",
       "    if(typeof define === \"function\" && define.amd) {\n",
       "      requirejs.config({paths});\n",
       "      require([\"vega-embed\"], displayChart, err => showError(`Error loading script: ${err.message}`));\n",
       "    } else if (typeof vegaEmbed === \"function\") {\n",
       "      displayChart(vegaEmbed);\n",
       "    } else {\n",
       "      loadScript(\"vega\")\n",
       "        .then(() => loadScript(\"vega-lite\"))\n",
       "        .then(() => loadScript(\"vega-embed\"))\n",
       "        .catch(showError)\n",
       "        .then(() => displayChart(vegaEmbed));\n",
       "    }\n",
       "  })({\"config\": {\"view\": {\"continuousWidth\": 400, \"continuousHeight\": 300}}, \"data\": {\"url\": \"altair-data-13c2efa4343310a2bca86ae7f26da8ab.json\", \"format\": {\"type\": \"json\"}}, \"mark\": \"bar\", \"encoding\": {\"x\": {\"type\": \"nominal\", \"field\": \"emotion\", \"sort\": [\"impressed\", \"apprehensive\", \"hopeful\", \"prepared\", \"confident\", \"proud\", \"trusting\", \"anticipating\", \"anxious\", \"disgusted\", \"annoyed\", \"surprised\", \"caring\", \"faithful\", \"disappointed\", \"jealous\", \"excited\", \"content\", \"terrified\", \"nostalgic\", \"angry\", \"sentimental\", \"sad\", \"afraid\", \"grateful\", \"furious\", \"lonely\", \"devastated\", \"embarrassed\", \"joyful\", \"ashamed\", \"guilty\"], \"title\": \"Emotion\"}, \"y\": {\"type\": \"quantitative\", \"field\": \"count\", \"title\": \"Number of posts\"}}, \"height\": 120, \"width\": 600, \"$schema\": \"https://vega.github.io/schema/vega-lite/v4.8.1.json\"}, {\"mode\": \"vega-lite\"});\n",
       "</script>"
      ],
      "text/plain": [
       "alt.Chart(...)"
      ]
     },
     "execution_count": 24,
     "metadata": {},
     "output_type": "execute_result"
    }
   ],
   "source": [
    "df = posts_emotions.to_pandas()\n",
    "df = (\n",
    "    df.groupby(\"emotion\")\n",
    "    .size()\n",
    "    .to_frame(name=\"count\")\n",
    "    .reset_index(names=\"emotion\")\n",
    "    .sort_values(by=\"count\", ascending=False)\n",
    ")\n",
    "\n",
    "chart = (\n",
    "    alt.Chart(df)\n",
    "    .mark_bar()\n",
    "    .encode(\n",
    "        x=alt.X(\"emotion\", title=\"Emotion\", sort=df.emotion.values),\n",
    "        y=alt.Y(\"count\", title=\"Number of posts\"),\n",
    "    )\n",
    ").properties(width=600, height=120)\n",
    "chart.save(slidesp(\"posts_emotions_bar.svg\"))\n",
    "chart"
   ]
  },
  {
   "cell_type": "code",
   "execution_count": 25,
   "metadata": {},
   "outputs": [],
   "source": [
    "from collections import Counter\n",
    "\n",
    "top_posts_emotions = Counter(posts_emotions[\"emotion\"]).most_common(5)\n",
    "top_posts_emotions = [x[0] for x in top_posts_emotions]"
   ]
  },
  {
   "cell_type": "code",
   "execution_count": 28,
   "metadata": {},
   "outputs": [
    {
     "name": "stderr",
     "output_type": "stream",
     "text": [
      "/Users/vpetukhov/mambaforge/envs/ea-forum-experiments/lib/python3.10/site-packages/altair/utils/core.py:283: FutureWarning: iteritems is deprecated and will be removed in a future version. Use .items instead.\n",
      "  for col_name, dtype in df.dtypes.iteritems():\n"
     ]
    },
    {
     "data": {
      "text/html": [
       "\n",
       "<div id=\"altair-viz-5a3dd4f337e040c79de7228c8c00f8fe\"></div>\n",
       "<script type=\"text/javascript\">\n",
       "  (function(spec, embedOpt){\n",
       "    let outputDiv = document.currentScript.previousElementSibling;\n",
       "    if (outputDiv.id !== \"altair-viz-5a3dd4f337e040c79de7228c8c00f8fe\") {\n",
       "      outputDiv = document.getElementById(\"altair-viz-5a3dd4f337e040c79de7228c8c00f8fe\");\n",
       "    }\n",
       "    const paths = {\n",
       "      \"vega\": \"https://cdn.jsdelivr.net/npm//vega@5?noext\",\n",
       "      \"vega-lib\": \"https://cdn.jsdelivr.net/npm//vega-lib?noext\",\n",
       "      \"vega-lite\": \"https://cdn.jsdelivr.net/npm//vega-lite@4.8.1?noext\",\n",
       "      \"vega-embed\": \"https://cdn.jsdelivr.net/npm//vega-embed@6?noext\",\n",
       "    };\n",
       "\n",
       "    function loadScript(lib) {\n",
       "      return new Promise(function(resolve, reject) {\n",
       "        var s = document.createElement('script');\n",
       "        s.src = paths[lib];\n",
       "        s.async = true;\n",
       "        s.onload = () => resolve(paths[lib]);\n",
       "        s.onerror = () => reject(`Error loading script: ${paths[lib]}`);\n",
       "        document.getElementsByTagName(\"head\")[0].appendChild(s);\n",
       "      });\n",
       "    }\n",
       "\n",
       "    function showError(err) {\n",
       "      outputDiv.innerHTML = `<div class=\"error\" style=\"color:red;\">${err}</div>`;\n",
       "      throw err;\n",
       "    }\n",
       "\n",
       "    function displayChart(vegaEmbed) {\n",
       "      vegaEmbed(outputDiv, spec, embedOpt)\n",
       "        .catch(err => showError(`Javascript Error: ${err.message}<br>This usually means there's a typo in your chart specification. See the javascript console for the full traceback.`));\n",
       "    }\n",
       "\n",
       "    if(typeof define === \"function\" && define.amd) {\n",
       "      requirejs.config({paths});\n",
       "      require([\"vega-embed\"], displayChart, err => showError(`Error loading script: ${err.message}`));\n",
       "    } else if (typeof vegaEmbed === \"function\") {\n",
       "      displayChart(vegaEmbed);\n",
       "    } else {\n",
       "      loadScript(\"vega\")\n",
       "        .then(() => loadScript(\"vega-lite\"))\n",
       "        .then(() => loadScript(\"vega-embed\"))\n",
       "        .catch(showError)\n",
       "        .then(() => displayChart(vegaEmbed));\n",
       "    }\n",
       "  })({\"config\": {\"view\": {\"continuousWidth\": 400, \"continuousHeight\": 300}}, \"data\": {\"url\": \"altair-data-fff475d015c2f9cc106042b7c7952644.json\", \"format\": {\"type\": \"json\"}}, \"mark\": \"area\", \"encoding\": {\"color\": {\"type\": \"nominal\", \"field\": \"emotion\", \"title\": \"Emotion\"}, \"tooltip\": [{\"type\": \"nominal\", \"field\": \"emotion\"}, {\"type\": \"temporal\", \"field\": \"month\", \"timeUnit\": \"yearmonth\"}, {\"type\": \"quantitative\", \"field\": \"fraction\"}, {\"type\": \"quantitative\", \"field\": \"count\"}], \"x\": {\"type\": \"ordinal\", \"field\": \"month\", \"timeUnit\": \"yearmonth\", \"title\": \"Month\"}, \"y\": {\"type\": \"quantitative\", \"field\": \"fraction\", \"scale\": {\"domain\": [0, 1]}, \"title\": \"Proportion of posts\"}}, \"height\": 180, \"width\": 600, \"$schema\": \"https://vega.github.io/schema/vega-lite/v4.8.1.json\"}, {\"mode\": \"vega-lite\"});\n",
       "</script>"
      ],
      "text/plain": [
       "alt.Chart(...)"
      ]
     },
     "execution_count": 28,
     "metadata": {},
     "output_type": "execute_result"
    }
   ],
   "source": [
    "df = posts_emotions.to_pandas()\n",
    "df = df.loc[df.postedAt >= SINCE]\n",
    "df = df[df[\"emotion\"].isin(top_posts_emotions)]\n",
    "df[\"month\"] = pd.to_datetime(df[\"postedAt\"]).dt.to_period(\"M\")\n",
    "\n",
    "grouped = df.groupby([\"month\", \"emotion\"]).agg(count=(\"text\", \"count\"))\n",
    "totals = grouped.groupby(\"month\").agg(count=(\"count\", \"sum\"))\n",
    "\n",
    "grouped[\"fraction\"] = grouped[\"count\"].div(totals[\"count\"], axis=0)\n",
    "grouped = grouped.reset_index()\n",
    "grouped[\"month\"] = pd.to_datetime(grouped[\"month\"].dt.to_timestamp())\n",
    "\n",
    "chart = (\n",
    "    alt.Chart(grouped.reset_index())\n",
    "    .mark_area()\n",
    "    .encode(\n",
    "        color=alt.Color(\"emotion:N\", title=\"Emotion\"),\n",
    "        x=alt.X(\"yearmonth(month):O\", title=\"Month\"),\n",
    "        y=alt.Y(\n",
    "            \"fraction:Q\", title=\"Proportion of posts\", scale=alt.Scale(domain=(0, 1))\n",
    "        ),\n",
    "        tooltip=[\"emotion\", \"yearmonth(month)\", \"fraction\", \"count\"],\n",
    "    )\n",
    "    .properties(width=600, height=180)\n",
    ")\n",
    "chart.save(slidesp(\"posts_emotions_per_month_cols_proportion.svg\"))\n",
    "chart"
   ]
  },
  {
   "attachments": {},
   "cell_type": "markdown",
   "metadata": {},
   "source": [
    "### Post emotions per selected cause areas"
   ]
  },
  {
   "cell_type": "code",
   "execution_count": 29,
   "metadata": {},
   "outputs": [
    {
     "name": "stderr",
     "output_type": "stream",
     "text": [
      "/var/folders/wz/r4cy79ls0ts94zdts75trjhw0000gn/T/ipykernel_24563/979125344.py:8: FutureWarning: Using the level keyword in DataFrame and Series aggregations is deprecated and will be removed in a future version. Use groupby instead. df.any(level=1) should use df.groupby(level=1).any()\n",
      "  df_encoded = pd.get_dummies(df[\"tags\"].apply(pd.Series).stack())[CAUSE_AREAS].any(level=0)\n"
     ]
    }
   ],
   "source": [
    "# join posts and posts_emotions\n",
    "# to filter posts_emotions to only include posts with given tags\n",
    "\n",
    "df = posts_emotions.to_pandas().set_index(\"postId\")[[\"emotion\"]]\n",
    "df = df.join(posts.set_index(\"postId\"), how=\"inner\")\n",
    "df = df[[\"postedAt\", \"emotion\", \"tags\"]]\n",
    "df = df.loc[df[\"tags\"].apply(lambda x: any(item in x for item in CAUSE_AREAS))]\n",
    "df_encoded = pd.get_dummies(df[\"tags\"].apply(pd.Series).stack())[CAUSE_AREAS].any(level=0)\n",
    "df = df.drop([\"tags\"], axis=1).merge(df_encoded, on=\"postId\")\n",
    "\n",
    "\n",
    "df_top_emotions = Counter(df[\"emotion\"]).most_common(5)\n",
    "df_top_emotions = [x[0] for x in df_top_emotions]"
   ]
  },
  {
   "cell_type": "code",
   "execution_count": 30,
   "metadata": {},
   "outputs": [
    {
     "name": "stderr",
     "output_type": "stream",
     "text": [
      "/Users/vpetukhov/mambaforge/envs/ea-forum-experiments/lib/python3.10/site-packages/altair/utils/core.py:283: FutureWarning: iteritems is deprecated and will be removed in a future version. Use .items instead.\n",
      "  for col_name, dtype in df.dtypes.iteritems():\n"
     ]
    },
    {
     "data": {
      "text/html": [
       "\n",
       "<div id=\"altair-viz-1047bf25dae945ee8cde9d101a308b5e\"></div>\n",
       "<script type=\"text/javascript\">\n",
       "  (function(spec, embedOpt){\n",
       "    let outputDiv = document.currentScript.previousElementSibling;\n",
       "    if (outputDiv.id !== \"altair-viz-1047bf25dae945ee8cde9d101a308b5e\") {\n",
       "      outputDiv = document.getElementById(\"altair-viz-1047bf25dae945ee8cde9d101a308b5e\");\n",
       "    }\n",
       "    const paths = {\n",
       "      \"vega\": \"https://cdn.jsdelivr.net/npm//vega@5?noext\",\n",
       "      \"vega-lib\": \"https://cdn.jsdelivr.net/npm//vega-lib?noext\",\n",
       "      \"vega-lite\": \"https://cdn.jsdelivr.net/npm//vega-lite@4.8.1?noext\",\n",
       "      \"vega-embed\": \"https://cdn.jsdelivr.net/npm//vega-embed@6?noext\",\n",
       "    };\n",
       "\n",
       "    function loadScript(lib) {\n",
       "      return new Promise(function(resolve, reject) {\n",
       "        var s = document.createElement('script');\n",
       "        s.src = paths[lib];\n",
       "        s.async = true;\n",
       "        s.onload = () => resolve(paths[lib]);\n",
       "        s.onerror = () => reject(`Error loading script: ${paths[lib]}`);\n",
       "        document.getElementsByTagName(\"head\")[0].appendChild(s);\n",
       "      });\n",
       "    }\n",
       "\n",
       "    function showError(err) {\n",
       "      outputDiv.innerHTML = `<div class=\"error\" style=\"color:red;\">${err}</div>`;\n",
       "      throw err;\n",
       "    }\n",
       "\n",
       "    function displayChart(vegaEmbed) {\n",
       "      vegaEmbed(outputDiv, spec, embedOpt)\n",
       "        .catch(err => showError(`Javascript Error: ${err.message}<br>This usually means there's a typo in your chart specification. See the javascript console for the full traceback.`));\n",
       "    }\n",
       "\n",
       "    if(typeof define === \"function\" && define.amd) {\n",
       "      requirejs.config({paths});\n",
       "      require([\"vega-embed\"], displayChart, err => showError(`Error loading script: ${err.message}`));\n",
       "    } else if (typeof vegaEmbed === \"function\") {\n",
       "      displayChart(vegaEmbed);\n",
       "    } else {\n",
       "      loadScript(\"vega\")\n",
       "        .then(() => loadScript(\"vega-lite\"))\n",
       "        .then(() => loadScript(\"vega-embed\"))\n",
       "        .catch(showError)\n",
       "        .then(() => displayChart(vegaEmbed));\n",
       "    }\n",
       "  })({\"config\": {\"view\": {\"continuousWidth\": 400, \"continuousHeight\": 300}}, \"data\": {\"url\": \"altair-data-4acf1fe13129e11ca77812f10d475372.json\", \"format\": {\"type\": \"json\"}}, \"mark\": \"line\", \"encoding\": {\"color\": {\"type\": \"nominal\", \"field\": \"emotion\", \"title\": \"Emotion\"}, \"x\": {\"type\": \"ordinal\", \"field\": \"month\", \"timeUnit\": \"yearmonth\", \"title\": \"Month\"}, \"y\": {\"type\": \"quantitative\", \"field\": \"count\", \"title\": \"Proportion of posts\"}}, \"height\": 150, \"title\": \"AI alignment\", \"width\": 600, \"$schema\": \"https://vega.github.io/schema/vega-lite/v4.8.1.json\"}, {\"mode\": \"vega-lite\"});\n",
       "</script>"
      ],
      "text/plain": [
       "alt.Chart(...)"
      ]
     },
     "metadata": {},
     "output_type": "display_data"
    },
    {
     "name": "stderr",
     "output_type": "stream",
     "text": [
      "/Users/vpetukhov/mambaforge/envs/ea-forum-experiments/lib/python3.10/site-packages/altair/utils/core.py:283: FutureWarning: iteritems is deprecated and will be removed in a future version. Use .items instead.\n",
      "  for col_name, dtype in df.dtypes.iteritems():\n"
     ]
    },
    {
     "data": {
      "text/html": [
       "\n",
       "<div id=\"altair-viz-17c6c13a138b4df78f9ab244d5f3fa53\"></div>\n",
       "<script type=\"text/javascript\">\n",
       "  (function(spec, embedOpt){\n",
       "    let outputDiv = document.currentScript.previousElementSibling;\n",
       "    if (outputDiv.id !== \"altair-viz-17c6c13a138b4df78f9ab244d5f3fa53\") {\n",
       "      outputDiv = document.getElementById(\"altair-viz-17c6c13a138b4df78f9ab244d5f3fa53\");\n",
       "    }\n",
       "    const paths = {\n",
       "      \"vega\": \"https://cdn.jsdelivr.net/npm//vega@5?noext\",\n",
       "      \"vega-lib\": \"https://cdn.jsdelivr.net/npm//vega-lib?noext\",\n",
       "      \"vega-lite\": \"https://cdn.jsdelivr.net/npm//vega-lite@4.8.1?noext\",\n",
       "      \"vega-embed\": \"https://cdn.jsdelivr.net/npm//vega-embed@6?noext\",\n",
       "    };\n",
       "\n",
       "    function loadScript(lib) {\n",
       "      return new Promise(function(resolve, reject) {\n",
       "        var s = document.createElement('script');\n",
       "        s.src = paths[lib];\n",
       "        s.async = true;\n",
       "        s.onload = () => resolve(paths[lib]);\n",
       "        s.onerror = () => reject(`Error loading script: ${paths[lib]}`);\n",
       "        document.getElementsByTagName(\"head\")[0].appendChild(s);\n",
       "      });\n",
       "    }\n",
       "\n",
       "    function showError(err) {\n",
       "      outputDiv.innerHTML = `<div class=\"error\" style=\"color:red;\">${err}</div>`;\n",
       "      throw err;\n",
       "    }\n",
       "\n",
       "    function displayChart(vegaEmbed) {\n",
       "      vegaEmbed(outputDiv, spec, embedOpt)\n",
       "        .catch(err => showError(`Javascript Error: ${err.message}<br>This usually means there's a typo in your chart specification. See the javascript console for the full traceback.`));\n",
       "    }\n",
       "\n",
       "    if(typeof define === \"function\" && define.amd) {\n",
       "      requirejs.config({paths});\n",
       "      require([\"vega-embed\"], displayChart, err => showError(`Error loading script: ${err.message}`));\n",
       "    } else if (typeof vegaEmbed === \"function\") {\n",
       "      displayChart(vegaEmbed);\n",
       "    } else {\n",
       "      loadScript(\"vega\")\n",
       "        .then(() => loadScript(\"vega-lite\"))\n",
       "        .then(() => loadScript(\"vega-embed\"))\n",
       "        .catch(showError)\n",
       "        .then(() => displayChart(vegaEmbed));\n",
       "    }\n",
       "  })({\"config\": {\"view\": {\"continuousWidth\": 400, \"continuousHeight\": 300}}, \"data\": {\"url\": \"altair-data-7dd5bf95185b26cd4eb4d88304993990.json\", \"format\": {\"type\": \"json\"}}, \"mark\": \"line\", \"encoding\": {\"color\": {\"type\": \"nominal\", \"field\": \"emotion\", \"title\": \"Emotion\"}, \"x\": {\"type\": \"ordinal\", \"field\": \"month\", \"timeUnit\": \"yearmonth\", \"title\": \"Month\"}, \"y\": {\"type\": \"quantitative\", \"field\": \"count\", \"title\": \"Proportion of posts\"}}, \"height\": 150, \"title\": \"Global health & development\", \"width\": 600, \"$schema\": \"https://vega.github.io/schema/vega-lite/v4.8.1.json\"}, {\"mode\": \"vega-lite\"});\n",
       "</script>"
      ],
      "text/plain": [
       "alt.Chart(...)"
      ]
     },
     "metadata": {},
     "output_type": "display_data"
    },
    {
     "name": "stderr",
     "output_type": "stream",
     "text": [
      "/Users/vpetukhov/mambaforge/envs/ea-forum-experiments/lib/python3.10/site-packages/altair/utils/core.py:283: FutureWarning: iteritems is deprecated and will be removed in a future version. Use .items instead.\n",
      "  for col_name, dtype in df.dtypes.iteritems():\n"
     ]
    },
    {
     "data": {
      "text/html": [
       "\n",
       "<div id=\"altair-viz-2c019a68895146769737f6496eb3307c\"></div>\n",
       "<script type=\"text/javascript\">\n",
       "  (function(spec, embedOpt){\n",
       "    let outputDiv = document.currentScript.previousElementSibling;\n",
       "    if (outputDiv.id !== \"altair-viz-2c019a68895146769737f6496eb3307c\") {\n",
       "      outputDiv = document.getElementById(\"altair-viz-2c019a68895146769737f6496eb3307c\");\n",
       "    }\n",
       "    const paths = {\n",
       "      \"vega\": \"https://cdn.jsdelivr.net/npm//vega@5?noext\",\n",
       "      \"vega-lib\": \"https://cdn.jsdelivr.net/npm//vega-lib?noext\",\n",
       "      \"vega-lite\": \"https://cdn.jsdelivr.net/npm//vega-lite@4.8.1?noext\",\n",
       "      \"vega-embed\": \"https://cdn.jsdelivr.net/npm//vega-embed@6?noext\",\n",
       "    };\n",
       "\n",
       "    function loadScript(lib) {\n",
       "      return new Promise(function(resolve, reject) {\n",
       "        var s = document.createElement('script');\n",
       "        s.src = paths[lib];\n",
       "        s.async = true;\n",
       "        s.onload = () => resolve(paths[lib]);\n",
       "        s.onerror = () => reject(`Error loading script: ${paths[lib]}`);\n",
       "        document.getElementsByTagName(\"head\")[0].appendChild(s);\n",
       "      });\n",
       "    }\n",
       "\n",
       "    function showError(err) {\n",
       "      outputDiv.innerHTML = `<div class=\"error\" style=\"color:red;\">${err}</div>`;\n",
       "      throw err;\n",
       "    }\n",
       "\n",
       "    function displayChart(vegaEmbed) {\n",
       "      vegaEmbed(outputDiv, spec, embedOpt)\n",
       "        .catch(err => showError(`Javascript Error: ${err.message}<br>This usually means there's a typo in your chart specification. See the javascript console for the full traceback.`));\n",
       "    }\n",
       "\n",
       "    if(typeof define === \"function\" && define.amd) {\n",
       "      requirejs.config({paths});\n",
       "      require([\"vega-embed\"], displayChart, err => showError(`Error loading script: ${err.message}`));\n",
       "    } else if (typeof vegaEmbed === \"function\") {\n",
       "      displayChart(vegaEmbed);\n",
       "    } else {\n",
       "      loadScript(\"vega\")\n",
       "        .then(() => loadScript(\"vega-lite\"))\n",
       "        .then(() => loadScript(\"vega-embed\"))\n",
       "        .catch(showError)\n",
       "        .then(() => displayChart(vegaEmbed));\n",
       "    }\n",
       "  })({\"config\": {\"view\": {\"continuousWidth\": 400, \"continuousHeight\": 300}}, \"data\": {\"url\": \"altair-data-5bd16721bda8f2f79ff7bf4c27fb7f9a.json\", \"format\": {\"type\": \"json\"}}, \"mark\": \"line\", \"encoding\": {\"color\": {\"type\": \"nominal\", \"field\": \"emotion\", \"title\": \"Emotion\"}, \"x\": {\"type\": \"ordinal\", \"field\": \"month\", \"timeUnit\": \"yearmonth\", \"title\": \"Month\"}, \"y\": {\"type\": \"quantitative\", \"field\": \"count\", \"title\": \"Proportion of posts\"}}, \"height\": 150, \"title\": \"Community\", \"width\": 600, \"$schema\": \"https://vega.github.io/schema/vega-lite/v4.8.1.json\"}, {\"mode\": \"vega-lite\"});\n",
       "</script>"
      ],
      "text/plain": [
       "alt.Chart(...)"
      ]
     },
     "metadata": {},
     "output_type": "display_data"
    }
   ],
   "source": [
    "for tag in CAUSE_AREAS:\n",
    "    x = df[df[tag] == True]\n",
    "\n",
    "    x = x[x[\"emotion\"].isin(df_top_emotions)]\n",
    "    x[\"month\"] = pd.to_datetime(x[\"postedAt\"]).dt.to_period(\"M\")\n",
    "\n",
    "    grouped = x.groupby([\"month\", \"emotion\"]).agg(count=(\"emotion\", \"count\"))\n",
    "    totals = grouped.groupby(\"month\").agg(count=(\"count\", \"sum\"))\n",
    "\n",
    "    grouped[\"count\"] = grouped[\"count\"].div(totals[\"count\"], axis=0)\n",
    "    grouped = grouped.reset_index()\n",
    "    grouped[\"month\"] = pd.to_datetime(grouped[\"month\"].dt.to_timestamp())\n",
    "\n",
    "    chart = (\n",
    "        alt.Chart(grouped, title=tag)\n",
    "        .mark_line()\n",
    "        .encode(\n",
    "            color=alt.Color(\"emotion:N\", title=\"Emotion\"),\n",
    "            x=alt.X(\"yearmonth(month):O\", title=\"Month\"),\n",
    "            y=alt.Y(\"count:Q\", title=\"Proportion of posts\"),\n",
    "        )\n",
    "    ).properties(width=600, height=150)\n",
    "    chart.save(\n",
    "        slidesp(\n",
    "            \"posts_emotions_per_month_cols_proportion_{}.svg\".format(\n",
    "                tag.replace(\" \", \"_\").replace('&', 'and')\n",
    "            )\n",
    "        )\n",
    "    )\n",
    "    chart.display()"
   ]
  },
  {
   "attachments": {},
   "cell_type": "markdown",
   "metadata": {},
   "source": [
    "### Comments per month"
   ]
  },
  {
   "cell_type": "code",
   "execution_count": 31,
   "metadata": {},
   "outputs": [
    {
     "name": "stderr",
     "output_type": "stream",
     "text": [
      "/Users/vpetukhov/mambaforge/envs/ea-forum-experiments/lib/python3.10/site-packages/altair/utils/core.py:283: FutureWarning: iteritems is deprecated and will be removed in a future version. Use .items instead.\n",
      "  for col_name, dtype in df.dtypes.iteritems():\n"
     ]
    },
    {
     "data": {
      "text/html": [
       "\n",
       "<div id=\"altair-viz-13e375749c7543db8a898f1b6eae925c\"></div>\n",
       "<script type=\"text/javascript\">\n",
       "  (function(spec, embedOpt){\n",
       "    let outputDiv = document.currentScript.previousElementSibling;\n",
       "    if (outputDiv.id !== \"altair-viz-13e375749c7543db8a898f1b6eae925c\") {\n",
       "      outputDiv = document.getElementById(\"altair-viz-13e375749c7543db8a898f1b6eae925c\");\n",
       "    }\n",
       "    const paths = {\n",
       "      \"vega\": \"https://cdn.jsdelivr.net/npm//vega@5?noext\",\n",
       "      \"vega-lib\": \"https://cdn.jsdelivr.net/npm//vega-lib?noext\",\n",
       "      \"vega-lite\": \"https://cdn.jsdelivr.net/npm//vega-lite@4.8.1?noext\",\n",
       "      \"vega-embed\": \"https://cdn.jsdelivr.net/npm//vega-embed@6?noext\",\n",
       "    };\n",
       "\n",
       "    function loadScript(lib) {\n",
       "      return new Promise(function(resolve, reject) {\n",
       "        var s = document.createElement('script');\n",
       "        s.src = paths[lib];\n",
       "        s.async = true;\n",
       "        s.onload = () => resolve(paths[lib]);\n",
       "        s.onerror = () => reject(`Error loading script: ${paths[lib]}`);\n",
       "        document.getElementsByTagName(\"head\")[0].appendChild(s);\n",
       "      });\n",
       "    }\n",
       "\n",
       "    function showError(err) {\n",
       "      outputDiv.innerHTML = `<div class=\"error\" style=\"color:red;\">${err}</div>`;\n",
       "      throw err;\n",
       "    }\n",
       "\n",
       "    function displayChart(vegaEmbed) {\n",
       "      vegaEmbed(outputDiv, spec, embedOpt)\n",
       "        .catch(err => showError(`Javascript Error: ${err.message}<br>This usually means there's a typo in your chart specification. See the javascript console for the full traceback.`));\n",
       "    }\n",
       "\n",
       "    if(typeof define === \"function\" && define.amd) {\n",
       "      requirejs.config({paths});\n",
       "      require([\"vega-embed\"], displayChart, err => showError(`Error loading script: ${err.message}`));\n",
       "    } else if (typeof vegaEmbed === \"function\") {\n",
       "      displayChart(vegaEmbed);\n",
       "    } else {\n",
       "      loadScript(\"vega\")\n",
       "        .then(() => loadScript(\"vega-lite\"))\n",
       "        .then(() => loadScript(\"vega-embed\"))\n",
       "        .catch(showError)\n",
       "        .then(() => displayChart(vegaEmbed));\n",
       "    }\n",
       "  })({\"config\": {\"view\": {\"continuousWidth\": 400, \"continuousHeight\": 300}}, \"data\": {\"url\": \"altair-data-80811ec3c2b1fcafa3da1f5343ae9ac0.json\", \"format\": {\"type\": \"json\"}}, \"mark\": \"bar\", \"encoding\": {\"x\": {\"type\": \"temporal\", \"field\": \"postedAt\", \"timeUnit\": \"yearmonth\", \"title\": \"Month\"}, \"y\": {\"type\": \"quantitative\", \"field\": \"count\", \"title\": \"Number of comments\"}}, \"$schema\": \"https://vega.github.io/schema/vega-lite/v4.8.1.json\"}, {\"mode\": \"vega-lite\"});\n",
       "</script>"
      ],
      "text/plain": [
       "alt.Chart(...)"
      ]
     },
     "execution_count": 31,
     "metadata": {},
     "output_type": "execute_result"
    }
   ],
   "source": [
    "# this is an altair graph of the number of comments per month\n",
    "\n",
    "df = (\n",
    "    comments.groupby(pd.Grouper(key=\"postedAt\", freq=\"M\"))\n",
    "    .size()\n",
    "    .reset_index(name=\"count\")\n",
    ")\n",
    "\n",
    "chart = (\n",
    "    alt.Chart(df)\n",
    "    .mark_bar()\n",
    "    .encode(\n",
    "        x=alt.X(\"yearmonth(postedAt):T\", title=\"Month\"),\n",
    "        y=alt.Y(\"count\", title=\"Number of comments\"),\n",
    "    )\n",
    ")\n",
    "\n",
    "chart.save(slidesp(\"comments_per_month.svg\"))\n",
    "chart"
   ]
  },
  {
   "attachments": {},
   "cell_type": "markdown",
   "metadata": {},
   "source": [
    "### Comment emotions"
   ]
  },
  {
   "cell_type": "code",
   "execution_count": 32,
   "metadata": {},
   "outputs": [
    {
     "name": "stderr",
     "output_type": "stream",
     "text": [
      "/Users/vpetukhov/mambaforge/envs/ea-forum-experiments/lib/python3.10/site-packages/altair/utils/core.py:283: FutureWarning: iteritems is deprecated and will be removed in a future version. Use .items instead.\n",
      "  for col_name, dtype in df.dtypes.iteritems():\n"
     ]
    },
    {
     "data": {
      "text/html": [
       "\n",
       "<div id=\"altair-viz-373e6f72f895467a80c5d47faf482d6c\"></div>\n",
       "<script type=\"text/javascript\">\n",
       "  (function(spec, embedOpt){\n",
       "    let outputDiv = document.currentScript.previousElementSibling;\n",
       "    if (outputDiv.id !== \"altair-viz-373e6f72f895467a80c5d47faf482d6c\") {\n",
       "      outputDiv = document.getElementById(\"altair-viz-373e6f72f895467a80c5d47faf482d6c\");\n",
       "    }\n",
       "    const paths = {\n",
       "      \"vega\": \"https://cdn.jsdelivr.net/npm//vega@5?noext\",\n",
       "      \"vega-lib\": \"https://cdn.jsdelivr.net/npm//vega-lib?noext\",\n",
       "      \"vega-lite\": \"https://cdn.jsdelivr.net/npm//vega-lite@4.8.1?noext\",\n",
       "      \"vega-embed\": \"https://cdn.jsdelivr.net/npm//vega-embed@6?noext\",\n",
       "    };\n",
       "\n",
       "    function loadScript(lib) {\n",
       "      return new Promise(function(resolve, reject) {\n",
       "        var s = document.createElement('script');\n",
       "        s.src = paths[lib];\n",
       "        s.async = true;\n",
       "        s.onload = () => resolve(paths[lib]);\n",
       "        s.onerror = () => reject(`Error loading script: ${paths[lib]}`);\n",
       "        document.getElementsByTagName(\"head\")[0].appendChild(s);\n",
       "      });\n",
       "    }\n",
       "\n",
       "    function showError(err) {\n",
       "      outputDiv.innerHTML = `<div class=\"error\" style=\"color:red;\">${err}</div>`;\n",
       "      throw err;\n",
       "    }\n",
       "\n",
       "    function displayChart(vegaEmbed) {\n",
       "      vegaEmbed(outputDiv, spec, embedOpt)\n",
       "        .catch(err => showError(`Javascript Error: ${err.message}<br>This usually means there's a typo in your chart specification. See the javascript console for the full traceback.`));\n",
       "    }\n",
       "\n",
       "    if(typeof define === \"function\" && define.amd) {\n",
       "      requirejs.config({paths});\n",
       "      require([\"vega-embed\"], displayChart, err => showError(`Error loading script: ${err.message}`));\n",
       "    } else if (typeof vegaEmbed === \"function\") {\n",
       "      displayChart(vegaEmbed);\n",
       "    } else {\n",
       "      loadScript(\"vega\")\n",
       "        .then(() => loadScript(\"vega-lite\"))\n",
       "        .then(() => loadScript(\"vega-embed\"))\n",
       "        .catch(showError)\n",
       "        .then(() => displayChart(vegaEmbed));\n",
       "    }\n",
       "  })({\"config\": {\"view\": {\"continuousWidth\": 400, \"continuousHeight\": 300}}, \"data\": {\"url\": \"altair-data-974e36f71824f4d5c7479e709d1e7364.json\", \"format\": {\"type\": \"json\"}}, \"mark\": \"bar\", \"encoding\": {\"x\": {\"type\": \"nominal\", \"field\": \"emotion\", \"sort\": [\"apprehensive\", \"hopeful\", \"impressed\", \"confident\", \"prepared\", \"trusting\", \"anxious\", \"surprised\", \"disappointed\", \"anticipating\", \"proud\", \"annoyed\", \"disgusted\", \"caring\", \"faithful\", \"jealous\", \"content\", \"grateful\", \"angry\", \"nostalgic\", \"excited\", \"sad\", \"sentimental\", \"afraid\", \"terrified\", \"guilty\", \"lonely\", \"ashamed\", \"furious\", \"joyful\", \"embarrassed\", \"devastated\"], \"title\": \"Emotion\"}, \"y\": {\"type\": \"quantitative\", \"field\": \"count\", \"title\": \"Number of comments\"}}, \"height\": 120, \"width\": 600, \"$schema\": \"https://vega.github.io/schema/vega-lite/v4.8.1.json\"}, {\"mode\": \"vega-lite\"});\n",
       "</script>"
      ],
      "text/plain": [
       "alt.Chart(...)"
      ]
     },
     "execution_count": 32,
     "metadata": {},
     "output_type": "execute_result"
    }
   ],
   "source": [
    "df = comments_emotions\n",
    "df = (\n",
    "    df.groupby(\"emotion\")\n",
    "    .size()\n",
    "    .to_frame(name=\"count\")\n",
    "    .reset_index(names=\"emotion\")\n",
    "    .sort_values(by=\"count\", ascending=False)\n",
    ")\n",
    "\n",
    "chart = (\n",
    "    alt.Chart(df)\n",
    "    .mark_bar()\n",
    "    .encode(\n",
    "        x=alt.X(\"emotion\", title=\"Emotion\", sort=df.emotion.values),\n",
    "        y=alt.Y(\"count\", title=\"Number of comments\"),\n",
    "    )\n",
    ").properties(width=600, height=120)\n",
    "chart.save(slidesp(\"comments_emotions_bar.svg\"))\n",
    "chart\n"
   ]
  },
  {
   "attachments": {},
   "cell_type": "markdown",
   "metadata": {},
   "source": [
    "### Commment sentiments"
   ]
  },
  {
   "cell_type": "code",
   "execution_count": 33,
   "metadata": {},
   "outputs": [
    {
     "name": "stderr",
     "output_type": "stream",
     "text": [
      "/Users/vpetukhov/mambaforge/envs/ea-forum-experiments/lib/python3.10/site-packages/altair/utils/core.py:283: FutureWarning: iteritems is deprecated and will be removed in a future version. Use .items instead.\n",
      "  for col_name, dtype in df.dtypes.iteritems():\n"
     ]
    },
    {
     "data": {
      "text/html": [
       "\n",
       "<div id=\"altair-viz-84c1cc0be81e45dd882b047bb8b12a11\"></div>\n",
       "<script type=\"text/javascript\">\n",
       "  (function(spec, embedOpt){\n",
       "    let outputDiv = document.currentScript.previousElementSibling;\n",
       "    if (outputDiv.id !== \"altair-viz-84c1cc0be81e45dd882b047bb8b12a11\") {\n",
       "      outputDiv = document.getElementById(\"altair-viz-84c1cc0be81e45dd882b047bb8b12a11\");\n",
       "    }\n",
       "    const paths = {\n",
       "      \"vega\": \"https://cdn.jsdelivr.net/npm//vega@5?noext\",\n",
       "      \"vega-lib\": \"https://cdn.jsdelivr.net/npm//vega-lib?noext\",\n",
       "      \"vega-lite\": \"https://cdn.jsdelivr.net/npm//vega-lite@4.8.1?noext\",\n",
       "      \"vega-embed\": \"https://cdn.jsdelivr.net/npm//vega-embed@6?noext\",\n",
       "    };\n",
       "\n",
       "    function loadScript(lib) {\n",
       "      return new Promise(function(resolve, reject) {\n",
       "        var s = document.createElement('script');\n",
       "        s.src = paths[lib];\n",
       "        s.async = true;\n",
       "        s.onload = () => resolve(paths[lib]);\n",
       "        s.onerror = () => reject(`Error loading script: ${paths[lib]}`);\n",
       "        document.getElementsByTagName(\"head\")[0].appendChild(s);\n",
       "      });\n",
       "    }\n",
       "\n",
       "    function showError(err) {\n",
       "      outputDiv.innerHTML = `<div class=\"error\" style=\"color:red;\">${err}</div>`;\n",
       "      throw err;\n",
       "    }\n",
       "\n",
       "    function displayChart(vegaEmbed) {\n",
       "      vegaEmbed(outputDiv, spec, embedOpt)\n",
       "        .catch(err => showError(`Javascript Error: ${err.message}<br>This usually means there's a typo in your chart specification. See the javascript console for the full traceback.`));\n",
       "    }\n",
       "\n",
       "    if(typeof define === \"function\" && define.amd) {\n",
       "      requirejs.config({paths});\n",
       "      require([\"vega-embed\"], displayChart, err => showError(`Error loading script: ${err.message}`));\n",
       "    } else if (typeof vegaEmbed === \"function\") {\n",
       "      displayChart(vegaEmbed);\n",
       "    } else {\n",
       "      loadScript(\"vega\")\n",
       "        .then(() => loadScript(\"vega-lite\"))\n",
       "        .then(() => loadScript(\"vega-embed\"))\n",
       "        .catch(showError)\n",
       "        .then(() => displayChart(vegaEmbed));\n",
       "    }\n",
       "  })({\"config\": {\"view\": {\"continuousWidth\": 400, \"continuousHeight\": 300}}, \"data\": {\"url\": \"altair-data-512f0f98ea62979bd5f85576e9624f5c.json\", \"format\": {\"type\": \"json\"}}, \"mark\": \"area\", \"encoding\": {\"color\": {\"type\": \"nominal\", \"field\": \"sentiment\", \"title\": \"Emotion\"}, \"x\": {\"type\": \"ordinal\", \"field\": \"month\", \"timeUnit\": \"yearmonth\", \"title\": \"Month\"}, \"y\": {\"type\": \"quantitative\", \"field\": \"count\", \"scale\": {\"domain\": [0, 1]}, \"title\": \"Proportion of comments\"}}, \"height\": 200, \"width\": 600, \"$schema\": \"https://vega.github.io/schema/vega-lite/v4.8.1.json\"}, {\"mode\": \"vega-lite\"});\n",
       "</script>"
      ],
      "text/plain": [
       "alt.Chart(...)"
      ]
     },
     "execution_count": 33,
     "metadata": {},
     "output_type": "execute_result"
    }
   ],
   "source": [
    "df = comments_sentiment.to_pandas()\n",
    "df[\"postedAt\"] = df[\"postedAt\"].dt.tz_localize(None)\n",
    "df = df.loc[df.postedAt >= SINCE]\n",
    "df[\"month\"] = pd.to_datetime(df[\"postedAt\"]).dt.to_period(\"M\")\n",
    "\n",
    "grouped = df.groupby([\"month\", \"sentiment\"]).agg(count=(\"text\", \"count\"))\n",
    "totals = grouped.groupby(\"month\").agg(count=(\"count\", \"sum\"))\n",
    "\n",
    "grouped[\"count\"] = grouped[\"count\"].div(totals[\"count\"], axis=0)\n",
    "grouped = grouped.reset_index()\n",
    "grouped[\"month\"] = pd.to_datetime(grouped[\"month\"].dt.to_timestamp())\n",
    "\n",
    "chart = (\n",
    "    alt.Chart(grouped.reset_index())\n",
    "    .mark_area()\n",
    "    .encode(\n",
    "        color=alt.Color(\"sentiment:N\", title=\"Emotion\"),\n",
    "        x=alt.X(\"yearmonth(month):O\", title=\"Month\"),\n",
    "        y=alt.Y(\n",
    "            \"count:Q\", title=\"Proportion of comments\", scale=alt.Scale(domain=(0, 1))\n",
    "        ),\n",
    "    )\n",
    "    .properties(width=600, height=200)\n",
    ")\n",
    "chart.save(slidesp(\"comments_sentiments_per_month_cols_proportion.svg\"))\n",
    "chart"
   ]
  },
  {
   "attachments": {},
   "cell_type": "markdown",
   "metadata": {},
   "source": [
    "### Comment emotions"
   ]
  },
  {
   "cell_type": "code",
   "execution_count": 34,
   "metadata": {},
   "outputs": [],
   "source": [
    "top_comments_emotions = Counter(comments_emotions[\"emotion\"]).most_common(5)\n",
    "top_comments_emotions = [x[0] for x in top_comments_emotions]"
   ]
  },
  {
   "cell_type": "code",
   "execution_count": 36,
   "metadata": {},
   "outputs": [
    {
     "name": "stderr",
     "output_type": "stream",
     "text": [
      "/Users/vpetukhov/mambaforge/envs/ea-forum-experiments/lib/python3.10/site-packages/altair/utils/core.py:283: FutureWarning: iteritems is deprecated and will be removed in a future version. Use .items instead.\n",
      "  for col_name, dtype in df.dtypes.iteritems():\n"
     ]
    },
    {
     "data": {
      "text/html": [
       "\n",
       "<div id=\"altair-viz-ddb0d5b12b2b43b2ab73571d57389905\"></div>\n",
       "<script type=\"text/javascript\">\n",
       "  (function(spec, embedOpt){\n",
       "    let outputDiv = document.currentScript.previousElementSibling;\n",
       "    if (outputDiv.id !== \"altair-viz-ddb0d5b12b2b43b2ab73571d57389905\") {\n",
       "      outputDiv = document.getElementById(\"altair-viz-ddb0d5b12b2b43b2ab73571d57389905\");\n",
       "    }\n",
       "    const paths = {\n",
       "      \"vega\": \"https://cdn.jsdelivr.net/npm//vega@5?noext\",\n",
       "      \"vega-lib\": \"https://cdn.jsdelivr.net/npm//vega-lib?noext\",\n",
       "      \"vega-lite\": \"https://cdn.jsdelivr.net/npm//vega-lite@4.8.1?noext\",\n",
       "      \"vega-embed\": \"https://cdn.jsdelivr.net/npm//vega-embed@6?noext\",\n",
       "    };\n",
       "\n",
       "    function loadScript(lib) {\n",
       "      return new Promise(function(resolve, reject) {\n",
       "        var s = document.createElement('script');\n",
       "        s.src = paths[lib];\n",
       "        s.async = true;\n",
       "        s.onload = () => resolve(paths[lib]);\n",
       "        s.onerror = () => reject(`Error loading script: ${paths[lib]}`);\n",
       "        document.getElementsByTagName(\"head\")[0].appendChild(s);\n",
       "      });\n",
       "    }\n",
       "\n",
       "    function showError(err) {\n",
       "      outputDiv.innerHTML = `<div class=\"error\" style=\"color:red;\">${err}</div>`;\n",
       "      throw err;\n",
       "    }\n",
       "\n",
       "    function displayChart(vegaEmbed) {\n",
       "      vegaEmbed(outputDiv, spec, embedOpt)\n",
       "        .catch(err => showError(`Javascript Error: ${err.message}<br>This usually means there's a typo in your chart specification. See the javascript console for the full traceback.`));\n",
       "    }\n",
       "\n",
       "    if(typeof define === \"function\" && define.amd) {\n",
       "      requirejs.config({paths});\n",
       "      require([\"vega-embed\"], displayChart, err => showError(`Error loading script: ${err.message}`));\n",
       "    } else if (typeof vegaEmbed === \"function\") {\n",
       "      displayChart(vegaEmbed);\n",
       "    } else {\n",
       "      loadScript(\"vega\")\n",
       "        .then(() => loadScript(\"vega-lite\"))\n",
       "        .then(() => loadScript(\"vega-embed\"))\n",
       "        .catch(showError)\n",
       "        .then(() => displayChart(vegaEmbed));\n",
       "    }\n",
       "  })({\"config\": {\"view\": {\"continuousWidth\": 400, \"continuousHeight\": 300}}, \"data\": {\"url\": \"altair-data-88b875f722b106bac5495e01bf5642fc.json\", \"format\": {\"type\": \"json\"}}, \"mark\": \"area\", \"encoding\": {\"color\": {\"type\": \"nominal\", \"field\": \"emotion\", \"title\": \"Emotion\"}, \"tooltip\": [{\"type\": \"nominal\", \"field\": \"emotion\"}, {\"type\": \"temporal\", \"field\": \"month\", \"timeUnit\": \"yearmonth\"}, {\"type\": \"quantitative\", \"field\": \"fraction\"}, {\"type\": \"quantitative\", \"field\": \"count\"}], \"x\": {\"type\": \"ordinal\", \"field\": \"month\", \"timeUnit\": \"yearmonth\", \"title\": \"Month\"}, \"y\": {\"type\": \"quantitative\", \"field\": \"fraction\", \"scale\": {\"domain\": [0, 1]}, \"title\": \"Proportion of comments\"}}, \"height\": 180, \"width\": 600, \"$schema\": \"https://vega.github.io/schema/vega-lite/v4.8.1.json\"}, {\"mode\": \"vega-lite\"});\n",
       "</script>"
      ],
      "text/plain": [
       "alt.Chart(...)"
      ]
     },
     "execution_count": 36,
     "metadata": {},
     "output_type": "execute_result"
    }
   ],
   "source": [
    "df = comments_emotions\n",
    "df = df.loc[df.postedAt >= SINCE]\n",
    "df = df[df[\"emotion\"].isin(top_comments_emotions)]\n",
    "df[\"month\"] = pd.to_datetime(df[\"postedAt\"]).dt.to_period(\"M\")\n",
    "\n",
    "grouped = df.groupby([\"month\", \"emotion\"]).agg(count=(\"text\", \"count\"))\n",
    "totals = grouped.groupby(\"month\").agg(count=(\"count\", \"sum\"))\n",
    "\n",
    "grouped[\"fraction\"] = grouped[\"count\"].div(totals[\"count\"], axis=0)\n",
    "grouped = grouped.reset_index()\n",
    "grouped[\"month\"] = pd.to_datetime(grouped[\"month\"].dt.to_timestamp())\n",
    "\n",
    "chart = (\n",
    "    alt.Chart(grouped.reset_index())\n",
    "    .mark_area()\n",
    "    .encode(\n",
    "        color=alt.Color(\"emotion:N\", title=\"Emotion\"),\n",
    "        x=alt.X(\"yearmonth(month):O\", title=\"Month\"),\n",
    "        y=alt.Y(\n",
    "            \"fraction:Q\", title=\"Proportion of comments\", scale=alt.Scale(domain=(0, 1))\n",
    "        ),\n",
    "        tooltip=[\"emotion\", \"yearmonth(month)\", \"fraction\", \"count\"],\n",
    "    )\n",
    "    .properties(width=600, height=180)\n",
    ")\n",
    "chart.save(slidesp(\"comments_emotions_per_month_cols_proportion.svg\"))\n",
    "chart"
   ]
  },
  {
   "cell_type": "markdown",
   "metadata": {},
   "source": [
    "### Comment emotions per selected cause areas"
   ]
  },
  {
   "cell_type": "code",
   "execution_count": 39,
   "metadata": {},
   "outputs": [
    {
     "name": "stderr",
     "output_type": "stream",
     "text": [
      "/var/folders/wz/r4cy79ls0ts94zdts75trjhw0000gn/T/ipykernel_24563/4144613545.py:5: FutureWarning: Using the level keyword in DataFrame and Series aggregations is deprecated and will be removed in a future version. Use groupby instead. df.any(level=1) should use df.groupby(level=1).any()\n",
      "  df_encoded = pd.get_dummies(df[\"tags\"].apply(pd.Series).stack())[CAUSE_AREAS].any(level=0)\n"
     ]
    }
   ],
   "source": [
    "df = comments_emotions.set_index(\"postId\")[[\"emotion\"]]\n",
    "df = df.join(posts.set_index(\"postId\"), how=\"inner\")\n",
    "df = df[[\"postedAt\", \"emotion\", \"tags\"]]\n",
    "df = df.loc[df[\"tags\"].apply(lambda x: any(item in x for item in CAUSE_AREAS))]\n",
    "df_encoded = pd.get_dummies(df[\"tags\"].apply(pd.Series).stack())[CAUSE_AREAS].any(level=0)\n",
    "df = df.drop([\"tags\"], axis=1).merge(df_encoded, on=\"postId\")\n",
    "\n",
    "\n",
    "df_top_emotions = Counter(df[\"emotion\"]).most_common(5)\n",
    "df_top_emotions = [x[0] for x in df_top_emotions]"
   ]
  },
  {
   "cell_type": "code",
   "execution_count": 40,
   "metadata": {},
   "outputs": [
    {
     "name": "stderr",
     "output_type": "stream",
     "text": [
      "/Users/vpetukhov/mambaforge/envs/ea-forum-experiments/lib/python3.10/site-packages/altair/utils/core.py:283: FutureWarning: iteritems is deprecated and will be removed in a future version. Use .items instead.\n",
      "  for col_name, dtype in df.dtypes.iteritems():\n"
     ]
    },
    {
     "data": {
      "text/html": [
       "\n",
       "<div id=\"altair-viz-d9da5c87c9aa414a827cdb8fdd6ec1a3\"></div>\n",
       "<script type=\"text/javascript\">\n",
       "  (function(spec, embedOpt){\n",
       "    let outputDiv = document.currentScript.previousElementSibling;\n",
       "    if (outputDiv.id !== \"altair-viz-d9da5c87c9aa414a827cdb8fdd6ec1a3\") {\n",
       "      outputDiv = document.getElementById(\"altair-viz-d9da5c87c9aa414a827cdb8fdd6ec1a3\");\n",
       "    }\n",
       "    const paths = {\n",
       "      \"vega\": \"https://cdn.jsdelivr.net/npm//vega@5?noext\",\n",
       "      \"vega-lib\": \"https://cdn.jsdelivr.net/npm//vega-lib?noext\",\n",
       "      \"vega-lite\": \"https://cdn.jsdelivr.net/npm//vega-lite@4.8.1?noext\",\n",
       "      \"vega-embed\": \"https://cdn.jsdelivr.net/npm//vega-embed@6?noext\",\n",
       "    };\n",
       "\n",
       "    function loadScript(lib) {\n",
       "      return new Promise(function(resolve, reject) {\n",
       "        var s = document.createElement('script');\n",
       "        s.src = paths[lib];\n",
       "        s.async = true;\n",
       "        s.onload = () => resolve(paths[lib]);\n",
       "        s.onerror = () => reject(`Error loading script: ${paths[lib]}`);\n",
       "        document.getElementsByTagName(\"head\")[0].appendChild(s);\n",
       "      });\n",
       "    }\n",
       "\n",
       "    function showError(err) {\n",
       "      outputDiv.innerHTML = `<div class=\"error\" style=\"color:red;\">${err}</div>`;\n",
       "      throw err;\n",
       "    }\n",
       "\n",
       "    function displayChart(vegaEmbed) {\n",
       "      vegaEmbed(outputDiv, spec, embedOpt)\n",
       "        .catch(err => showError(`Javascript Error: ${err.message}<br>This usually means there's a typo in your chart specification. See the javascript console for the full traceback.`));\n",
       "    }\n",
       "\n",
       "    if(typeof define === \"function\" && define.amd) {\n",
       "      requirejs.config({paths});\n",
       "      require([\"vega-embed\"], displayChart, err => showError(`Error loading script: ${err.message}`));\n",
       "    } else if (typeof vegaEmbed === \"function\") {\n",
       "      displayChart(vegaEmbed);\n",
       "    } else {\n",
       "      loadScript(\"vega\")\n",
       "        .then(() => loadScript(\"vega-lite\"))\n",
       "        .then(() => loadScript(\"vega-embed\"))\n",
       "        .catch(showError)\n",
       "        .then(() => displayChart(vegaEmbed));\n",
       "    }\n",
       "  })({\"config\": {\"view\": {\"continuousWidth\": 400, \"continuousHeight\": 300}}, \"data\": {\"url\": \"altair-data-2f267873918da5dcab08b103d7eba610.json\", \"format\": {\"type\": \"json\"}}, \"mark\": \"line\", \"encoding\": {\"color\": {\"type\": \"nominal\", \"field\": \"emotion\", \"title\": \"Emotion\"}, \"x\": {\"type\": \"ordinal\", \"field\": \"month\", \"timeUnit\": \"yearmonth\", \"title\": \"Month\"}, \"y\": {\"type\": \"quantitative\", \"field\": \"count\", \"title\": \"Proportion of comments\"}}, \"height\": 150, \"title\": \"AI alignment\", \"width\": 600, \"$schema\": \"https://vega.github.io/schema/vega-lite/v4.8.1.json\"}, {\"mode\": \"vega-lite\"});\n",
       "</script>"
      ],
      "text/plain": [
       "alt.Chart(...)"
      ]
     },
     "metadata": {},
     "output_type": "display_data"
    },
    {
     "name": "stderr",
     "output_type": "stream",
     "text": [
      "/Users/vpetukhov/mambaforge/envs/ea-forum-experiments/lib/python3.10/site-packages/altair/utils/core.py:283: FutureWarning: iteritems is deprecated and will be removed in a future version. Use .items instead.\n",
      "  for col_name, dtype in df.dtypes.iteritems():\n"
     ]
    },
    {
     "data": {
      "text/html": [
       "\n",
       "<div id=\"altair-viz-f4d09ebb5a474586918ae8d2096027bf\"></div>\n",
       "<script type=\"text/javascript\">\n",
       "  (function(spec, embedOpt){\n",
       "    let outputDiv = document.currentScript.previousElementSibling;\n",
       "    if (outputDiv.id !== \"altair-viz-f4d09ebb5a474586918ae8d2096027bf\") {\n",
       "      outputDiv = document.getElementById(\"altair-viz-f4d09ebb5a474586918ae8d2096027bf\");\n",
       "    }\n",
       "    const paths = {\n",
       "      \"vega\": \"https://cdn.jsdelivr.net/npm//vega@5?noext\",\n",
       "      \"vega-lib\": \"https://cdn.jsdelivr.net/npm//vega-lib?noext\",\n",
       "      \"vega-lite\": \"https://cdn.jsdelivr.net/npm//vega-lite@4.8.1?noext\",\n",
       "      \"vega-embed\": \"https://cdn.jsdelivr.net/npm//vega-embed@6?noext\",\n",
       "    };\n",
       "\n",
       "    function loadScript(lib) {\n",
       "      return new Promise(function(resolve, reject) {\n",
       "        var s = document.createElement('script');\n",
       "        s.src = paths[lib];\n",
       "        s.async = true;\n",
       "        s.onload = () => resolve(paths[lib]);\n",
       "        s.onerror = () => reject(`Error loading script: ${paths[lib]}`);\n",
       "        document.getElementsByTagName(\"head\")[0].appendChild(s);\n",
       "      });\n",
       "    }\n",
       "\n",
       "    function showError(err) {\n",
       "      outputDiv.innerHTML = `<div class=\"error\" style=\"color:red;\">${err}</div>`;\n",
       "      throw err;\n",
       "    }\n",
       "\n",
       "    function displayChart(vegaEmbed) {\n",
       "      vegaEmbed(outputDiv, spec, embedOpt)\n",
       "        .catch(err => showError(`Javascript Error: ${err.message}<br>This usually means there's a typo in your chart specification. See the javascript console for the full traceback.`));\n",
       "    }\n",
       "\n",
       "    if(typeof define === \"function\" && define.amd) {\n",
       "      requirejs.config({paths});\n",
       "      require([\"vega-embed\"], displayChart, err => showError(`Error loading script: ${err.message}`));\n",
       "    } else if (typeof vegaEmbed === \"function\") {\n",
       "      displayChart(vegaEmbed);\n",
       "    } else {\n",
       "      loadScript(\"vega\")\n",
       "        .then(() => loadScript(\"vega-lite\"))\n",
       "        .then(() => loadScript(\"vega-embed\"))\n",
       "        .catch(showError)\n",
       "        .then(() => displayChart(vegaEmbed));\n",
       "    }\n",
       "  })({\"config\": {\"view\": {\"continuousWidth\": 400, \"continuousHeight\": 300}}, \"data\": {\"url\": \"altair-data-81bae378c4720ce0ee17bafb07e2c7f0.json\", \"format\": {\"type\": \"json\"}}, \"mark\": \"line\", \"encoding\": {\"color\": {\"type\": \"nominal\", \"field\": \"emotion\", \"title\": \"Emotion\"}, \"x\": {\"type\": \"ordinal\", \"field\": \"month\", \"timeUnit\": \"yearmonth\", \"title\": \"Month\"}, \"y\": {\"type\": \"quantitative\", \"field\": \"count\", \"title\": \"Proportion of comments\"}}, \"height\": 150, \"title\": \"Global health & development\", \"width\": 600, \"$schema\": \"https://vega.github.io/schema/vega-lite/v4.8.1.json\"}, {\"mode\": \"vega-lite\"});\n",
       "</script>"
      ],
      "text/plain": [
       "alt.Chart(...)"
      ]
     },
     "metadata": {},
     "output_type": "display_data"
    },
    {
     "name": "stderr",
     "output_type": "stream",
     "text": [
      "/Users/vpetukhov/mambaforge/envs/ea-forum-experiments/lib/python3.10/site-packages/altair/utils/core.py:283: FutureWarning: iteritems is deprecated and will be removed in a future version. Use .items instead.\n",
      "  for col_name, dtype in df.dtypes.iteritems():\n"
     ]
    },
    {
     "data": {
      "text/html": [
       "\n",
       "<div id=\"altair-viz-eb99d63849d844ee8884afff2fb22b06\"></div>\n",
       "<script type=\"text/javascript\">\n",
       "  (function(spec, embedOpt){\n",
       "    let outputDiv = document.currentScript.previousElementSibling;\n",
       "    if (outputDiv.id !== \"altair-viz-eb99d63849d844ee8884afff2fb22b06\") {\n",
       "      outputDiv = document.getElementById(\"altair-viz-eb99d63849d844ee8884afff2fb22b06\");\n",
       "    }\n",
       "    const paths = {\n",
       "      \"vega\": \"https://cdn.jsdelivr.net/npm//vega@5?noext\",\n",
       "      \"vega-lib\": \"https://cdn.jsdelivr.net/npm//vega-lib?noext\",\n",
       "      \"vega-lite\": \"https://cdn.jsdelivr.net/npm//vega-lite@4.8.1?noext\",\n",
       "      \"vega-embed\": \"https://cdn.jsdelivr.net/npm//vega-embed@6?noext\",\n",
       "    };\n",
       "\n",
       "    function loadScript(lib) {\n",
       "      return new Promise(function(resolve, reject) {\n",
       "        var s = document.createElement('script');\n",
       "        s.src = paths[lib];\n",
       "        s.async = true;\n",
       "        s.onload = () => resolve(paths[lib]);\n",
       "        s.onerror = () => reject(`Error loading script: ${paths[lib]}`);\n",
       "        document.getElementsByTagName(\"head\")[0].appendChild(s);\n",
       "      });\n",
       "    }\n",
       "\n",
       "    function showError(err) {\n",
       "      outputDiv.innerHTML = `<div class=\"error\" style=\"color:red;\">${err}</div>`;\n",
       "      throw err;\n",
       "    }\n",
       "\n",
       "    function displayChart(vegaEmbed) {\n",
       "      vegaEmbed(outputDiv, spec, embedOpt)\n",
       "        .catch(err => showError(`Javascript Error: ${err.message}<br>This usually means there's a typo in your chart specification. See the javascript console for the full traceback.`));\n",
       "    }\n",
       "\n",
       "    if(typeof define === \"function\" && define.amd) {\n",
       "      requirejs.config({paths});\n",
       "      require([\"vega-embed\"], displayChart, err => showError(`Error loading script: ${err.message}`));\n",
       "    } else if (typeof vegaEmbed === \"function\") {\n",
       "      displayChart(vegaEmbed);\n",
       "    } else {\n",
       "      loadScript(\"vega\")\n",
       "        .then(() => loadScript(\"vega-lite\"))\n",
       "        .then(() => loadScript(\"vega-embed\"))\n",
       "        .catch(showError)\n",
       "        .then(() => displayChart(vegaEmbed));\n",
       "    }\n",
       "  })({\"config\": {\"view\": {\"continuousWidth\": 400, \"continuousHeight\": 300}}, \"data\": {\"url\": \"altair-data-517405631fe61357b0f8d2844dd9d8e7.json\", \"format\": {\"type\": \"json\"}}, \"mark\": \"line\", \"encoding\": {\"color\": {\"type\": \"nominal\", \"field\": \"emotion\", \"title\": \"Emotion\"}, \"x\": {\"type\": \"ordinal\", \"field\": \"month\", \"timeUnit\": \"yearmonth\", \"title\": \"Month\"}, \"y\": {\"type\": \"quantitative\", \"field\": \"count\", \"title\": \"Proportion of comments\"}}, \"height\": 150, \"title\": \"Community\", \"width\": 600, \"$schema\": \"https://vega.github.io/schema/vega-lite/v4.8.1.json\"}, {\"mode\": \"vega-lite\"});\n",
       "</script>"
      ],
      "text/plain": [
       "alt.Chart(...)"
      ]
     },
     "metadata": {},
     "output_type": "display_data"
    }
   ],
   "source": [
    "for tag in CAUSE_AREAS:\n",
    "    x = df[df[tag] == True]\n",
    "\n",
    "    x = x[x[\"emotion\"].isin(df_top_emotions)]\n",
    "    x[\"month\"] = pd.to_datetime(x[\"postedAt\"]).dt.to_period(\"M\")\n",
    "\n",
    "    grouped = x.groupby([\"month\", \"emotion\"]).agg(count=(\"emotion\", \"count\"))\n",
    "    totals = grouped.groupby(\"month\").agg(count=(\"count\", \"sum\"))\n",
    "\n",
    "    grouped[\"count\"] = grouped[\"count\"].div(totals[\"count\"], axis=0)\n",
    "    grouped = grouped.reset_index()\n",
    "    grouped[\"month\"] = pd.to_datetime(grouped[\"month\"].dt.to_timestamp())\n",
    "\n",
    "    chart = (\n",
    "        alt.Chart(grouped, title=tag)\n",
    "        .mark_line()\n",
    "        .encode(\n",
    "            color=alt.Color(\"emotion:N\", title=\"Emotion\"),\n",
    "            x=alt.X(\"yearmonth(month):O\", title=\"Month\"),\n",
    "            y=alt.Y(\"count:Q\", title=\"Proportion of comments\"),\n",
    "        )\n",
    "    ).properties(width=600, height=150)\n",
    "    chart.save(\n",
    "        slidesp(\n",
    "            \"comments_emotions_per_month_cols_proportion_{}.svg\".format(\n",
    "                tag.replace(\" \", \"_\").replace('&', 'and')\n",
    "            )\n",
    "        )\n",
    "    )\n",
    "    chart.display()"
   ]
  },
  {
   "attachments": {},
   "cell_type": "markdown",
   "metadata": {},
   "source": [
    "### Matching comment sentiments with post emotions"
   ]
  },
  {
   "cell_type": "code",
   "execution_count": 44,
   "metadata": {},
   "outputs": [],
   "source": [
    "post2emotions = posts_emotions.to_pandas()\n",
    "post2emotions = post2emotions.loc[post2emotions.postedAt >= SINCE]\n",
    "post2emotions = (\n",
    "    post2emotions.groupby(\"postId\")\n",
    "    .agg(emotion=(\"emotion\", pd.Series.mode))\n",
    "    .explode(\"emotion\")\n",
    ")"
   ]
  },
  {
   "cell_type": "code",
   "execution_count": 45,
   "metadata": {},
   "outputs": [],
   "source": [
    "post2commentsentiment = comments_sentiment.to_pandas()\n",
    "post2commentsentiment.set_index(\"postId\", inplace=True)\n",
    "post2commentsentiment[\"postedAt\"] = post2commentsentiment[\"postedAt\"].dt.tz_localize(\n",
    "    None\n",
    ")\n"
   ]
  },
  {
   "cell_type": "code",
   "execution_count": 46,
   "metadata": {},
   "outputs": [
    {
     "name": "stderr",
     "output_type": "stream",
     "text": [
      "/var/folders/wz/r4cy79ls0ts94zdts75trjhw0000gn/T/ipykernel_24563/1762684151.py:8: FutureWarning: The default value of numeric_only in DataFrameGroupBy.mean is deprecated. In a future version, numeric_only will default to False. Either specify numeric_only or select only columns which should be valid for the function.\n",
      "  .mean()\n"
     ]
    }
   ],
   "source": [
    "# join post2emotions and post2commentsentiment\n",
    "\n",
    "df = post2emotions.join(post2commentsentiment, how=\"inner\")\n",
    "df = df.explode(\"emotion\")\n",
    "df[\"sentiment\"] = df[\"sentiment\"].map({\"NEG\": -1, \"NEU\": 0, \"POS\": 1})\n",
    "df = (\n",
    "    df.groupby([pd.Grouper(key=\"postedAt\", freq=\"M\"), \"emotion\"])\n",
    "    .mean()\n",
    "    .reset_index(names=[\"postedAt\", \"emotion\", \"sentiment\"])\n",
    ")\n"
   ]
  },
  {
   "cell_type": "code",
   "execution_count": 48,
   "metadata": {},
   "outputs": [
    {
     "name": "stderr",
     "output_type": "stream",
     "text": [
      "/Users/vpetukhov/mambaforge/envs/ea-forum-experiments/lib/python3.10/site-packages/altair/utils/core.py:283: FutureWarning: iteritems is deprecated and will be removed in a future version. Use .items instead.\n",
      "  for col_name, dtype in df.dtypes.iteritems():\n"
     ]
    },
    {
     "data": {
      "text/html": [
       "\n",
       "<div id=\"altair-viz-1a5616ec84f7489398a674a4e44f1e0f\"></div>\n",
       "<script type=\"text/javascript\">\n",
       "  (function(spec, embedOpt){\n",
       "    let outputDiv = document.currentScript.previousElementSibling;\n",
       "    if (outputDiv.id !== \"altair-viz-1a5616ec84f7489398a674a4e44f1e0f\") {\n",
       "      outputDiv = document.getElementById(\"altair-viz-1a5616ec84f7489398a674a4e44f1e0f\");\n",
       "    }\n",
       "    const paths = {\n",
       "      \"vega\": \"https://cdn.jsdelivr.net/npm//vega@5?noext\",\n",
       "      \"vega-lib\": \"https://cdn.jsdelivr.net/npm//vega-lib?noext\",\n",
       "      \"vega-lite\": \"https://cdn.jsdelivr.net/npm//vega-lite@4.8.1?noext\",\n",
       "      \"vega-embed\": \"https://cdn.jsdelivr.net/npm//vega-embed@6?noext\",\n",
       "    };\n",
       "\n",
       "    function loadScript(lib) {\n",
       "      return new Promise(function(resolve, reject) {\n",
       "        var s = document.createElement('script');\n",
       "        s.src = paths[lib];\n",
       "        s.async = true;\n",
       "        s.onload = () => resolve(paths[lib]);\n",
       "        s.onerror = () => reject(`Error loading script: ${paths[lib]}`);\n",
       "        document.getElementsByTagName(\"head\")[0].appendChild(s);\n",
       "      });\n",
       "    }\n",
       "\n",
       "    function showError(err) {\n",
       "      outputDiv.innerHTML = `<div class=\"error\" style=\"color:red;\">${err}</div>`;\n",
       "      throw err;\n",
       "    }\n",
       "\n",
       "    function displayChart(vegaEmbed) {\n",
       "      vegaEmbed(outputDiv, spec, embedOpt)\n",
       "        .catch(err => showError(`Javascript Error: ${err.message}<br>This usually means there's a typo in your chart specification. See the javascript console for the full traceback.`));\n",
       "    }\n",
       "\n",
       "    if(typeof define === \"function\" && define.amd) {\n",
       "      requirejs.config({paths});\n",
       "      require([\"vega-embed\"], displayChart, err => showError(`Error loading script: ${err.message}`));\n",
       "    } else if (typeof vegaEmbed === \"function\") {\n",
       "      displayChart(vegaEmbed);\n",
       "    } else {\n",
       "      loadScript(\"vega\")\n",
       "        .then(() => loadScript(\"vega-lite\"))\n",
       "        .then(() => loadScript(\"vega-embed\"))\n",
       "        .catch(showError)\n",
       "        .then(() => displayChart(vegaEmbed));\n",
       "    }\n",
       "  })({\"config\": {\"view\": {\"continuousWidth\": 400, \"continuousHeight\": 300}}, \"data\": {\"url\": \"altair-data-09e523ba9885c41edbbad432fd061f39.json\", \"format\": {\"type\": \"json\"}}, \"mark\": \"rect\", \"encoding\": {\"color\": {\"type\": \"quantitative\", \"field\": \"sentiment\", \"scale\": {\"scheme\": \"redyellowgreen\"}, \"title\": \"Comment sentiment\"}, \"x\": {\"type\": \"ordinal\", \"field\": \"postedAt\", \"timeUnit\": \"yearmonth\", \"title\": \"Month\"}, \"y\": {\"type\": \"nominal\", \"field\": \"emotion\", \"title\": \"Post emotion\"}}, \"height\": 400, \"width\": 800, \"$schema\": \"https://vega.github.io/schema/vega-lite/v4.8.1.json\"}, {\"mode\": \"vega-lite\"});\n",
       "</script>"
      ],
      "text/plain": [
       "alt.Chart(...)"
      ]
     },
     "execution_count": 48,
     "metadata": {},
     "output_type": "execute_result"
    }
   ],
   "source": [
    "chart = (\n",
    "    alt.Chart(df)\n",
    "    .mark_rect()\n",
    "    .encode(\n",
    "        x=alt.X(\"yearmonth(postedAt):O\", title=\"Month\"),\n",
    "        y=alt.Y(\"emotion:N\", title=\"Post emotion\"),\n",
    "        color=alt.Color(\n",
    "            \"sentiment\",\n",
    "            title=\"Comment sentiment\",\n",
    "            scale=alt.Scale(scheme=\"redyellowgreen\"),\n",
    "        ),\n",
    "    )\n",
    "    .properties(width=800, height=400)\n",
    ")\n",
    "chart.save(slidesp(\"comments_sentiment_by_post_emotion_heatmap.svg\"))\n",
    "chart"
   ]
  },
  {
   "cell_type": "code",
   "execution_count": 49,
   "metadata": {},
   "outputs": [
    {
     "name": "stderr",
     "output_type": "stream",
     "text": [
      "/Users/vpetukhov/mambaforge/envs/ea-forum-experiments/lib/python3.10/site-packages/altair/utils/core.py:283: FutureWarning: iteritems is deprecated and will be removed in a future version. Use .items instead.\n",
      "  for col_name, dtype in df.dtypes.iteritems():\n"
     ]
    },
    {
     "data": {
      "text/html": [
       "\n",
       "<div id=\"altair-viz-eab72f4defec43f88fb75d875bc14aa4\"></div>\n",
       "<script type=\"text/javascript\">\n",
       "  (function(spec, embedOpt){\n",
       "    let outputDiv = document.currentScript.previousElementSibling;\n",
       "    if (outputDiv.id !== \"altair-viz-eab72f4defec43f88fb75d875bc14aa4\") {\n",
       "      outputDiv = document.getElementById(\"altair-viz-eab72f4defec43f88fb75d875bc14aa4\");\n",
       "    }\n",
       "    const paths = {\n",
       "      \"vega\": \"https://cdn.jsdelivr.net/npm//vega@5?noext\",\n",
       "      \"vega-lib\": \"https://cdn.jsdelivr.net/npm//vega-lib?noext\",\n",
       "      \"vega-lite\": \"https://cdn.jsdelivr.net/npm//vega-lite@4.8.1?noext\",\n",
       "      \"vega-embed\": \"https://cdn.jsdelivr.net/npm//vega-embed@6?noext\",\n",
       "    };\n",
       "\n",
       "    function loadScript(lib) {\n",
       "      return new Promise(function(resolve, reject) {\n",
       "        var s = document.createElement('script');\n",
       "        s.src = paths[lib];\n",
       "        s.async = true;\n",
       "        s.onload = () => resolve(paths[lib]);\n",
       "        s.onerror = () => reject(`Error loading script: ${paths[lib]}`);\n",
       "        document.getElementsByTagName(\"head\")[0].appendChild(s);\n",
       "      });\n",
       "    }\n",
       "\n",
       "    function showError(err) {\n",
       "      outputDiv.innerHTML = `<div class=\"error\" style=\"color:red;\">${err}</div>`;\n",
       "      throw err;\n",
       "    }\n",
       "\n",
       "    function displayChart(vegaEmbed) {\n",
       "      vegaEmbed(outputDiv, spec, embedOpt)\n",
       "        .catch(err => showError(`Javascript Error: ${err.message}<br>This usually means there's a typo in your chart specification. See the javascript console for the full traceback.`));\n",
       "    }\n",
       "\n",
       "    if(typeof define === \"function\" && define.amd) {\n",
       "      requirejs.config({paths});\n",
       "      require([\"vega-embed\"], displayChart, err => showError(`Error loading script: ${err.message}`));\n",
       "    } else if (typeof vegaEmbed === \"function\") {\n",
       "      displayChart(vegaEmbed);\n",
       "    } else {\n",
       "      loadScript(\"vega\")\n",
       "        .then(() => loadScript(\"vega-lite\"))\n",
       "        .then(() => loadScript(\"vega-embed\"))\n",
       "        .catch(showError)\n",
       "        .then(() => displayChart(vegaEmbed));\n",
       "    }\n",
       "  })({\"config\": {\"view\": {\"continuousWidth\": 400, \"continuousHeight\": 300}}, \"data\": {\"url\": \"altair-data-09e523ba9885c41edbbad432fd061f39.json\", \"format\": {\"type\": \"json\"}}, \"mark\": \"boxplot\", \"encoding\": {\"x\": {\"type\": \"nominal\", \"field\": \"emotion\", \"sort\": [\"joyful\", \"excited\", \"grateful\", \"sentimental\", \"lonely\", \"guilty\", \"caring\", \"nostalgic\", \"proud\", \"content\", \"confident\", \"jealous\", \"terrified\", \"faithful\", \"prepared\", \"hopeful\", \"anticipating\", \"sad\", \"furious\", \"trusting\", \"annoyed\", \"impressed\", \"surprised\", \"ashamed\", \"disgusted\", \"devastated\", \"anxious\", \"apprehensive\", \"disappointed\", \"afraid\", \"angry\", \"embarrassed\"], \"title\": \"Post emotion\"}, \"y\": {\"type\": \"quantitative\", \"field\": \"sentiment\", \"title\": \"Comment sentiment\"}}, \"$schema\": \"https://vega.github.io/schema/vega-lite/v4.8.1.json\"}, {\"mode\": \"vega-lite\"});\n",
       "</script>"
      ],
      "text/plain": [
       "alt.Chart(...)"
      ]
     },
     "execution_count": 49,
     "metadata": {},
     "output_type": "execute_result"
    }
   ],
   "source": [
    "chart = (\n",
    "    alt.Chart(df)\n",
    "    .mark_boxplot()\n",
    "    .encode(\n",
    "        x=alt.Y(\n",
    "            \"emotion:N\",\n",
    "            title=\"Post emotion\",\n",
    "            sort=df[\"sentiment\"]\n",
    "            .groupby(df[\"emotion\"])\n",
    "            .mean()\n",
    "            .sort_values(ascending=False)\n",
    "            .index.values,\n",
    "        ),\n",
    "        y=alt.Color(\"sentiment\", title=\"Comment sentiment\"),\n",
    "    )\n",
    ")\n",
    "chart.save(slidesp(\"comments_sentiment_by_post_emotion_boxplot.svg\"))\n",
    "chart"
   ]
  }
 ],
 "metadata": {
  "kernelspec": {
   "display_name": "Python 3.9.16 (conda)",
   "language": "python",
   "name": "python3"
  },
  "language_info": {
   "codemirror_mode": {
    "name": "ipython",
    "version": 3
   },
   "file_extension": ".py",
   "mimetype": "text/x-python",
   "name": "python",
   "nbconvert_exporter": "python",
   "pygments_lexer": "ipython3",
   "version": "3.10.10"
  },
  "orig_nbformat": 4,
  "vscode": {
   "interpreter": {
    "hash": "8a959423663df71e04acaf79cb19bd0368bc06df5eec16525215daedf2c535e8"
   }
  }
 },
 "nbformat": 4,
 "nbformat_minor": 2
}
