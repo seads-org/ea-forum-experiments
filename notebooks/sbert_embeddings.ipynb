{
 "cells": [
  {
   "cell_type": "code",
   "execution_count": 1,
   "metadata": {},
   "outputs": [],
   "source": [
    "%load_ext autoreload\n",
    "%autoreload 2\n",
    "\n",
    "import matplotlib.pyplot as plt\n",
    "import numpy as np\n",
    "import pandas as pd\n",
    "from pandas import DataFrame,Series\n",
    "import seaborn as sns\n",
    "from tqdm.notebook import tqdm\n",
    "from datetime import datetime\n",
    "\n",
    "import altair as alt\n",
    "from sklearn.cluster import AgglomerativeClustering\n",
    "from sentence_transformers import SentenceTransformer\n",
    "\n",
    "from src.parsing import *\n",
    "from src.text_split import extract_paragraphs, split_long_paragraphs, collapse_paragraphs_iteratively\n",
    "\n",
    "sns.set_theme(style=\"whitegrid\")\n",
    "tqdm.pandas()"
   ]
  },
  {
   "cell_type": "code",
   "execution_count": 3,
   "metadata": {},
   "outputs": [],
   "source": [
    "model = SentenceTransformer.load('./models/n8-all-MiniLM-L12-v2-2022-11-02_09-49-25')"
   ]
  },
  {
   "cell_type": "code",
   "execution_count": 5,
   "metadata": {},
   "outputs": [],
   "source": [
    "data = read_post_data('./data/posts.csv')\n",
    "data = data[data.htmlBody.notna()].copy()"
   ]
  },
  {
   "cell_type": "code",
   "execution_count": 6,
   "metadata": {},
   "outputs": [
    {
     "data": {
      "application/vnd.jupyter.widget-view+json": {
       "model_id": "547b7e0b38df40099d7f93c40ed23739",
       "version_major": 2,
       "version_minor": 0
      },
      "text/plain": [
       "  0%|          | 0/10779 [00:00<?, ?it/s]"
      ]
     },
     "metadata": {},
     "output_type": "display_data"
    }
   ],
   "source": [
    "h2t = get_html_parser()\n",
    "data['body'] = data.htmlBody.progress_map(h2t.handle).map(str.strip)\n",
    "data = data[data['body'].map(len) > 50].copy()"
   ]
  },
  {
   "cell_type": "markdown",
   "metadata": {},
   "source": [
    "## Split data"
   ]
  },
  {
   "cell_type": "code",
   "execution_count": 7,
   "metadata": {},
   "outputs": [
    {
     "data": {
      "application/vnd.jupyter.widget-view+json": {
       "model_id": "57fa9cbae31948759cbc1a9d8b12a3f9",
       "version_major": 2,
       "version_minor": 0
      },
      "text/plain": [
       "  0%|          | 0/10763 [00:00<?, ?it/s]"
      ]
     },
     "metadata": {},
     "output_type": "display_data"
    },
    {
     "data": {
      "application/vnd.jupyter.widget-view+json": {
       "model_id": "d73d117979f946e886b9bdacfc461070",
       "version_major": 2,
       "version_minor": 0
      },
      "text/plain": [
       "  0%|          | 0/10763 [00:00<?, ?it/s]"
      ]
     },
     "metadata": {},
     "output_type": "display_data"
    },
    {
     "data": {
      "application/vnd.jupyter.widget-view+json": {
       "model_id": "cd0d9532b932471b94056e56a531cb0d",
       "version_major": 2,
       "version_minor": 0
      },
      "text/plain": [
       "  0%|          | 0/10763 [00:00<?, ?it/s]"
      ]
     },
     "metadata": {},
     "output_type": "display_data"
    },
    {
     "name": "stdout",
     "output_type": "stream",
     "text": [
      "Warning: paragraph too long (472 words): ['Hoogman, M., Muetzel, R., Guimaraes, J.P., Shumskaya, E., Mennes, M., Zwiers, M.P., Jahanshad, N., Sudre, G., Wolfers, T., Earl, E.A., Soliva Vila, J.C., Vives-Gilabert, Y., Khadka, S., Novotny, S.E., Hartman, C.A., Heslenfeld, D.J., Schweren, L.J.S., Ambrosino, S., Oranje, B., de Zeeuw, P., Chaim-Avancini, T.M., Rosa, P.G.P., Zanetti, M.V., Malpas, C.B., Kohls, G., von Polier, G.G., Seitz, J., Biederman, J., Doyle, A.E., Dale, A.M., van Erp, T.G.M., Epstein, J.N., Jernigan, T.L., BaurStreubel, R., Ziegler, G.C., Zierhut, K.C., Schrantee, A., Hovik, M.F., Lundervold, A. J., Kelly, C., McCarthy, H., Skokauskas, N., O’Gorman Tuura, R.L., Calvo, A., LeraMiguel, S., Nicolau, R., Chantiluke, K.C., Christakou, A., Vance, A., Cercignani, M., Gabel, M.C., Asherson, P., Baumeister, S., Brandeis, D., Hohmann, S., Bramati, I.E., Tovar-Moll, F., Fallgatter, A.J., Kardatzki, B., Schwarz, L., Anikin, A., Baranov, A., Gogberashvili, T., Kapilushniy, D., Solovieva, A., El Marroun, H., White, T., Karkashadze, G., Namazova-Baranova, L., Ethofer, T., Mattos, P., Banaschewski, T., Coghill, D., Plessen, K.J., Kuntsi, J., Mehta, M.A., Paloyelis, Y., Harrison, N.A., Bellgrove, M.A., Silk, T.J., Cubillo, A.I., Rubia, K., Lazaro, L., Brem, S., Walitza, S., Frodl, T., Zentis, M., Castellanos, F.X., Yoncheva, Y.N., Haavik, J., Reneman, L., Conzelmann, A., Lesch, K.P., Pauli, P., Reif, A., Tamm, L., Konrad, K., Oberwelland Weiss, E., Busatto, G.F., Louza, M.R., Durston, S., Hoekstra, P.J., Oosterlaan, J., Stevens, M.C., Ramos-Quiroga, J.A., Vilarroya, O., Fair, D.A., Nigg, J.T., Thompson, P.M., Buitelaar, J.K., Faraone, S.V., Shaw, P., Tiemeier, H., Bralten, J., Franke, B., 2019.']\n",
      "Warning: paragraph too long (1024 words): [\"[('Father death', 19), ('Childbirth', 16), ('Grandmother death', 13), ('Mother death', 11), ('Car accident', 9), ('Kidney stone', 9), ('Migraine', 9), ('Romantic breakup', 9), ('Broken arm', 6), ('Broken leg', 6), ('Work failure', 6), ('Divorce', 5), ('Pet death', 5), ('Broken foot', 4), ('Broken ankle', 4), ('Broken hand', 4), ('Unspecified', 4), ('Friend death', 4), ('Sister death', 4), ('Skin burns', 3), ('Skin cut needing stitches', 3), ('Financial ruin', 3), ('Property loss', 3), ('Sprained ankle', 3), ('Gallstones', 3), ('Family breakup', 3), ('Divorce of parents', 3), ('C-section recovery', 3), ('Love failure', 2), ('Broken finger', 2), ('Unspecified fracture', 2), ('Broken ribs', 2), ('Unspecified family death', 2), ('Broken collarbone', 2), ('Grandfather death', 2), ('Unspecified illness', 2), ('Period pain', 2), ('Being cheated', 2), ('Financial loss', 2), ('Broken tooth', 2), ('Cousin death', 2), ('Relative with cancer', 2), ('Cluster headache', 2), ('Unspecified leg problem', 2), ('Root canal', 2), ('Back pain', 2), ('Broken nose', 2), ('Aunt death', 2), ('Wisdom teeth', 2), ('Cancer (eye)', 1), ('Appendix operation', 1), ('Dislocated elbow', 1), ('Concussion', 1), ('Mono', 1), ('Sexual assault', 1), ('Kidney infection', 1), ('Hemorrhoids', 1), ('Tattoo', 1), ('Unspecified kidney problem', 1), ('Unspecified lung problem', 1), ('Unspecified cancer', 1), ('Unspecified childhood sickness', 1), ('Broken jaw', 1), ('Broken elbow', 1), ('Thrown out back', 1), ('Lost sentimental item', 1), ('Abortion', 1), ('Ruptured kidney', 1), ('Big fall', 1), ('Torn knee', 1), ('Finger hit by hammer', 1), ('Injured thumb', 1), ('Brother in law death', 1), ('Knocked teeth', 1), ('Unspecified death', 1), ('Ripping off fingernail', 1), ('Personal anger', 1), ('Wrist pain', 1), ('Getting the wind knocked out', 1), ('Blown knee', 1), ('Burst appendix', 1), ('Tooth abscess', 1), ('Tendinitis', 1), ('Altruistic frustration', 1), ('Leg operation', 1), ('Gallbladder infection', 1), ('Broken wrist', 1), ('Stomach flu', 1), ('Running away from family', 1), ('Child beating', 1), ('Sinus infection', 1), ('Broken thumb', 1), ('Family abuse', 1), ('Miscarriage', 1), ('Tooth extraction', 1), ('Feeling like your soul is lost', 1), ('Homelessness', 1), ('Losing your religion', 1), ('Losing bike', 1), ('Family member in prison', 1), ('Crohn s disease', 1), ('Irritable bowel syndrome', 1), ('Family injured', 1), ('Unspecified chronic disease', 1), ('Fibromyalgia', 1), ('Blood clot in toe', 1), ('Infected c-section', 1), ('Suicide of lover', 1), ('Dental extraction', 1), ('Unspecified partner abuse', 1), ('Infertility', 1), ('Father in law death', 1), ('Broken neck', 1), ('Scratched cornea', 1), ('Swollen lymph nodes', 1), ('Sun burns', 1), ('Tooth ache', 1), ('Lost custody of children', 1), ('Unspecified accident', 1), ('Bike accident', 1), ('Broken hip', 1), ('Not being loved by partner', 1), ('Dog bite', 1), ('Broken skull', 1)]\"]\n",
      "Warning: paragraph too long (1024 words): [\"[('Father death', 19), ('Childbirth', 16), ('Grandmother death', 13), ('Mother death', 11), ('Car accident', 9), ('Kidney stone', 9), ('Migraine', 9), ('Romantic breakup', 9), ('Broken arm', 6), ('Broken leg', 6), ('Work failure', 6), ('Divorce', 5), ('Pet death', 5), ('Broken foot', 4), ('Broken ankle', 4), ('Broken hand', 4), ('Unspecified', 4), ('Friend death', 4), ('Sister death', 4), ('Skin burns', 3), ('Skin cut needing stitches', 3), ('Financial ruin', 3), ('Property loss', 3), ('Sprained ankle', 3), ('Gallstones', 3), ('Family breakup', 3), ('Divorce of parents', 3), ('C-section recovery', 3), ('Love failure', 2), ('Broken finger', 2), ('Unspecified fracture', 2), ('Broken ribs', 2), ('Unspecified family death', 2), ('Broken collarbone', 2), ('Grandfather death', 2), ('Unspecified illness', 2), ('Period pain', 2), ('Being cheated', 2), ('Financial loss', 2), ('Broken tooth', 2), ('Cousin death', 2), ('Relative with cancer', 2), ('Cluster headache', 2), ('Unspecified leg problem', 2), ('Root canal', 2), ('Back pain', 2), ('Broken nose', 2), ('Aunt death', 2), ('Wisdom teeth', 2), ('Cancer (eye)', 1), ('Appendix operation', 1), ('Dislocated elbow', 1), ('Concussion', 1), ('Mono', 1), ('Sexual assault', 1), ('Kidney infection', 1), ('Hemorrhoids', 1), ('Tattoo', 1), ('Unspecified kidney problem', 1), ('Unspecified lung problem', 1), ('Unspecified cancer', 1), ('Unspecified childhood sickness', 1), ('Broken jaw', 1), ('Broken elbow', 1), ('Thrown out back', 1), ('Lost sentimental item', 1), ('Abortion', 1), ('Ruptured kidney', 1), ('Big fall', 1), ('Torn knee', 1), ('Finger hit by hammer', 1), ('Injured thumb', 1), ('Brother in law death', 1), ('Knocked teeth', 1), ('Unspecified death', 1), ('Ripping off fingernail', 1), ('Personal anger', 1), ('Wrist pain', 1), ('Getting the wind knocked out', 1), ('Blown knee', 1), ('Burst appendix', 1), ('Tooth abscess', 1), ('Tendinitis', 1), ('Altruistic frustration', 1), ('Leg operation', 1), ('Gallbladder infection', 1), ('Broken wrist', 1), ('Stomach flu', 1), ('Running away from family', 1), ('Child beating', 1), ('Sinus infection', 1), ('Broken thumb', 1), ('Family abuse', 1), ('Miscarriage', 1), ('Tooth extraction', 1), ('Feeling like your soul is lost', 1), ('Homelessness', 1), ('Losing your religion', 1), ('Losing bike', 1), ('Family member in prison', 1), ('Crohn s disease', 1), ('Irritable bowel syndrome', 1), ('Family injured', 1), ('Unspecified chronic disease', 1), ('Fibromyalgia', 1), ('Blood clot in toe', 1), ('Infected c-section', 1), ('Suicide of lover', 1), ('Dental extraction', 1), ('Unspecified partner abuse', 1), ('Infertility', 1), ('Father in law death', 1), ('Broken neck', 1), ('Scratched cornea', 1), ('Swollen lymph nodes', 1), ('Sun burns', 1), ('Tooth ache', 1), ('Lost custody of children', 1), ('Unspecified accident', 1), ('Bike accident', 1), ('Broken hip', 1), ('Not being loved by partner', 1), ('Dog bite', 1), ('Broken skull', 1)]\"]\n",
      "Warning: paragraph too long (1024 words): [\"[('Father death', 19), ('Childbirth', 16), ('Grandmother death', 13), ('Mother death', 11), ('Car accident', 9), ('Kidney stone', 9), ('Migraine', 9), ('Romantic breakup', 9), ('Broken arm', 6), ('Broken leg', 6), ('Work failure', 6), ('Divorce', 5), ('Pet death', 5), ('Broken foot', 4), ('Broken ankle', 4), ('Broken hand', 4), ('Unspecified', 4), ('Friend death', 4), ('Sister death', 4), ('Skin burns', 3), ('Skin cut needing stitches', 3), ('Financial ruin', 3), ('Property loss', 3), ('Sprained ankle', 3), ('Gallstones', 3), ('Family breakup', 3), ('Divorce of parents', 3), ('C-section recovery', 3), ('Love failure', 2), ('Broken finger', 2), ('Unspecified fracture', 2), ('Broken ribs', 2), ('Unspecified family death', 2), ('Broken collarbone', 2), ('Grandfather death', 2), ('Unspecified illness', 2), ('Period pain', 2), ('Being cheated', 2), ('Financial loss', 2), ('Broken tooth', 2), ('Cousin death', 2), ('Relative with cancer', 2), ('Cluster headache', 2), ('Unspecified leg problem', 2), ('Root canal', 2), ('Back pain', 2), ('Broken nose', 2), ('Aunt death', 2), ('Wisdom teeth', 2), ('Cancer (eye)', 1), ('Appendix operation', 1), ('Dislocated elbow', 1), ('Concussion', 1), ('Mono', 1), ('Sexual assault', 1), ('Kidney infection', 1), ('Hemorrhoids', 1), ('Tattoo', 1), ('Unspecified kidney problem', 1), ('Unspecified lung problem', 1), ('Unspecified cancer', 1), ('Unspecified childhood sickness', 1), ('Broken jaw', 1), ('Broken elbow', 1), ('Thrown out back', 1), ('Lost sentimental item', 1), ('Abortion', 1), ('Ruptured kidney', 1), ('Big fall', 1), ('Torn knee', 1), ('Finger hit by hammer', 1), ('Injured thumb', 1), ('Brother in law death', 1), ('Knocked teeth', 1), ('Unspecified death', 1), ('Ripping off fingernail', 1), ('Personal anger', 1), ('Wrist pain', 1), ('Getting the wind knocked out', 1), ('Blown knee', 1), ('Burst appendix', 1), ('Tooth abscess', 1), ('Tendinitis', 1), ('Altruistic frustration', 1), ('Leg operation', 1), ('Gallbladder infection', 1), ('Broken wrist', 1), ('Stomach flu', 1), ('Running away from family', 1), ('Child beating', 1), ('Sinus infection', 1), ('Broken thumb', 1), ('Family abuse', 1), ('Miscarriage', 1), ('Tooth extraction', 1), ('Feeling like your soul is lost', 1), ('Homelessness', 1), ('Losing your religion', 1), ('Losing bike', 1), ('Family member in prison', 1), ('Crohn s disease', 1), ('Irritable bowel syndrome', 1), ('Family injured', 1), ('Unspecified chronic disease', 1), ('Fibromyalgia', 1), ('Blood clot in toe', 1), ('Infected c-section', 1), ('Suicide of lover', 1), ('Dental extraction', 1), ('Unspecified partner abuse', 1), ('Infertility', 1), ('Father in law death', 1), ('Broken neck', 1), ('Scratched cornea', 1), ('Swollen lymph nodes', 1), ('Sun burns', 1), ('Tooth ache', 1), ('Lost custody of children', 1), ('Unspecified accident', 1), ('Bike accident', 1), ('Broken hip', 1), ('Not being loved by partner', 1), ('Dog bite', 1), ('Broken skull', 1)]\"]\n",
      "Warning: paragraph too long (654 words): [\"[('Falling in love', 42), ('Children born', 41), ('Marriage', 21), ('Sex', 19), ('College graduation', 13), ('Orgasm', 11), ('Alcohol', 8), ('Vacation', 6), ('Getting job', 6), ('Personal favorite sports win', 6), ('Nature scene', 5), ('Owning home', 5), ('Sports win', 4), ('Graduating highschool', 4), ('MDMA', 4), ('Getting paid for the first time', 4), ('Amusement park', 4), ('Game of chance earning', 4), ('Job achievement', 4), ('Getting engaged', 4), ('Cannabis', 3), ('Eating favorite food', 3), ('Unexpected gift', 3), ('Moving to a better location', 3), ('Travel', 3), ('Divorce', 2), ('Gifting car', 2), ('Giving to charity', 2), ('LSD', 2), ('Won contest', 2), ('Friend reunion', 2), ('Winning bike', 2), ('Kiss', 2), ('Pet ownership', 2), ('Children', 1), ('First air trip', 1), ('First kiss', 1), ('Public performance', 1), ('Hugs', 1), ('Unspecified', 1), ('Recovering from unspecified kidney problem', 1), ('College party', 1), ('Graduate school start', 1), ('Financial success', 1), ('Dinner with loved one', 1), ('Feeling supported', 1), ('Children graduates from college', 1), ('Family event', 1), ('Participating in TV show', 1), ('Psychedelic mushrooms', 1), ('Opiates', 1), ('Having own place', 1), ('Making music', 1), ('Becoming engaged', 1), ('Theater', 1), ('Extreme sport', 1), ('Armed forces graduation', 1), ('Birthday', 1), ('Positive pregnancy test', 1), ('Feeling that God exists', 1), ('Belief that Hell does not exist', 1), ('Getting car', 1), ('Academic achievement', 1), ('Helping others', 1), ('Meeting soulmate', 1), ('Daughter back home', 1), ('Winning custody of children', 1), ('Friend stops drinking', 1), ('Masturbation', 1), ('Friend not dead after all', 1), ('Child learns to walk', 1), ('Attending wedding of loved one', 1), ('Children safe after dangerous situation', 1), ('Unspecified good news', 1), ('Met personal idol', 1), ('Child learns to talk', 1), ('Children good at school', 1)]\"]\n",
      "Warning: paragraph too long (654 words): [\"[('Falling in love', 42), ('Children born', 41), ('Marriage', 21), ('Sex', 19), ('College graduation', 13), ('Orgasm', 11), ('Alcohol', 8), ('Vacation', 6), ('Getting job', 6), ('Personal favorite sports win', 6), ('Nature scene', 5), ('Owning home', 5), ('Sports win', 4), ('Graduating highschool', 4), ('MDMA', 4), ('Getting paid for the first time', 4), ('Amusement park', 4), ('Game of chance earning', 4), ('Job achievement', 4), ('Getting engaged', 4), ('Cannabis', 3), ('Eating favorite food', 3), ('Unexpected gift', 3), ('Moving to a better location', 3), ('Travel', 3), ('Divorce', 2), ('Gifting car', 2), ('Giving to charity', 2), ('LSD', 2), ('Won contest', 2), ('Friend reunion', 2), ('Winning bike', 2), ('Kiss', 2), ('Pet ownership', 2), ('Children', 1), ('First air trip', 1), ('First kiss', 1), ('Public performance', 1), ('Hugs', 1), ('Unspecified', 1), ('Recovering from unspecified kidney problem', 1), ('College party', 1), ('Graduate school start', 1), ('Financial success', 1), ('Dinner with loved one', 1), ('Feeling supported', 1), ('Children graduates from college', 1), ('Family event', 1), ('Participating in TV show', 1), ('Psychedelic mushrooms', 1), ('Opiates', 1), ('Having own place', 1), ('Making music', 1), ('Becoming engaged', 1), ('Theater', 1), ('Extreme sport', 1), ('Armed forces graduation', 1), ('Birthday', 1), ('Positive pregnancy test', 1), ('Feeling that God exists', 1), ('Belief that Hell does not exist', 1), ('Getting car', 1), ('Academic achievement', 1), ('Helping others', 1), ('Meeting soulmate', 1), ('Daughter back home', 1), ('Winning custody of children', 1), ('Friend stops drinking', 1), ('Masturbation', 1), ('Friend not dead after all', 1), ('Child learns to walk', 1), ('Attending wedding of loved one', 1), ('Children safe after dangerous situation', 1), ('Unspecified good news', 1), ('Met personal idol', 1), ('Child learns to talk', 1), ('Children good at school', 1)]\"]\n",
      "Warning: paragraph too long (654 words): [\"[('Falling in love', 42), ('Children born', 41), ('Marriage', 21), ('Sex', 19), ('College graduation', 13), ('Orgasm', 11), ('Alcohol', 8), ('Vacation', 6), ('Getting job', 6), ('Personal favorite sports win', 6), ('Nature scene', 5), ('Owning home', 5), ('Sports win', 4), ('Graduating highschool', 4), ('MDMA', 4), ('Getting paid for the first time', 4), ('Amusement park', 4), ('Game of chance earning', 4), ('Job achievement', 4), ('Getting engaged', 4), ('Cannabis', 3), ('Eating favorite food', 3), ('Unexpected gift', 3), ('Moving to a better location', 3), ('Travel', 3), ('Divorce', 2), ('Gifting car', 2), ('Giving to charity', 2), ('LSD', 2), ('Won contest', 2), ('Friend reunion', 2), ('Winning bike', 2), ('Kiss', 2), ('Pet ownership', 2), ('Children', 1), ('First air trip', 1), ('First kiss', 1), ('Public performance', 1), ('Hugs', 1), ('Unspecified', 1), ('Recovering from unspecified kidney problem', 1), ('College party', 1), ('Graduate school start', 1), ('Financial success', 1), ('Dinner with loved one', 1), ('Feeling supported', 1), ('Children graduates from college', 1), ('Family event', 1), ('Participating in TV show', 1), ('Psychedelic mushrooms', 1), ('Opiates', 1), ('Having own place', 1), ('Making music', 1), ('Becoming engaged', 1), ('Theater', 1), ('Extreme sport', 1), ('Armed forces graduation', 1), ('Birthday', 1), ('Positive pregnancy test', 1), ('Feeling that God exists', 1), ('Belief that Hell does not exist', 1), ('Getting car', 1), ('Academic achievement', 1), ('Helping others', 1), ('Meeting soulmate', 1), ('Daughter back home', 1), ('Winning custody of children', 1), ('Friend stops drinking', 1), ('Masturbation', 1), ('Friend not dead after all', 1), ('Child learns to walk', 1), ('Attending wedding of loved one', 1), ('Children safe after dangerous situation', 1), ('Unspecified good news', 1), ('Met personal idol', 1), ('Child learns to talk', 1), ('Children good at school', 1)]\"]\n"
     ]
    }
   ],
   "source": [
    "max_n_words = 400\n",
    "data['paragraphs'] = data.body.progress_map(extract_paragraphs)\n",
    "data['paragraphs'] = data.paragraphs.progress_map(lambda p: split_long_paragraphs(p, max_n_words=max_n_words))\n",
    "data['paragraphs_split'] = data.paragraphs.progress_map(lambda x: collapse_paragraphs_iteratively(x, max_n_words=max_n_words))"
   ]
  },
  {
   "cell_type": "code",
   "execution_count": 8,
   "metadata": {},
   "outputs": [
    {
     "data": {
      "text/plain": [
       "(72443, 2)"
      ]
     },
     "execution_count": 8,
     "metadata": {},
     "output_type": "execute_result"
    }
   ],
   "source": [
    "par_split_df = pd.concat([\n",
    "    DataFrame({'postId': pid, 'text': r.paragraphs_split.text.values}) \n",
    "    for pid,r in data.iterrows()\n",
    "], ignore_index=True)\n",
    "par_split_df.shape"
   ]
  },
  {
   "cell_type": "code",
   "execution_count": 9,
   "metadata": {},
   "outputs": [],
   "source": [
    "par_split_df.to_pickle('./data/par_split_df.pkl')"
   ]
  },
  {
   "cell_type": "markdown",
   "metadata": {},
   "source": [
    "## Embed"
   ]
  },
  {
   "cell_type": "markdown",
   "metadata": {},
   "source": [
    "### By paragraphs"
   ]
  },
  {
   "cell_type": "code",
   "execution_count": 47,
   "metadata": {},
   "outputs": [
    {
     "data": {
      "application/vnd.jupyter.widget-view+json": {
       "model_id": "aed0c15b6a114af18da868d2533b5594",
       "version_major": 2,
       "version_minor": 0
      },
      "text/plain": [
       "Batches:   0%|          | 0/3019 [00:00<?, ?it/s]"
      ]
     },
     "metadata": {},
     "output_type": "display_data"
    }
   ],
   "source": [
    "pars_encoded = model.encode(par_split_df.text, batch_size=24, show_progress_bar=True)"
   ]
  },
  {
   "cell_type": "code",
   "execution_count": 50,
   "metadata": {},
   "outputs": [],
   "source": [
    "# TODO: add weights base on n_words\n",
    "posts_encoded = DataFrame(pars_encoded).groupby(par_split_df.postId.values).mean()\n",
    "posts_encoded['body'] = data.body[posts_encoded.index]"
   ]
  },
  {
   "cell_type": "code",
   "execution_count": 51,
   "metadata": {},
   "outputs": [],
   "source": [
    "posts_encoded.to_csv(\"./cache/posts_encoded.csv\")"
   ]
  },
  {
   "cell_type": "markdown",
   "metadata": {},
   "source": [
    "### By paragraph, baseline model"
   ]
  },
  {
   "cell_type": "markdown",
   "metadata": {},
   "source": [
    "TODO:\n",
    "- Make baseline embedding\n",
    "- Test Parametric UMAP for the best model"
   ]
  },
  {
   "cell_type": "code",
   "execution_count": 10,
   "metadata": {},
   "outputs": [],
   "source": [
    "model_baseline = SentenceTransformer.load('all-MiniLM-L12-v2')"
   ]
  },
  {
   "cell_type": "code",
   "execution_count": 11,
   "metadata": {},
   "outputs": [
    {
     "data": {
      "application/vnd.jupyter.widget-view+json": {
       "model_id": "961f4917157f465e99a7b569bc7d0bca",
       "version_major": 2,
       "version_minor": 0
      },
      "text/plain": [
       "Batches:   0%|          | 0/3019 [00:00<?, ?it/s]"
      ]
     },
     "metadata": {},
     "output_type": "display_data"
    }
   ],
   "source": [
    "pars_encoded_baseline = model_baseline.encode(par_split_df.text, batch_size=24, show_progress_bar=True)"
   ]
  },
  {
   "cell_type": "code",
   "execution_count": null,
   "metadata": {},
   "outputs": [],
   "source": [
    "posts_encoded_baseline = DataFrame(pars_encoded_baseline).groupby(par_split_df.postId.values).mean()\n",
    "posts_encoded_baseline['body'] = data.body[posts_encoded_baseline.index]\n",
    "posts_encoded_baseline.to_csv(\"./cache/posts_encoded__baseline_minilm_l12.csv\")"
   ]
  },
  {
   "cell_type": "markdown",
   "metadata": {},
   "source": [
    "### By sentences"
   ]
  },
  {
   "cell_type": "markdown",
   "metadata": {},
   "source": [
    "**This code was abandoned as processing by sentence is too time and memory intensive**"
   ]
  },
  {
   "cell_type": "code",
   "execution_count": 57,
   "metadata": {},
   "outputs": [],
   "source": [
    "from nltk.tokenize import PunktSentenceTokenizer\n",
    "sent_tokenizer = PunktSentenceTokenizer(\"\\n\\n\".join(data.body.values))"
   ]
  },
  {
   "cell_type": "code",
   "execution_count": 58,
   "metadata": {},
   "outputs": [
    {
     "data": {
      "application/vnd.jupyter.widget-view+json": {
       "model_id": "2d4d0b7febc3459faad9a33f33aeedcd",
       "version_major": 2,
       "version_minor": 0
      },
      "text/plain": [
       "  0%|          | 0/10763 [00:00<?, ?it/s]"
      ]
     },
     "metadata": {},
     "output_type": "display_data"
    }
   ],
   "source": [
    "sents_per_post = data.body.progress_map(sent_tokenizer.tokenize)"
   ]
  },
  {
   "cell_type": "code",
   "execution_count": 68,
   "metadata": {},
   "outputs": [],
   "source": [
    "all_sents = np.concatenate(sents_per_post.values)"
   ]
  },
  {
   "cell_type": "code",
   "execution_count": 71,
   "metadata": {},
   "outputs": [],
   "source": [
    "sents_encoded = model.encode(all_sents, batch_size=24, show_progress_bar=True)"
   ]
  },
  {
   "cell_type": "code",
   "execution_count": 1,
   "metadata": {},
   "outputs": [],
   "source": [
    "# posts_encoded_by_sents = sents_per_post.progress_map(lambda sts: model.encode(sts, batch_size=24).mean(axis=0))"
   ]
  },
  {
   "cell_type": "code",
   "execution_count": 2,
   "metadata": {},
   "outputs": [],
   "source": [
    "# sents_encoded = model.encode(par_split_df.text, batch_size=24, show_progress_bar=True)"
   ]
  },
  {
   "cell_type": "markdown",
   "metadata": {},
   "source": [
    "## Analyse"
   ]
  },
  {
   "cell_type": "code",
   "execution_count": 26,
   "metadata": {},
   "outputs": [
    {
     "ename": "ModuleNotFoundError",
     "evalue": "No module named 'igraph'",
     "output_type": "error",
     "traceback": [
      "\u001b[0;31m---------------------------------------------------------------------------\u001b[0m",
      "\u001b[0;31mModuleNotFoundError\u001b[0m                       Traceback (most recent call last)",
      "\u001b[1;32m/home/vpetukhov/other/Consulting/SEADS/EAForumExperiments/sbert_embeddings.ipynb Cell 9\u001b[0m in \u001b[0;36m<cell line: 6>\u001b[0;34m()\u001b[0m\n\u001b[1;32m      <a href='vscode-notebook-cell:/home/vpetukhov/other/Consulting/SEADS/EAForumExperiments/sbert_embeddings.ipynb#X21sZmlsZQ%3D%3D?line=2'>3</a>\u001b[0m \u001b[39mimport\u001b[39;00m \u001b[39msys\u001b[39;00m\n\u001b[1;32m      <a href='vscode-notebook-cell:/home/vpetukhov/other/Consulting/SEADS/EAForumExperiments/sbert_embeddings.ipynb#X21sZmlsZQ%3D%3D?line=3'>4</a>\u001b[0m sys\u001b[39m.\u001b[39mpath\u001b[39m.\u001b[39mappend(\u001b[39m\"\u001b[39m\u001b[39m/home/vpetukhov/other/NLPProjects/DMTransfer/\u001b[39m\u001b[39m\"\u001b[39m)\n\u001b[0;32m----> <a href='vscode-notebook-cell:/home/vpetukhov/other/Consulting/SEADS/EAForumExperiments/sbert_embeddings.ipynb#X21sZmlsZQ%3D%3D?line=5'>6</a>\u001b[0m \u001b[39mfrom\u001b[39;00m \u001b[39mscripts\u001b[39;00m\u001b[39m.\u001b[39;00m\u001b[39mgraph_clustering\u001b[39;00m \u001b[39mimport\u001b[39;00m get_igraph_from_umap_graph\n\u001b[1;32m      <a href='vscode-notebook-cell:/home/vpetukhov/other/Consulting/SEADS/EAForumExperiments/sbert_embeddings.ipynb#X21sZmlsZQ%3D%3D?line=7'>8</a>\u001b[0m \u001b[39mfrom\u001b[39;00m \u001b[39mtqdm\u001b[39;00m\u001b[39m.\u001b[39;00m\u001b[39mnotebook\u001b[39;00m \u001b[39mimport\u001b[39;00m tqdm\n\u001b[1;32m      <a href='vscode-notebook-cell:/home/vpetukhov/other/Consulting/SEADS/EAForumExperiments/sbert_embeddings.ipynb#X21sZmlsZQ%3D%3D?line=8'>9</a>\u001b[0m tqdm\u001b[39m.\u001b[39mpandas()\n",
      "File \u001b[0;32m~/other/NLPProjects/DMTransfer/scripts/graph_clustering.py:6\u001b[0m, in \u001b[0;36m<module>\u001b[0;34m\u001b[0m\n\u001b[1;32m      4\u001b[0m \u001b[39mimport\u001b[39;00m \u001b[39mnumpy\u001b[39;00m \u001b[39mas\u001b[39;00m \u001b[39mnp\u001b[39;00m\n\u001b[1;32m      5\u001b[0m \u001b[39mimport\u001b[39;00m \u001b[39mpandas\u001b[39;00m \u001b[39mas\u001b[39;00m \u001b[39mpd\u001b[39;00m\n\u001b[0;32m----> 6\u001b[0m \u001b[39mimport\u001b[39;00m \u001b[39migraph\u001b[39;00m \u001b[39mas\u001b[39;00m \u001b[39mig\u001b[39;00m\n\u001b[1;32m      7\u001b[0m \u001b[39mimport\u001b[39;00m \u001b[39mleidenalg\u001b[39;00m \u001b[39mas\u001b[39;00m \u001b[39mla\u001b[39;00m\n\u001b[1;32m      8\u001b[0m \u001b[39mfrom\u001b[39;00m \u001b[39mgraphviz\u001b[39;00m \u001b[39mimport\u001b[39;00m Graph\n",
      "\u001b[0;31mModuleNotFoundError\u001b[0m: No module named 'igraph'"
     ]
    }
   ],
   "source": [
    "from src.mnn_umap import prepare_umap_graph, full_umap\n",
    "\n",
    "import sys\n",
    "sys.path.append(\"/home/vpetukhov/other/NLPProjects/DMTransfer/\")\n",
    "\n",
    "from scripts.graph_clustering import get_igraph_from_umap_graph\n",
    "\n",
    "from tqdm.notebook import tqdm\n",
    "tqdm.pandas()"
   ]
  },
  {
   "cell_type": "code",
   "execution_count": 23,
   "metadata": {},
   "outputs": [],
   "source": [
    "umap_graph = prepare_umap_graph(posts_encoded, metric=\"cosine\", init_nn=30, connectivity=\"min_tree\", verbose=False)"
   ]
  },
  {
   "cell_type": "code",
   "execution_count": 24,
   "metadata": {},
   "outputs": [
    {
     "name": "stderr",
     "output_type": "stream",
     "text": [
      "/home/vpetukhov/local/miniconda3/envs/nlp/lib/python3.8/site-packages/umap/umap_.py:1356: RuntimeWarning: divide by zero encountered in power\n",
      "  return 1.0 / (1.0 + a * x ** (2 * b))\n"
     ]
    },
    {
     "data": {
      "application/vnd.jupyter.widget-view+json": {
       "model_id": "e8ca67c60da8486cb23933b9439a9f31",
       "version_major": 2,
       "version_minor": 0
      },
      "text/plain": [
       "  0%|          | 0/2000 [00:00<?, ?it/s]"
      ]
     },
     "metadata": {},
     "output_type": "display_data"
    }
   ],
   "source": [
    "mnn_emb = full_umap(\n",
    "    posts_encoded, umap_graph, spread=10, min_dist=0.5, metric=\"cosine\", random_state=42, verbose=True, n_epochs=2000\n",
    ")"
   ]
  },
  {
   "cell_type": "code",
   "execution_count": 25,
   "metadata": {},
   "outputs": [
    {
     "data": {
      "image/png": "[encoded data removed]",
      "text/plain": [
       "<Figure size 640x480 with 1 Axes>"
      ]
     },
     "metadata": {},
     "output_type": "display_data"
    }
   ],
   "source": [
    "plt.scatter(mnn_emb[:,0], mnn_emb[:,1], s=1.0, marker='o', alpha=0.1);"
   ]
  },
  {
   "cell_type": "code",
   "execution_count": null,
   "metadata": {},
   "outputs": [],
   "source": [
    "i_graph = get_igraph_from_umap_graph(None, graph=umap_graph)"
   ]
  }
 ],
 "metadata": {
  "kernelspec": {
   "display_name": "EAForumExperiments",
   "language": "python",
   "name": "eaforumexperiments"
  },
  "language_info": {
   "codemirror_mode": {
    "name": "ipython",
    "version": 3
   },
   "file_extension": ".py",
   "mimetype": "text/x-python",
   "name": "python",
   "nbconvert_exporter": "python",
   "pygments_lexer": "ipython3",
   "version": "3.8.13"
  },
  "orig_nbformat": 4,
  "vscode": {
   "interpreter": {
    "hash": "ad7d260c95659805d92b04087393df0efbdd41c5e42846f3b5e40e1bb80503d9"
   }
  }
 },
 "nbformat": 4,
 "nbformat_minor": 2
}
