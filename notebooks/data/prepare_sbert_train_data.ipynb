{
 "cells": [
  {
   "cell_type": "markdown",
   "metadata": {},
   "source": [
    "This notebook extracts well-tagged posts and splits them over chunks no more than 300 words, trying to preserve paragraph structure."
   ]
  },
  {
   "cell_type": "code",
   "execution_count": 1,
   "metadata": {},
   "outputs": [],
   "source": [
    "import matplotlib.pyplot as plt\n",
    "import numpy as np\n",
    "import re\n",
    "import pandas as pd\n",
    "from pandas import DataFrame,Series\n",
    "import seaborn as sns\n",
    "from tqdm.auto import tqdm\n",
    "import json\n",
    "from datasets import Dataset, DatasetDict\n",
    "\n",
    "from src.parsing import read_post_data, get_html_parser\n",
    "from src.text_split import extract_paragraphs, split_long_paragraphs, collapse_paragraphs_iteratively\n",
    "from src.paths import *\n",
    "\n",
    "import wandb\n",
    "from dotenv import load_dotenv\n",
    "load_dotenv()\n",
    "\n",
    "import nltk\n",
    "nltk.download('punkt')\n",
    "\n",
    "sns.set_theme(style=\"whitegrid\")\n",
    "tqdm.pandas()"
   ]
  },
  {
   "cell_type": "code",
   "execution_count": 3,
   "metadata": {},
   "outputs": [
    {
     "name": "stderr",
     "output_type": "stream",
     "text": [
      "\u001b[34m\u001b[1mwandb\u001b[0m: Currently logged in as: \u001b[33mvpetukhov\u001b[0m. Use \u001b[1m`wandb login --relogin`\u001b[0m to force relogin\n"
     ]
    },
    {
     "data": {
      "text/html": [
       "Tracking run with wandb version 0.13.5"
      ],
      "text/plain": [
       "<IPython.core.display.HTML object>"
      ]
     },
     "metadata": {},
     "output_type": "display_data"
    },
    {
     "data": {
      "text/html": [
       "Run data is saved locally in <code>/notebooks/wandb/run-20221108_112004-1jjh0bub</code>"
      ],
      "text/plain": [
       "<IPython.core.display.HTML object>"
      ]
     },
     "metadata": {},
     "output_type": "display_data"
    },
    {
     "data": {
      "text/html": [
       "Syncing run <strong><a href=\"https://wandb.ai/vpetukhov/ea-forum-analysis/runs/1jjh0bub\" target=\"_blank\">pleasant-deluge-11</a></strong> to <a href=\"https://wandb.ai/vpetukhov/ea-forum-analysis\" target=\"_blank\">Weights & Biases</a> (<a href=\"https://wandb.me/run\" target=\"_blank\">docs</a>)<br/>"
      ],
      "text/plain": [
       "<IPython.core.display.HTML object>"
      ]
     },
     "metadata": {},
     "output_type": "display_data"
    }
   ],
   "source": [
    "wandb.login() # relies on WANDB_API_KEY env var\n",
    "run = wandb.init(project=\"ea-forum-analysis\", job_type=\"data_processing\", dir=get_project_root())"
   ]
  },
  {
   "cell_type": "code",
   "execution_count": 29,
   "metadata": {},
   "outputs": [
    {
     "name": "stderr",
     "output_type": "stream",
     "text": [
      "\u001b[34m\u001b[1mwandb\u001b[0m: Downloading large artifact posts_raw:latest, 272.30MB. 3 files... \n",
      "\u001b[34m\u001b[1mwandb\u001b[0m:   3 of 3 files downloaded.  \n",
      "Done. 0:0:0.0\n"
     ]
    },
    {
     "data": {
      "text/plain": [
       "(11020, 16)"
      ]
     },
     "execution_count": 29,
     "metadata": {},
     "output_type": "execute_result"
    }
   ],
   "source": [
    "data = Dataset.load_from_disk(run.use_artifact(\"posts_raw:latest\").download()).to_pandas()\n",
    "data.shape"
   ]
  },
  {
   "cell_type": "code",
   "execution_count": 30,
   "metadata": {},
   "outputs": [
    {
     "data": {
      "text/plain": [
       "2172"
      ]
     },
     "execution_count": 30,
     "metadata": {},
     "output_type": "execute_result"
    }
   ],
   "source": [
    "n_posts_per_tag = pd.value_counts(np.concatenate(data.tags.values))\n",
    "sel_tags = set(n_posts_per_tag.index[n_posts_per_tag >= 30])\n",
    "data['tags'] = data.tags.map(lambda ts: list(set(ts) & sel_tags))\n",
    "data = data[(data.tags.map(len) >= 4) & (data.tags.map(len) < 10)]\n",
    "data = data[data['body'].map(str.strip).map(len) > 50]\n",
    "data.shape[0]"
   ]
  },
  {
   "cell_type": "code",
   "execution_count": 32,
   "metadata": {},
   "outputs": [
    {
     "name": "stderr",
     "output_type": "stream",
     "text": [
      "[nltk_data] Downloading package punkt to /root/nltk_data...\n",
      "[nltk_data]   Unzipping tokenizers/punkt.zip.\n"
     ]
    },
    {
     "data": {
      "text/plain": [
       "True"
      ]
     },
     "execution_count": 32,
     "metadata": {},
     "output_type": "execute_result"
    }
   ],
   "source": []
  },
  {
   "cell_type": "code",
   "execution_count": 33,
   "metadata": {},
   "outputs": [
    {
     "data": {
      "application/vnd.jupyter.widget-view+json": {
       "model_id": "75493b11b07b45b39348544e9f4a3b12",
       "version_major": 2,
       "version_minor": 0
      },
      "text/plain": [
       "  0%|          | 0/2172 [00:00<?, ?it/s]"
      ]
     },
     "metadata": {},
     "output_type": "display_data"
    },
    {
     "data": {
      "application/vnd.jupyter.widget-view+json": {
       "model_id": "23ba06b914534abf99eaebb65c0369a5",
       "version_major": 2,
       "version_minor": 0
      },
      "text/plain": [
       "  0%|          | 0/2172 [00:00<?, ?it/s]"
      ]
     },
     "metadata": {},
     "output_type": "display_data"
    },
    {
     "data": {
      "application/vnd.jupyter.widget-view+json": {
       "model_id": "420f8e0ee4904b6face80cd35474b594",
       "version_major": 2,
       "version_minor": 0
      },
      "text/plain": [
       "  0%|          | 0/2172 [00:00<?, ?it/s]"
      ]
     },
     "metadata": {},
     "output_type": "display_data"
    }
   ],
   "source": [
    "max_n_words = 300\n",
    "data['paragraphs'] = data.body.progress_map(extract_paragraphs)\n",
    "data['paragraphs'] = data.paragraphs.progress_map(lambda p: split_long_paragraphs(p, max_n_words=max_n_words))\n",
    "data['paragraphs_split'] = data.paragraphs.progress_map(lambda x: collapse_paragraphs_iteratively(x, max_n_words=max_n_words))"
   ]
  },
  {
   "cell_type": "code",
   "execution_count": 34,
   "metadata": {},
   "outputs": [
    {
     "data": {
      "text/plain": [
       "(31798, 3)"
      ]
     },
     "execution_count": 34,
     "metadata": {},
     "output_type": "execute_result"
    }
   ],
   "source": [
    "par_split_df = pd.concat([\n",
    "    DataFrame({'postId': pid, 'tags': \";\".join(r.tags), 'text': r.paragraphs_split.text.values}) \n",
    "    for pid,r in data.iterrows()\n",
    "], ignore_index=True)\n",
    "par_split_df.shape"
   ]
  },
  {
   "cell_type": "code",
   "execution_count": 35,
   "metadata": {},
   "outputs": [],
   "source": [
    "np.random.seed(42)\n",
    "all_posts = par_split_df.postId.unique()\n",
    "dev_posts = np.random.choice(all_posts, size=int(all_posts.size * 0.1), replace=False)\n",
    "\n",
    "train_pars = par_split_df[~par_split_df.postId.isin(dev_posts)]\n",
    "dev_pars = par_split_df[par_split_df.postId.isin(dev_posts)]"
   ]
  },
  {
   "cell_type": "code",
   "execution_count": 36,
   "metadata": {},
   "outputs": [],
   "source": [
    "def jaccard_similarity(a:set, b:set):\n",
    "    return len(a & b) / len(a | b)\n",
    "\n",
    "\n",
    "def extract_paired_posts(post_id:str, selected_sims:np.ndarray, tags_per_post:Series, n_texts_per_post:int=1):\n",
    "    t1 = tags_per_post[post_id]\n",
    "    sims = tags_per_post.map(lambda t2: jaccard_similarity(t1, t2))\n",
    "    freqs = [(1 - np.abs(sims - s)) ** 30 for s in selected_sims] # 30 is a severe penalty for distance. Adjusts for class imbalance.\n",
    "    sel_posts = np.concatenate([\n",
    "        np.random.choice(fs.index.values, p=(fs.values / fs.sum()), size=n_texts_per_post, replace=True) \n",
    "        for fs in freqs\n",
    "    ])\n",
    "\n",
    "    return sel_posts, sims[sel_posts].values\n",
    "\n",
    "\n",
    "def extract_text_distance_pairs(df:DataFrame, tags_per_post:Series, n_pairs_per_text:int, n_texts_per_post:int=1):\n",
    "    selected_sims = np.linspace(0, 1, n_pairs_per_text)\n",
    "\n",
    "    texts_per_post = df.text.groupby(df.postId).apply(np.array)\n",
    "    tags_per_post = tags_per_post[texts_per_post.index]\n",
    "    texts_per_post = dict(texts_per_post)\n",
    "\n",
    "    pair_dfs = []\n",
    "    for pid,texts in tqdm(texts_per_post.items(), total=len(texts_per_post)):\n",
    "        src_texts = np.random.choice(texts, size=(n_texts_per_post * n_pairs_per_text), replace=True)\n",
    "        dst_pids, dst_sims = extract_paired_posts(\n",
    "            pid, selected_sims=selected_sims, tags_per_post=tags_per_post, \n",
    "            n_texts_per_post=n_texts_per_post\n",
    "        )\n",
    "        dst_texts = np.concatenate([np.random.choice(texts_per_post[pid], size=1, replace=True) for pid in dst_pids])\n",
    "        pair_dfs.append(DataFrame({'src_text': src_texts, 'dst_text': dst_texts, 'src_post_id': pid, 'dst_post_id': dst_pids, 'sims': dst_sims}))\n",
    "    \n",
    "    pair_df = pd.concat(pair_dfs, ignore_index=True)\n",
    "    pair_df = pair_df[~pair_df[['src_text', 'dst_text']].duplicated()]\n",
    "    reverse_pairs = set(pair_df.dst_text + ' ' + pair_df.src_text)\n",
    "    reverse_mask = np.array([(t in reverse_pairs) for t in (pair_df.src_text + ' ' + pair_df.dst_text)])\n",
    "    pair_df = pair_df[~reverse_mask]\n",
    "\n",
    "    return pair_df.reset_index(drop=True)"
   ]
  },
  {
   "cell_type": "code",
   "execution_count": 37,
   "metadata": {},
   "outputs": [],
   "source": [
    "tags_per_post = data.tags[all_posts].map(set)"
   ]
  },
  {
   "cell_type": "code",
   "execution_count": 66,
   "metadata": {},
   "outputs": [
    {
     "data": {
      "application/vnd.jupyter.widget-view+json": {
       "model_id": "bae73f926a4e4abdbc3d56130174728d",
       "version_major": 2,
       "version_minor": 0
      },
      "text/plain": [
       "  0%|          | 0/1955 [00:00<?, ?it/s]"
      ]
     },
     "metadata": {},
     "output_type": "display_data"
    },
    {
     "data": {
      "text/plain": [
       "(174991, 5)"
      ]
     },
     "execution_count": 66,
     "metadata": {},
     "output_type": "execute_result"
    }
   ],
   "source": [
    "train_pair_df = extract_text_distance_pairs(train_pars, tags_per_post, n_pairs_per_text=12, n_texts_per_post=10)\n",
    "train_pair_df.shape"
   ]
  },
  {
   "cell_type": "code",
   "execution_count": 67,
   "metadata": {},
   "outputs": [
    {
     "data": {
      "image/png": "[encoded data removed]",
      "text/plain": [
       "<Figure size 432x288 with 1 Axes>"
      ]
     },
     "metadata": {
      "needs_background": "light"
     },
     "output_type": "display_data"
    }
   ],
   "source": [
    "train_pair_df.sims.hist(bins=30);\n",
    "plt.xlabel('Jaccard similarity'); plt.ylabel('Num. of pairs');"
   ]
  },
  {
   "cell_type": "code",
   "execution_count": 68,
   "metadata": {},
   "outputs": [
    {
     "data": {
      "application/vnd.jupyter.widget-view+json": {
       "model_id": "152dfb4c068840a4afd82c077e2b85f9",
       "version_major": 2,
       "version_minor": 0
      },
      "text/plain": [
       "  0%|          | 0/217 [00:00<?, ?it/s]"
      ]
     },
     "metadata": {},
     "output_type": "display_data"
    },
    {
     "data": {
      "text/plain": [
       "(4220, 5)"
      ]
     },
     "execution_count": 68,
     "metadata": {},
     "output_type": "execute_result"
    }
   ],
   "source": [
    "dev_pair_df = extract_text_distance_pairs(dev_pars, tags_per_post, n_pairs_per_text=12, n_texts_per_post=2)\n",
    "dev_pair_df.shape"
   ]
  },
  {
   "cell_type": "code",
   "execution_count": 71,
   "metadata": {},
   "outputs": [
    {
     "data": {
      "text/plain": [
       "DatasetDict({\n",
       "    train: Dataset({\n",
       "        features: ['src_text', 'dst_text', 'src_post_id', 'dst_post_id', 'sims'],\n",
       "        num_rows: 174991\n",
       "    })\n",
       "    dev: Dataset({\n",
       "        features: ['src_text', 'dst_text', 'src_post_id', 'dst_post_id', 'sims'],\n",
       "        num_rows: 4220\n",
       "    })\n",
       "})"
      ]
     },
     "execution_count": 71,
     "metadata": {},
     "output_type": "execute_result"
    }
   ],
   "source": [
    "dataset = DatasetDict({\"train\": Dataset.from_pandas(train_pair_df), \"dev\": Dataset.from_pandas(dev_pair_df)})\n",
    "dataset.save_to_disk(datap('post_pairs'))\n",
    "dataset"
   ]
  },
  {
   "cell_type": "code",
   "execution_count": 72,
   "metadata": {},
   "outputs": [
    {
     "name": "stderr",
     "output_type": "stream",
     "text": [
      "\u001b[34m\u001b[1mwandb\u001b[0m: Adding directory to artifact (/notebooks/data/post_pairs)... Done. 2.9s\n"
     ]
    },
    {
     "data": {
      "text/plain": [
       "<wandb.sdk.wandb_artifacts.Artifact at 0x7fd2bba30f10>"
      ]
     },
     "execution_count": 72,
     "metadata": {},
     "output_type": "execute_result"
    }
   ],
   "source": [
    "art = wandb.Artifact(\"post_pairs\", type=\"dataset\")\n",
    "art.add_dir(datap('post_pairs'))\n",
    "run.log_artifact(art)"
   ]
  },
  {
   "cell_type": "code",
   "execution_count": 73,
   "metadata": {},
   "outputs": [
    {
     "data": {
      "text/html": [
       "Waiting for W&B process to finish... <strong style=\"color:green\">(success).</strong>"
      ],
      "text/plain": [
       "<IPython.core.display.HTML object>"
      ]
     },
     "metadata": {},
     "output_type": "display_data"
    },
    {
     "data": {
      "text/html": [
       "Synced <strong style=\"color:#cdcd00\">pleasant-deluge-11</strong>: <a href=\"https://wandb.ai/vpetukhov/ea-forum-analysis/runs/1jjh0bub\" target=\"_blank\">https://wandb.ai/vpetukhov/ea-forum-analysis/runs/1jjh0bub</a><br/>Synced 5 W&B file(s), 0 media file(s), 6 artifact file(s) and 0 other file(s)"
      ],
      "text/plain": [
       "<IPython.core.display.HTML object>"
      ]
     },
     "metadata": {},
     "output_type": "display_data"
    },
    {
     "data": {
      "text/html": [
       "Find logs at: <code>./wandb/run-20221108_112004-1jjh0bub/logs</code>"
      ],
      "text/plain": [
       "<IPython.core.display.HTML object>"
      ]
     },
     "metadata": {},
     "output_type": "display_data"
    }
   ],
   "source": [
    "wandb.finish()"
   ]
  }
 ],
 "metadata": {
  "kernelspec": {
   "display_name": "Python 3 (ipykernel)",
   "language": "python",
   "name": "python3"
  },
  "language_info": {
   "codemirror_mode": {
    "name": "ipython",
    "version": 3
   },
   "file_extension": ".py",
   "mimetype": "text/x-python",
   "name": "python",
   "nbconvert_exporter": "python",
   "pygments_lexer": "ipython3",
   "version": "3.9.13"
  },
  "orig_nbformat": 4,
  "vscode": {
   "interpreter": {
    "hash": "94600d5031569c7617ef443af57f47df7391674c50ebfb7f636fa8887522be49"
   }
  }
 },
 "nbformat": 4,
 "nbformat_minor": 2
}
